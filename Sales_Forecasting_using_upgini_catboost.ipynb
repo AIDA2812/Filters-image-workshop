{
  "nbformat": 4,
  "nbformat_minor": 0,
  "metadata": {
    "colab": {
      "provenance": [],
      "authorship_tag": "ABX9TyNFNIGv3Xl0MvxWqGjnTE4T",
      "include_colab_link": true
    },
    "kernelspec": {
      "name": "python3",
      "display_name": "Python 3"
    },
    "language_info": {
      "name": "python"
    },
    "widgets": {
      "application/vnd.jupyter.widget-state+json": {
        "7e74d33940f04ef3a7a47b3af5afbad9": {
          "model_module": "@jupyter-widgets/controls",
          "model_name": "ButtonModel",
          "model_module_version": "1.5.0",
          "state": {
            "_dom_classes": [
              "custom-button"
            ],
            "_model_module": "@jupyter-widgets/controls",
            "_model_module_version": "1.5.0",
            "_model_name": "ButtonModel",
            "_view_count": null,
            "_view_module": "@jupyter-widgets/controls",
            "_view_module_version": "1.5.0",
            "_view_name": "ButtonView",
            "button_style": "",
            "description": "Get an API KEY",
            "disabled": false,
            "icon": "",
            "layout": "IPY_MODEL_7fccf0d94b494f4082340c779ffeb6cc",
            "style": "IPY_MODEL_d12fdf617437453f87359679030faf87",
            "tooltip": "Register"
          }
        },
        "7fccf0d94b494f4082340c779ffeb6cc": {
          "model_module": "@jupyter-widgets/base",
          "model_name": "LayoutModel",
          "model_module_version": "1.2.0",
          "state": {
            "_model_module": "@jupyter-widgets/base",
            "_model_module_version": "1.2.0",
            "_model_name": "LayoutModel",
            "_view_count": null,
            "_view_module": "@jupyter-widgets/base",
            "_view_module_version": "1.2.0",
            "_view_name": "LayoutView",
            "align_content": null,
            "align_items": null,
            "align_self": null,
            "border": null,
            "bottom": null,
            "display": null,
            "flex": null,
            "flex_flow": null,
            "grid_area": null,
            "grid_auto_columns": null,
            "grid_auto_flow": null,
            "grid_auto_rows": null,
            "grid_column": null,
            "grid_gap": null,
            "grid_row": null,
            "grid_template_areas": null,
            "grid_template_columns": null,
            "grid_template_rows": null,
            "height": null,
            "justify_content": null,
            "justify_items": null,
            "left": null,
            "margin": null,
            "max_height": null,
            "max_width": null,
            "min_height": null,
            "min_width": null,
            "object_fit": null,
            "object_position": null,
            "order": null,
            "overflow": null,
            "overflow_x": null,
            "overflow_y": null,
            "padding": null,
            "right": null,
            "top": null,
            "visibility": null,
            "width": "auto"
          }
        },
        "d12fdf617437453f87359679030faf87": {
          "model_module": "@jupyter-widgets/controls",
          "model_name": "ButtonStyleModel",
          "model_module_version": "1.5.0",
          "state": {
            "_model_module": "@jupyter-widgets/controls",
            "_model_module_version": "1.5.0",
            "_model_name": "ButtonStyleModel",
            "_view_count": null,
            "_view_module": "@jupyter-widgets/base",
            "_view_module_version": "1.2.0",
            "_view_name": "StyleView",
            "button_color": null,
            "font_weight": ""
          }
        },
        "0daf8373a807415d9a2fccd7538cb98d": {
          "model_module": "@jupyter-widgets/controls",
          "model_name": "ButtonModel",
          "model_module_version": "1.5.0",
          "state": {
            "_dom_classes": [
              "custom-button"
            ],
            "_model_module": "@jupyter-widgets/controls",
            "_model_module_version": "1.5.0",
            "_model_name": "ButtonModel",
            "_view_count": null,
            "_view_module": "@jupyter-widgets/controls",
            "_view_module_version": "1.5.0",
            "_view_name": "ButtonView",
            "button_style": "",
            "description": "Get an API KEY",
            "disabled": false,
            "icon": "",
            "layout": "IPY_MODEL_6138fafd4bb242feb18909ebc5b7df43",
            "style": "IPY_MODEL_4f5dae681d854ab7a5a2f828bd8f3a64",
            "tooltip": "Register"
          }
        },
        "6138fafd4bb242feb18909ebc5b7df43": {
          "model_module": "@jupyter-widgets/base",
          "model_name": "LayoutModel",
          "model_module_version": "1.2.0",
          "state": {
            "_model_module": "@jupyter-widgets/base",
            "_model_module_version": "1.2.0",
            "_model_name": "LayoutModel",
            "_view_count": null,
            "_view_module": "@jupyter-widgets/base",
            "_view_module_version": "1.2.0",
            "_view_name": "LayoutView",
            "align_content": null,
            "align_items": null,
            "align_self": null,
            "border": null,
            "bottom": null,
            "display": null,
            "flex": null,
            "flex_flow": null,
            "grid_area": null,
            "grid_auto_columns": null,
            "grid_auto_flow": null,
            "grid_auto_rows": null,
            "grid_column": null,
            "grid_gap": null,
            "grid_row": null,
            "grid_template_areas": null,
            "grid_template_columns": null,
            "grid_template_rows": null,
            "height": null,
            "justify_content": null,
            "justify_items": null,
            "left": null,
            "margin": null,
            "max_height": null,
            "max_width": null,
            "min_height": null,
            "min_width": null,
            "object_fit": null,
            "object_position": null,
            "order": null,
            "overflow": null,
            "overflow_x": null,
            "overflow_y": null,
            "padding": null,
            "right": null,
            "top": null,
            "visibility": null,
            "width": "auto"
          }
        },
        "4f5dae681d854ab7a5a2f828bd8f3a64": {
          "model_module": "@jupyter-widgets/controls",
          "model_name": "ButtonStyleModel",
          "model_module_version": "1.5.0",
          "state": {
            "_model_module": "@jupyter-widgets/controls",
            "_model_module_version": "1.5.0",
            "_model_name": "ButtonStyleModel",
            "_view_count": null,
            "_view_module": "@jupyter-widgets/base",
            "_view_module_version": "1.2.0",
            "_view_name": "StyleView",
            "button_color": null,
            "font_weight": ""
          }
        }
      }
    }
  },
  "cells": [
    {
      "cell_type": "markdown",
      "metadata": {
        "id": "view-in-github",
        "colab_type": "text"
      },
      "source": [
        "<a href=\"https://colab.research.google.com/github/AIDA2812/Filters-image-workshop/blob/main/Sales_Forecasting_using_upgini_catboost.ipynb\" target=\"_parent\"><img src=\"https://colab.research.google.com/assets/colab-badge.svg\" alt=\"Open In Colab\"/></a>"
      ]
    },
    {
      "cell_type": "code",
      "execution_count": 17,
      "metadata": {
        "id": "Qbqu5p8Tbbrw"
      },
      "outputs": [],
      "source": [
        "%pip install -Uq upgini\n",
        "\n",
        "%pip install -Uq catboost\n"
      ]
    },
    {
      "cell_type": "code",
      "source": [
        "from os.path import exists\n",
        "import pandas as pd\n",
        "df_path = \"train.csv.zip\" if exists(\"train.csv.zip\") else \"https://github.com/upgini/upgini/raw/main/notebooks/train.csv.zip\"\n",
        "df = pd.read_csv(df_path)\n",
        "df = df.sample(n=19_000, random_state=0)\n",
        "df[\"store\"] = df[\"store\"].astype(str)\n",
        "df[\"item\"] = df[\"item\"].astype(str)\n",
        "\n",
        "df[\"date\"] = pd.to_datetime(df[\"date\"])\n",
        "df.sort_values(\"date\", inplace=True)\n",
        "df.reset_index(inplace=True, drop=True)\n",
        "df.head()\n",
        "\n"
      ],
      "metadata": {
        "colab": {
          "base_uri": "https://localhost:8080/",
          "height": 206
        },
        "id": "YEIDO5vHjRV4",
        "outputId": "0a3837d0-f4a7-49b2-b0fb-3b4c771be500"
      },
      "execution_count": 18,
      "outputs": [
        {
          "output_type": "execute_result",
          "data": {
            "text/plain": [
              "        date store item  sales\n",
              "0 2013-01-01     7    5      5\n",
              "1 2013-01-01     4    9     19\n",
              "2 2013-01-01     1   33     37\n",
              "3 2013-01-01     3   41     14\n",
              "4 2013-01-01     5   24     26"
            ],
            "text/html": [
              "\n",
              "  <div id=\"df-7fe42c74-481d-4a6d-b916-aca9f2c71b70\" class=\"colab-df-container\">\n",
              "    <div>\n",
              "<style scoped>\n",
              "    .dataframe tbody tr th:only-of-type {\n",
              "        vertical-align: middle;\n",
              "    }\n",
              "\n",
              "    .dataframe tbody tr th {\n",
              "        vertical-align: top;\n",
              "    }\n",
              "\n",
              "    .dataframe thead th {\n",
              "        text-align: right;\n",
              "    }\n",
              "</style>\n",
              "<table border=\"1\" class=\"dataframe\">\n",
              "  <thead>\n",
              "    <tr style=\"text-align: right;\">\n",
              "      <th></th>\n",
              "      <th>date</th>\n",
              "      <th>store</th>\n",
              "      <th>item</th>\n",
              "      <th>sales</th>\n",
              "    </tr>\n",
              "  </thead>\n",
              "  <tbody>\n",
              "    <tr>\n",
              "      <th>0</th>\n",
              "      <td>2013-01-01</td>\n",
              "      <td>7</td>\n",
              "      <td>5</td>\n",
              "      <td>5</td>\n",
              "    </tr>\n",
              "    <tr>\n",
              "      <th>1</th>\n",
              "      <td>2013-01-01</td>\n",
              "      <td>4</td>\n",
              "      <td>9</td>\n",
              "      <td>19</td>\n",
              "    </tr>\n",
              "    <tr>\n",
              "      <th>2</th>\n",
              "      <td>2013-01-01</td>\n",
              "      <td>1</td>\n",
              "      <td>33</td>\n",
              "      <td>37</td>\n",
              "    </tr>\n",
              "    <tr>\n",
              "      <th>3</th>\n",
              "      <td>2013-01-01</td>\n",
              "      <td>3</td>\n",
              "      <td>41</td>\n",
              "      <td>14</td>\n",
              "    </tr>\n",
              "    <tr>\n",
              "      <th>4</th>\n",
              "      <td>2013-01-01</td>\n",
              "      <td>5</td>\n",
              "      <td>24</td>\n",
              "      <td>26</td>\n",
              "    </tr>\n",
              "  </tbody>\n",
              "</table>\n",
              "</div>\n",
              "    <div class=\"colab-df-buttons\">\n",
              "\n",
              "  <div class=\"colab-df-container\">\n",
              "    <button class=\"colab-df-convert\" onclick=\"convertToInteractive('df-7fe42c74-481d-4a6d-b916-aca9f2c71b70')\"\n",
              "            title=\"Convert this dataframe to an interactive table.\"\n",
              "            style=\"display:none;\">\n",
              "\n",
              "  <svg xmlns=\"http://www.w3.org/2000/svg\" height=\"24px\" viewBox=\"0 -960 960 960\">\n",
              "    <path d=\"M120-120v-720h720v720H120Zm60-500h600v-160H180v160Zm220 220h160v-160H400v160Zm0 220h160v-160H400v160ZM180-400h160v-160H180v160Zm440 0h160v-160H620v160ZM180-180h160v-160H180v160Zm440 0h160v-160H620v160Z\"/>\n",
              "  </svg>\n",
              "    </button>\n",
              "\n",
              "  <style>\n",
              "    .colab-df-container {\n",
              "      display:flex;\n",
              "      gap: 12px;\n",
              "    }\n",
              "\n",
              "    .colab-df-convert {\n",
              "      background-color: #E8F0FE;\n",
              "      border: none;\n",
              "      border-radius: 50%;\n",
              "      cursor: pointer;\n",
              "      display: none;\n",
              "      fill: #1967D2;\n",
              "      height: 32px;\n",
              "      padding: 0 0 0 0;\n",
              "      width: 32px;\n",
              "    }\n",
              "\n",
              "    .colab-df-convert:hover {\n",
              "      background-color: #E2EBFA;\n",
              "      box-shadow: 0px 1px 2px rgba(60, 64, 67, 0.3), 0px 1px 3px 1px rgba(60, 64, 67, 0.15);\n",
              "      fill: #174EA6;\n",
              "    }\n",
              "\n",
              "    .colab-df-buttons div {\n",
              "      margin-bottom: 4px;\n",
              "    }\n",
              "\n",
              "    [theme=dark] .colab-df-convert {\n",
              "      background-color: #3B4455;\n",
              "      fill: #D2E3FC;\n",
              "    }\n",
              "\n",
              "    [theme=dark] .colab-df-convert:hover {\n",
              "      background-color: #434B5C;\n",
              "      box-shadow: 0px 1px 3px 1px rgba(0, 0, 0, 0.15);\n",
              "      filter: drop-shadow(0px 1px 2px rgba(0, 0, 0, 0.3));\n",
              "      fill: #FFFFFF;\n",
              "    }\n",
              "  </style>\n",
              "\n",
              "    <script>\n",
              "      const buttonEl =\n",
              "        document.querySelector('#df-7fe42c74-481d-4a6d-b916-aca9f2c71b70 button.colab-df-convert');\n",
              "      buttonEl.style.display =\n",
              "        google.colab.kernel.accessAllowed ? 'block' : 'none';\n",
              "\n",
              "      async function convertToInteractive(key) {\n",
              "        const element = document.querySelector('#df-7fe42c74-481d-4a6d-b916-aca9f2c71b70');\n",
              "        const dataTable =\n",
              "          await google.colab.kernel.invokeFunction('convertToInteractive',\n",
              "                                                    [key], {});\n",
              "        if (!dataTable) return;\n",
              "\n",
              "        const docLinkHtml = 'Like what you see? Visit the ' +\n",
              "          '<a target=\"_blank\" href=https://colab.research.google.com/notebooks/data_table.ipynb>data table notebook</a>'\n",
              "          + ' to learn more about interactive tables.';\n",
              "        element.innerHTML = '';\n",
              "        dataTable['output_type'] = 'display_data';\n",
              "        await google.colab.output.renderOutput(dataTable, element);\n",
              "        const docLink = document.createElement('div');\n",
              "        docLink.innerHTML = docLinkHtml;\n",
              "        element.appendChild(docLink);\n",
              "      }\n",
              "    </script>\n",
              "  </div>\n",
              "\n",
              "\n",
              "    <div id=\"df-562fe094-d998-4d89-80ce-6f6f9b25ac43\">\n",
              "      <button class=\"colab-df-quickchart\" onclick=\"quickchart('df-562fe094-d998-4d89-80ce-6f6f9b25ac43')\"\n",
              "                title=\"Suggest charts\"\n",
              "                style=\"display:none;\">\n",
              "\n",
              "<svg xmlns=\"http://www.w3.org/2000/svg\" height=\"24px\"viewBox=\"0 0 24 24\"\n",
              "     width=\"24px\">\n",
              "    <g>\n",
              "        <path d=\"M19 3H5c-1.1 0-2 .9-2 2v14c0 1.1.9 2 2 2h14c1.1 0 2-.9 2-2V5c0-1.1-.9-2-2-2zM9 17H7v-7h2v7zm4 0h-2V7h2v10zm4 0h-2v-4h2v4z\"/>\n",
              "    </g>\n",
              "</svg>\n",
              "      </button>\n",
              "\n",
              "<style>\n",
              "  .colab-df-quickchart {\n",
              "      --bg-color: #E8F0FE;\n",
              "      --fill-color: #1967D2;\n",
              "      --hover-bg-color: #E2EBFA;\n",
              "      --hover-fill-color: #174EA6;\n",
              "      --disabled-fill-color: #AAA;\n",
              "      --disabled-bg-color: #DDD;\n",
              "  }\n",
              "\n",
              "  [theme=dark] .colab-df-quickchart {\n",
              "      --bg-color: #3B4455;\n",
              "      --fill-color: #D2E3FC;\n",
              "      --hover-bg-color: #434B5C;\n",
              "      --hover-fill-color: #FFFFFF;\n",
              "      --disabled-bg-color: #3B4455;\n",
              "      --disabled-fill-color: #666;\n",
              "  }\n",
              "\n",
              "  .colab-df-quickchart {\n",
              "    background-color: var(--bg-color);\n",
              "    border: none;\n",
              "    border-radius: 50%;\n",
              "    cursor: pointer;\n",
              "    display: none;\n",
              "    fill: var(--fill-color);\n",
              "    height: 32px;\n",
              "    padding: 0;\n",
              "    width: 32px;\n",
              "  }\n",
              "\n",
              "  .colab-df-quickchart:hover {\n",
              "    background-color: var(--hover-bg-color);\n",
              "    box-shadow: 0 1px 2px rgba(60, 64, 67, 0.3), 0 1px 3px 1px rgba(60, 64, 67, 0.15);\n",
              "    fill: var(--button-hover-fill-color);\n",
              "  }\n",
              "\n",
              "  .colab-df-quickchart-complete:disabled,\n",
              "  .colab-df-quickchart-complete:disabled:hover {\n",
              "    background-color: var(--disabled-bg-color);\n",
              "    fill: var(--disabled-fill-color);\n",
              "    box-shadow: none;\n",
              "  }\n",
              "\n",
              "  .colab-df-spinner {\n",
              "    border: 2px solid var(--fill-color);\n",
              "    border-color: transparent;\n",
              "    border-bottom-color: var(--fill-color);\n",
              "    animation:\n",
              "      spin 1s steps(1) infinite;\n",
              "  }\n",
              "\n",
              "  @keyframes spin {\n",
              "    0% {\n",
              "      border-color: transparent;\n",
              "      border-bottom-color: var(--fill-color);\n",
              "      border-left-color: var(--fill-color);\n",
              "    }\n",
              "    20% {\n",
              "      border-color: transparent;\n",
              "      border-left-color: var(--fill-color);\n",
              "      border-top-color: var(--fill-color);\n",
              "    }\n",
              "    30% {\n",
              "      border-color: transparent;\n",
              "      border-left-color: var(--fill-color);\n",
              "      border-top-color: var(--fill-color);\n",
              "      border-right-color: var(--fill-color);\n",
              "    }\n",
              "    40% {\n",
              "      border-color: transparent;\n",
              "      border-right-color: var(--fill-color);\n",
              "      border-top-color: var(--fill-color);\n",
              "    }\n",
              "    60% {\n",
              "      border-color: transparent;\n",
              "      border-right-color: var(--fill-color);\n",
              "    }\n",
              "    80% {\n",
              "      border-color: transparent;\n",
              "      border-right-color: var(--fill-color);\n",
              "      border-bottom-color: var(--fill-color);\n",
              "    }\n",
              "    90% {\n",
              "      border-color: transparent;\n",
              "      border-bottom-color: var(--fill-color);\n",
              "    }\n",
              "  }\n",
              "</style>\n",
              "\n",
              "      <script>\n",
              "        async function quickchart(key) {\n",
              "          const quickchartButtonEl =\n",
              "            document.querySelector('#' + key + ' button');\n",
              "          quickchartButtonEl.disabled = true;  // To prevent multiple clicks.\n",
              "          quickchartButtonEl.classList.add('colab-df-spinner');\n",
              "          try {\n",
              "            const charts = await google.colab.kernel.invokeFunction(\n",
              "                'suggestCharts', [key], {});\n",
              "          } catch (error) {\n",
              "            console.error('Error during call to suggestCharts:', error);\n",
              "          }\n",
              "          quickchartButtonEl.classList.remove('colab-df-spinner');\n",
              "          quickchartButtonEl.classList.add('colab-df-quickchart-complete');\n",
              "        }\n",
              "        (() => {\n",
              "          let quickchartButtonEl =\n",
              "            document.querySelector('#df-562fe094-d998-4d89-80ce-6f6f9b25ac43 button');\n",
              "          quickchartButtonEl.style.display =\n",
              "            google.colab.kernel.accessAllowed ? 'block' : 'none';\n",
              "        })();\n",
              "      </script>\n",
              "    </div>\n",
              "\n",
              "    </div>\n",
              "  </div>\n"
            ],
            "application/vnd.google.colaboratory.intrinsic+json": {
              "type": "dataframe",
              "variable_name": "df",
              "summary": "{\n  \"name\": \"df\",\n  \"rows\": 19000,\n  \"fields\": [\n    {\n      \"column\": \"date\",\n      \"properties\": {\n        \"dtype\": \"date\",\n        \"min\": \"2013-01-01 00:00:00\",\n        \"max\": \"2017-12-31 00:00:00\",\n        \"num_unique_values\": 1826,\n        \"samples\": [\n          \"2015-09-26 00:00:00\",\n          \"2017-02-27 00:00:00\",\n          \"2013-10-26 00:00:00\"\n        ],\n        \"semantic_type\": \"\",\n        \"description\": \"\"\n      }\n    },\n    {\n      \"column\": \"store\",\n      \"properties\": {\n        \"dtype\": \"category\",\n        \"num_unique_values\": 10,\n        \"samples\": [\n          \"9\",\n          \"4\",\n          \"2\"\n        ],\n        \"semantic_type\": \"\",\n        \"description\": \"\"\n      }\n    },\n    {\n      \"column\": \"item\",\n      \"properties\": {\n        \"dtype\": \"category\",\n        \"num_unique_values\": 50,\n        \"samples\": [\n          \"40\",\n          \"43\",\n          \"20\"\n        ],\n        \"semantic_type\": \"\",\n        \"description\": \"\"\n      }\n    },\n    {\n      \"column\": \"sales\",\n      \"properties\": {\n        \"dtype\": \"number\",\n        \"std\": 28,\n        \"min\": 1,\n        \"max\": 205,\n        \"num_unique_values\": 173,\n        \"samples\": [\n          196,\n          63,\n          94\n        ],\n        \"semantic_type\": \"\",\n        \"description\": \"\"\n      }\n    }\n  ]\n}"
            }
          },
          "metadata": {},
          "execution_count": 18
        }
      ]
    },
    {
      "cell_type": "code",
      "source": [
        "train = df[df[\"date\"] < \"2017-01-01\"]\n",
        "test = df[df[\"date\"] >= \"2017-01-01\"]"
      ],
      "metadata": {
        "id": "RfraP4G0o9Cg"
      },
      "execution_count": 19,
      "outputs": []
    },
    {
      "cell_type": "code",
      "source": [
        "train_features = train.drop(columns=[\"sales\"])\n",
        "train_target = train[\"sales\"]\n",
        "test_features = test.drop(columns=[\"sales\"])\n",
        "test_target = test[\"sales\"]\n"
      ],
      "metadata": {
        "id": "nwt5NK-bp69c"
      },
      "execution_count": 20,
      "outputs": []
    },
    {
      "cell_type": "code",
      "source": [
        "from upgini import FeaturesEnricher, SearchKey\n",
        "from upgini.metadata import CVType\n",
        "\n",
        "enricher = FeaturesEnricher(\n",
        "    search_keys={\n",
        "        \"date\": SearchKey.DATE,\n",
        "    },\n",
        "    cv = CVType.time_series\n",
        ")\n",
        "enricher.fit(train_features,\n",
        "             train_target,\n",
        "             eval_set=[(test_features, test_target)]\n",
        "             )"
      ],
      "metadata": {
        "colab": {
          "base_uri": "https://localhost:8080/",
          "height": 1000
        },
        "id": "foJr0ZXsqvSR",
        "outputId": "831944b7-237b-4679-accd-cdf5994e12cf"
      },
      "execution_count": 21,
      "outputs": [
        {
          "output_type": "display_data",
          "data": {
            "text/plain": [
              "[============================================================] 100% Finished"
            ],
            "text/html": [
              "<progress style='width:60ex' max='100' value='100'></progress>  100% Finished</br>"
            ]
          },
          "metadata": {}
        },
        {
          "output_type": "display_data",
          "data": {
            "text/plain": [
              "<IPython.core.display.Javascript object>"
            ],
            "application/javascript": [
              "\n",
              "                    async function getVisitorId() {\n",
              "                        return import('https://upgini.github.io/upgini/js/a.js')\n",
              "                            .then(FingerprintJS => FingerprintJS.load())\n",
              "                            .then(fp => fp.get())\n",
              "                            .then(result => result.visitorId);\n",
              "                    }\n",
              "                    "
            ]
          },
          "metadata": {}
        },
        {
          "output_type": "stream",
          "name": "stdout",
          "text": [
            "WARNING #1: Search started with DATE search key only\n",
            "Try to add other keys like the COUNTRY, POSTAL_CODE, PHONE NUMBER, EMAIL/HEM, IP to your training dataset\n",
            "for search through all the available data sources.\n",
            "See docs https://github.com/upgini/upgini#-total-239-countries-and-up-to-41-years-of-history\n",
            "\n",
            "\n",
            "Detected task type: ModelTaskType.REGRESSION. Reason: date search key is present, treating as regression\n",
            "You can set task type manually with argument `model_task_type` of FeaturesEnricher constructor if task type detected incorrectly\n",
            "\n",
            "WARNING #2: Your training sample is unstable in number of rows per date. It is recommended to redesign the training sample\n",
            "\n"
          ]
        },
        {
          "output_type": "display_data",
          "data": {
            "text/plain": [
              "<IPython.core.display.HTML object>"
            ],
            "text/html": [
              "<table><tr><th style='font-weight:bold'>Column name</th><th style='font-weight:bold'>Status</th><th style='font-weight:bold'>Errors</th></tr><tr><td>target</td><td style='background-color:#DAF7A6;color:black'>All valid</td><td>-</td></tr><tr><td>date</td><td style='background-color:#DAF7A6;color:black'>All valid</td><td>-</td></tr></table>"
            ]
          },
          "metadata": {}
        },
        {
          "output_type": "stream",
          "name": "stdout",
          "text": [
            "\n"
          ]
        },
        {
          "output_type": "display_data",
          "data": {
            "text/plain": [
              "<IPython.core.display.Javascript object>"
            ],
            "application/javascript": [
              "\n",
              "                        async function getIP() {\n",
              "                            return fetch(\"https://api64.ipify.org\")\n",
              "                                .then(response => response.text())\n",
              "                                .then(data => data);\n",
              "                        }\n",
              "                        "
            ]
          },
          "metadata": {}
        },
        {
          "output_type": "stream",
          "name": "stdout",
          "text": [
            "\n",
            "Running search request, search_id=4d8e50ac-2c81-4f3b-ac94-a036e258a47c\n",
            "We'll send email notification once it's completed, just use your personal api_key from profile.upgini.com\n",
            "\n"
          ]
        },
        {
          "output_type": "display_data",
          "data": {
            "text/plain": [
              "<IPython.core.display.HTML object>"
            ],
            "text/html": [
              "<style>\n",
              "            .upgini-df thead th {\n",
              "                font-weight:bold;\n",
              "                text-align: center;\n",
              "                padding: 0.5em;\n",
              "                border-bottom: 2px solid black;\n",
              "            }\n",
              "\n",
              "            .upgini-df tbody td {\n",
              "                padding: 0.5em;\n",
              "                color: black;\n",
              "            }\n",
              "\n",
              "            .upgini-df tbody tr:nth-child(odd) {\n",
              "                background-color: #ffffff;\n",
              "            }\n",
              "\n",
              "            .upgini-df tbody tr:nth-child(even) {\n",
              "                background-color: #f2f2f2;\n",
              "            }\n",
              "\n",
              "            .upgini-text {\n",
              "                text-align: left;\n",
              "            }\n",
              "\n",
              "            .upgini-number {\n",
              "                text-align: center;\n",
              "            }\n",
              "        </style>\n",
              "        <h2>Relevant features (19)</h2>\n",
              "        <div style=\"display:flex; flex-direction:column; align-items:flex-end; width: fit-content;\">\n",
              "            \n",
              "            <div style=\"text-align: right\">\n",
              "                <button onclick=navigator.clipboard.writeText(decodeURI('Feature%20name%09SHAP%20value%09PSI%20value%09Coverage%20%25%09Value%20preview%09Provider%09Source%09Updates%0Af_autofe_groupbythenmean_d5f4f809f4%098.4902%09%09100.0%090.0981,%200.0687,%200.0905%09Upgini,%20Training%20dataset%09AutoFE%3A%20feature%20from%20%3Ca%20href%3D%27https%3A%2F%2Fupgini.com%2F%23data_sources%27%20target%3D%27_blank%27%20rel%3D%27noopener%20noreferrer%27%3EMarkets%20data%3C%2Fa%3E,%20grouped%20by%20feature%20from%20training%20dataset%09Daily%0Af_economic_date_cbpol_umap_6_aa0352de%097.3931%09%09100.0%091.0587,%206.9596,%201.0408%09Upgini%09World%20economic%20indicators%09Daily%0Af_autofe_groupbythenmedian_64b28257d7%096.5439%09%09100.0%091.0005,%201.0012,%201.0004%09Upgini,%20Training%20dataset%09AutoFE%3A%20feature%20from%20%3Ca%20href%3D%27https%3A%2F%2Fupgini.com%2F%23data_sources%27%20target%3D%27_blank%27%20rel%3D%27noopener%20noreferrer%27%3EMarkets%20data%3C%2Fa%3E,%20grouped%20by%20feature%20from%20training%20dataset%09Daily%0Af_autofe_groupbythenstd_9a84d2fd29%095.5322%09%09100.0%090.7213,%200.7161,%200.6952%09Upgini,%20Training%20dataset%09AutoFE%3A%20feature%20from%20%3Ca%20href%3D%27https%3A%2F%2Fupgini.com%2F%23data_sources%27%20target%3D%27_blank%27%20rel%3D%27noopener%20noreferrer%27%3ECalendar%20data%3C%2Fa%3E,%20grouped%20by%20feature%20from%20training%20dataset%09Daily%0Af_autofe_groupbythenrank_d595da62f7%093.6036%09%09100.0%090.3398,%200.5069,%200.2105%09Upgini,%20Training%20dataset%09AutoFE%3A%20feature%20from%20%3Ca%20href%3D%27https%3A%2F%2Fupgini.com%2F%23data_sources%27%20target%3D%27_blank%27%20rel%3D%27noopener%20noreferrer%27%3ECalendar%20data%3C%2Fa%3E,%20grouped%20by%20feature%20from%20training%20dataset%09Daily%0Af_events_date_year_cos1_9014a856%092.3165%09%09100.0%090.3253,%20-0.263,%20-0.3496%09Upgini%09Calendar%20data%09Daily%0Af_financial_date_crude_oil_7d_to_1y_c3e0ad17%092.2541%09%09100.0%091.0001,%201.0769,%201.0154%09Upgini%09Markets%20data%09Daily%0Af_autofe_roll_3d_median_8e12f1e1e9%091.4845%09%09100.0%090.309,%20-0.263,%20-0.3496%09Training%20dataset,%20Upgini%09AutoFE%3A%20features%20from%20Training%20dataset,%3Ca%20href%3D%27https%3A%2F%2Fupgini.com%2F%23data_sources%27%20target%3D%27_blank%27%20rel%3D%27noopener%20noreferrer%27%3ECalendar%20data%3C%2Fa%3E%09Daily%0Af_autofe_roll_3d_min_1a2ad6d8bb%091.4531%09%09100.0%090.3253,%20-0.2795,%20-0.3817%09Training%20dataset,%20Upgini%09AutoFE%3A%20features%20from%20Training%20dataset,%3Ca%20href%3D%27https%3A%2F%2Fupgini.com%2F%23data_sources%27%20target%3D%27_blank%27%20rel%3D%27noopener%20noreferrer%27%3ECalendar%20data%3C%2Fa%3E%09Daily%0Astore%091.0343%09%09100.0%095,%2010,%207%09%09%09%0Af_autofe_groupbythenrank_110e5b8df1%090.8715%09%09100.0%090.0758,%200.2147,%200.7818%09Upgini,%20Training%20dataset%09AutoFE%3A%20feature%20from%20%3Ca%20href%3D%27https%3A%2F%2Fupgini.com%2F%23data_sources%27%20target%3D%27_blank%27%20rel%3D%27noopener%20noreferrer%27%3ECalendar%20data%3C%2Fa%3E,%20grouped%20by%20feature%20from%20training%20dataset%09Daily%0Af_autofe_lag_28d_aaadd46bbb%090.824%09%0997.10896960711638%09140.0,%2016.0,%2024.0%09Training%20dataset%09AutoFE%3A%20features%20from%20Training%20dataset%09%0Af_events_date_week_sin1_847b5db1%090.5242%09%09100.0%090.0,%20-0.4339,%20-0.9749%09Upgini%09Calendar%20data%09Daily%0Af_events_date_year_sin2_59955ffd%090.4464%09%09100.0%09-0.6153,%200.3847,%20-0.1628%09Upgini%09Calendar%20data%09Daily%0Af_autofe_lag_7d_4a1d9c9dff%090.4427%09%0999.19517102615694%09140.0,%2016.0,%2024.0%09Training%20dataset%09AutoFE%3A%20features%20from%20Training%20dataset%09%0Aitem%090.361%09%09100.0%0940,%2030,%2018%09%09%09%0Af_autofe_roll_3d_median_97804b26e6%090.3111%09%09100.0%09116.0,%2049.0,%2081.0%09Training%20dataset%09AutoFE%3A%20features%20from%20Training%20dataset%09%0Af_autofe_groupbythenrank_3729e8053b%090.0666%09%09100.0%090.3852,%200.3887,%200.3674%09Upgini,%20Training%20dataset%09AutoFE%3A%20feature%20from%20%3Ca%20href%3D%27https%3A%2F%2Fupgini.com%2F%23data_sources%27%20target%3D%27_blank%27%20rel%3D%27noopener%20noreferrer%27%3ECalendar%20data%3C%2Fa%3E,%20grouped%20by%20feature%20from%20training%20dataset%09Daily%0Af_events_date_week_cos3_7525fe31%090.0392%09%09100.0%091.0,%20-0.2225,%200.6235%09Upgini%09Calendar%20data%09Daily%0A'))>📂 Copy</button>\n",
              "                <a href='mailto:<Share with...>?subject=Relevant external data sources from Upgini.com&body=Feature%20name%09SHAP%20value%09PSI%20value%09Coverage%20%25%09Value%20preview%09Provider%09Source%09Updates%0Af_autofe_groupbythenmean_d5f4f809f4%098.4902%09%09100.0%090.0981,%200.0687,%200.0905%09Upgini,%20Training%20dataset%09AutoFE%3A%20feature%20from%20%3Ca%20href%3D%27https%3A%2F%2Fupgini.com%2F%23data_sources%27%20target%3D%27_blank%27%20rel%3D%27noopener%20noreferrer%27%3EMarkets%20data%3C%2Fa%3E,%20grouped%20by%20feature%20from%20training%20dataset%09Daily%0Af_economic_date_cbpol_umap_6_aa0352de%097.3931%09%09100.0%091.0587,%206.9596,%201.0408%09Upgini%09World%20economic%20indicators%09Daily%0Af_autofe_groupbythenmedian_64b28257d7%096.5439%09%09100.0%091.0005,%201.0012,%201.0004%09Upgini,%20Training%20dataset%09AutoFE%3A%20feature%20from%20%3Ca%20href%3D%27https%3A%2F%2Fupgini.com%2F%23data_sources%27%20target%3D%27_blank%27%20rel%3D%27noopener%20noreferrer%27%3EMarkets%20data%3C%2Fa%3E,%20grouped%20by%20feature%20from%20training%20dataset%09Daily%0Af_autofe_groupbythenstd_9a84d2fd29%095.5322%09%09100.0%090.7213,%200.7161,%200.6952%09Upgini,%20Training%20dataset%09AutoFE%3A%20feature%20from%20%3Ca%20href%3D%27https%3A%2F%2Fupgini.com%2F%23data_sources%27%20target%3D%27_blank%27%20rel%3D%27noopener%20noreferrer%27%3ECalendar%20data%3C%2Fa%3E,%20grouped%20by%20feature%20from%20training%20dataset%09Daily%0Af_autofe_groupbythenrank_d595da62f7%093.6036%09%09100.0%090.3398,%200.5069,%200.2105%09Upgini,%20Training%20dataset%09AutoFE%3A%20feature%20from%20%3Ca%20href%3D%27https%3A%2F%2Fupgini.com%2F%23data_sources%27%20target%3D%27_blank%27%20rel%3D%27noopener%20noreferrer%27%3ECalendar%20data%3C%2Fa%3E,%20grouped%20by%20feature%20from%20training%20dataset%09Daily%0Af_events_date_year_cos1_9014a856%092.3165%09%09100.0%090.3253,%20-0.263,%20-0.3496%09Upgini%09Calendar%20data%09Daily%0Af_financial_date_crude_oil_7d_to_1y_c3e0ad17%092.2541%09%09100.0%091.0001,%201.0769,%201.0154%09Upgini%09Markets%20data%09Daily%0Af_autofe_roll_3d_median_8e12f1e1e9%091.4845%09%09100.0%090.309,%20-0.263,%20-0.3496%09Training%20dataset,%20Upgini%09AutoFE%3A%20features%20from%20Training%20dataset,%3Ca%20href%3D%27https%3A%2F%2Fupgini.com%2F%23data_sources%27%20target%3D%27_blank%27%20rel%3D%27noopener%20noreferrer%27%3ECalendar%20data%3C%2Fa%3E%09Daily%0Af_autofe_roll_3d_min_1a2ad6d8bb%091.4531%09%09100.0%090.3253,%20-0.2795,%20-0.3817%09Training%20dataset,%20Upgini%09AutoFE%3A%20features%20from%20Training%20dataset,%3Ca%20href%3D%27https%3A%2F%2Fupgini.com%2F%23data_sources%27%20target%3D%27_blank%27%20rel%3D%27noopener%20noreferrer%27%3ECalendar%20data%3C%2Fa%3E%09Daily%0Astore%091.0343%09%09100.0%095,%2010,%207%09%09%09%0Af_autofe_groupbythenrank_110e5b8df1%090.8715%09%09100.0%090.0758,%200.2147,%200.7818%09Upgini,%20Training%20dataset%09AutoFE%3A%20feature%20from%20%3Ca%20href%3D%27https%3A%2F%2Fupgini.com%2F%23data_sources%27%20target%3D%27_blank%27%20rel%3D%27noopener%20noreferrer%27%3ECalendar%20data%3C%2Fa%3E,%20grouped%20by%20feature%20from%20training%20dataset%09Daily%0Af_autofe_lag_28d_aaadd46bbb%090.824%09%0997.10896960711638%09140.0,%2016.0,%2024.0%09Training%20dataset%09AutoFE%3A%20features%20from%20Training%20dataset%09%0Af_events_date_week_sin1_847b5db1%090.5242%09%09100.0%090.0,%20-0.4339,%20-0.9749%09Upgini%09Calendar%20data%09Daily%0Af_events_date_year_sin2_59955ffd%090.4464%09%09100.0%09-0.6153,%200.3847,%20-0.1628%09Upgini%09Calendar%20data%09Daily%0Af_autofe_lag_7d_4a1d9c9dff%090.4427%09%0999.19517102615694%09140.0,%2016.0,%2024.0%09Training%20dataset%09AutoFE%3A%20features%20from%20Training%20dataset%09%0Aitem%090.361%09%09100.0%0940,%2030,%2018%09%09%09%0Af_autofe_roll_3d_median_97804b26e6%090.3111%09%09100.0%09116.0,%2049.0,%2081.0%09Training%20dataset%09AutoFE%3A%20features%20from%20Training%20dataset%09%0Af_autofe_groupbythenrank_3729e8053b%090.0666%09%09100.0%090.3852,%200.3887,%200.3674%09Upgini,%20Training%20dataset%09AutoFE%3A%20feature%20from%20%3Ca%20href%3D%27https%3A%2F%2Fupgini.com%2F%23data_sources%27%20target%3D%27_blank%27%20rel%3D%27noopener%20noreferrer%27%3ECalendar%20data%3C%2Fa%3E,%20grouped%20by%20feature%20from%20training%20dataset%09Daily%0Af_events_date_week_cos3_7525fe31%090.0392%09%09100.0%091.0,%20-0.2225,%200.6235%09Upgini%09Calendar%20data%09Daily%0A'>\n",
              "                    <button>📨 Share</button>\n",
              "                </a>\n",
              "            </div>\n",
              "            <table class='upgini-df'><thead><th>Feature name</th><th>SHAP value</th><th>Coverage %</th><th>Value preview</th><th>Provider</th><th>Source</th><th>Updates</th></thead><tbody><tr><td class='upgini-text'>f_autofe_groupbythenmean_d5f4f809f4</td><td class='upgini-number'>8.4902</td><td class='upgini-number'>100.0000</td><td class='upgini-text'>0.0981, 0.0687, 0.0905</td><td class='upgini-text'><a href='https://upgini.com/' target='_blank' rel='noopener noreferrer'>Upgini</a>,Training dataset</td><td class='upgini-text'>AutoFE: feature from <a href='https://upgini.com/#data_sources' target='_blank' rel='noopener noreferrer'>Markets data</a>, grouped by feature from training dataset</td><td class='upgini-text'>Daily</td></tr><tr><td class='upgini-text'><a href='https://docs.upgini.com/public/economics/cbpol_umap#f_economic_date_cbpol_umap_6_aa0352de' target='_blank' rel='noopener noreferrer'>f_economic_date_cbpol_umap_6_aa0352de</a></td><td class='upgini-number'>7.3931</td><td class='upgini-number'>100.0000</td><td class='upgini-text'>1.0587, 6.9596, 1.0408</td><td class='upgini-text'><a href='https://upgini.com/' target='_blank' rel='noopener noreferrer'>Upgini</a></td><td class='upgini-text'><a href='https://upgini.com/#data_sources' target='_blank' rel='noopener noreferrer'>World economic indicators</a></td><td class='upgini-text'>Daily</td></tr><tr><td class='upgini-text'>f_autofe_groupbythenmedian_64b28257d7</td><td class='upgini-number'>6.5439</td><td class='upgini-number'>100.0000</td><td class='upgini-text'>1.0005, 1.0012, 1.0004</td><td class='upgini-text'><a href='https://upgini.com/' target='_blank' rel='noopener noreferrer'>Upgini</a>,Training dataset</td><td class='upgini-text'>AutoFE: feature from <a href='https://upgini.com/#data_sources' target='_blank' rel='noopener noreferrer'>Markets data</a>, grouped by feature from training dataset</td><td class='upgini-text'>Daily</td></tr><tr><td class='upgini-text'>f_autofe_groupbythenstd_9a84d2fd29</td><td class='upgini-number'>5.5322</td><td class='upgini-number'>100.0000</td><td class='upgini-text'>0.7213, 0.7161, 0.6952</td><td class='upgini-text'><a href='https://upgini.com/' target='_blank' rel='noopener noreferrer'>Upgini</a>,Training dataset</td><td class='upgini-text'>AutoFE: feature from <a href='https://upgini.com/#data_sources' target='_blank' rel='noopener noreferrer'>Calendar data</a>, grouped by feature from training dataset</td><td class='upgini-text'>Daily</td></tr><tr><td class='upgini-text'>f_autofe_groupbythenrank_d595da62f7</td><td class='upgini-number'>3.6036</td><td class='upgini-number'>100.0000</td><td class='upgini-text'>0.3398, 0.5069, 0.2105</td><td class='upgini-text'><a href='https://upgini.com/' target='_blank' rel='noopener noreferrer'>Upgini</a>,Training dataset</td><td class='upgini-text'>AutoFE: feature from <a href='https://upgini.com/#data_sources' target='_blank' rel='noopener noreferrer'>Calendar data</a>, grouped by feature from training dataset</td><td class='upgini-text'>Daily</td></tr><tr><td class='upgini-text'><a href='https://docs.upgini.com/public/calendar/calendar#f_events_date_year_cos1_9014a856' target='_blank' rel='noopener noreferrer'>f_events_date_year_cos1_9014a856</a></td><td class='upgini-number'>2.3165</td><td class='upgini-number'>100.0000</td><td class='upgini-text'>0.3253, -0.263, -0.3496</td><td class='upgini-text'><a href='https://upgini.com/' target='_blank' rel='noopener noreferrer'>Upgini</a></td><td class='upgini-text'><a href='https://upgini.com/#data_sources' target='_blank' rel='noopener noreferrer'>Calendar data</a></td><td class='upgini-text'>Daily</td></tr><tr><td class='upgini-text'><a href='https://docs.upgini.com/public/markets/finance#f_financial_date_crude_oil_7d_to_1y_c3e0ad17' target='_blank' rel='noopener noreferrer'>f_financial_date_crude_oil_7d_to_1y_c3e0ad17</a></td><td class='upgini-number'>2.2541</td><td class='upgini-number'>100.0000</td><td class='upgini-text'>1.0001, 1.0769, 1.0154</td><td class='upgini-text'><a href='https://upgini.com/' target='_blank' rel='noopener noreferrer'>Upgini</a></td><td class='upgini-text'><a href='https://upgini.com/#data_sources' target='_blank' rel='noopener noreferrer'>Markets data</a></td><td class='upgini-text'>Daily</td></tr><tr><td class='upgini-text'>f_autofe_roll_3d_median_8e12f1e1e9</td><td class='upgini-number'>1.4845</td><td class='upgini-number'>100.0000</td><td class='upgini-text'>0.309, -0.263, -0.3496</td><td class='upgini-text'>Training dataset,<a href='https://upgini.com/' target='_blank' rel='noopener noreferrer'>Upgini</a></td><td class='upgini-text'>AutoFE: features from Training dataset,<a href='https://upgini.com/#data_sources' target='_blank' rel='noopener noreferrer'>Calendar data</a></td><td class='upgini-text'>Daily</td></tr><tr><td class='upgini-text'>f_autofe_roll_3d_min_1a2ad6d8bb</td><td class='upgini-number'>1.4531</td><td class='upgini-number'>100.0000</td><td class='upgini-text'>0.3253, -0.2795, -0.3817</td><td class='upgini-text'>Training dataset,<a href='https://upgini.com/' target='_blank' rel='noopener noreferrer'>Upgini</a></td><td class='upgini-text'>AutoFE: features from Training dataset,<a href='https://upgini.com/#data_sources' target='_blank' rel='noopener noreferrer'>Calendar data</a></td><td class='upgini-text'>Daily</td></tr><tr><td class='upgini-text'>store</td><td class='upgini-number'>1.0343</td><td class='upgini-number'>100.0000</td><td class='upgini-text'>5, 10, 7</td><td class='upgini-text'>&nbsp;</td><td class='upgini-text'>&nbsp;</td><td class='upgini-text'>&nbsp;</td></tr><tr><td class='upgini-text'>f_autofe_groupbythenrank_110e5b8df1</td><td class='upgini-number'>0.8715</td><td class='upgini-number'>100.0000</td><td class='upgini-text'>0.0758, 0.2147, 0.7818</td><td class='upgini-text'><a href='https://upgini.com/' target='_blank' rel='noopener noreferrer'>Upgini</a>,Training dataset</td><td class='upgini-text'>AutoFE: feature from <a href='https://upgini.com/#data_sources' target='_blank' rel='noopener noreferrer'>Calendar data</a>, grouped by feature from training dataset</td><td class='upgini-text'>Daily</td></tr><tr><td class='upgini-text'>f_autofe_lag_28d_aaadd46bbb</td><td class='upgini-number'>0.8240</td><td class='upgini-number'>97.1090</td><td class='upgini-text'>140.0, 16.0, 24.0</td><td class='upgini-text'>Training dataset</td><td class='upgini-text'>AutoFE: features from Training dataset</td><td class='upgini-text'>&nbsp;</td></tr><tr><td class='upgini-text'><a href='https://docs.upgini.com/public/calendar/calendar#f_events_date_week_sin1_847b5db1' target='_blank' rel='noopener noreferrer'>f_events_date_week_sin1_847b5db1</a></td><td class='upgini-number'>0.5242</td><td class='upgini-number'>100.0000</td><td class='upgini-text'>0.0, -0.4339, -0.9749</td><td class='upgini-text'><a href='https://upgini.com/' target='_blank' rel='noopener noreferrer'>Upgini</a></td><td class='upgini-text'><a href='https://upgini.com/#data_sources' target='_blank' rel='noopener noreferrer'>Calendar data</a></td><td class='upgini-text'>Daily</td></tr><tr><td class='upgini-text'><a href='https://docs.upgini.com/public/calendar/calendar#f_events_date_year_sin2_59955ffd' target='_blank' rel='noopener noreferrer'>f_events_date_year_sin2_59955ffd</a></td><td class='upgini-number'>0.4464</td><td class='upgini-number'>100.0000</td><td class='upgini-text'>-0.6153, 0.3847, -0.1628</td><td class='upgini-text'><a href='https://upgini.com/' target='_blank' rel='noopener noreferrer'>Upgini</a></td><td class='upgini-text'><a href='https://upgini.com/#data_sources' target='_blank' rel='noopener noreferrer'>Calendar data</a></td><td class='upgini-text'>Daily</td></tr><tr><td class='upgini-text'>f_autofe_lag_7d_4a1d9c9dff</td><td class='upgini-number'>0.4427</td><td class='upgini-number'>99.1952</td><td class='upgini-text'>140.0, 16.0, 24.0</td><td class='upgini-text'>Training dataset</td><td class='upgini-text'>AutoFE: features from Training dataset</td><td class='upgini-text'>&nbsp;</td></tr><tr><td class='upgini-text'>item</td><td class='upgini-number'>0.3610</td><td class='upgini-number'>100.0000</td><td class='upgini-text'>40, 30, 18</td><td class='upgini-text'>&nbsp;</td><td class='upgini-text'>&nbsp;</td><td class='upgini-text'>&nbsp;</td></tr><tr><td class='upgini-text'>f_autofe_roll_3d_median_97804b26e6</td><td class='upgini-number'>0.3111</td><td class='upgini-number'>100.0000</td><td class='upgini-text'>116.0, 49.0, 81.0</td><td class='upgini-text'>Training dataset</td><td class='upgini-text'>AutoFE: features from Training dataset</td><td class='upgini-text'>&nbsp;</td></tr><tr><td class='upgini-text'>f_autofe_groupbythenrank_3729e8053b</td><td class='upgini-number'>0.0666</td><td class='upgini-number'>100.0000</td><td class='upgini-text'>0.3852, 0.3887, 0.3674</td><td class='upgini-text'><a href='https://upgini.com/' target='_blank' rel='noopener noreferrer'>Upgini</a>,Training dataset</td><td class='upgini-text'>AutoFE: feature from <a href='https://upgini.com/#data_sources' target='_blank' rel='noopener noreferrer'>Calendar data</a>, grouped by feature from training dataset</td><td class='upgini-text'>Daily</td></tr><tr><td class='upgini-text'><a href='https://docs.upgini.com/public/calendar/calendar#f_events_date_week_cos3_7525fe31' target='_blank' rel='noopener noreferrer'>f_events_date_week_cos3_7525fe31</a></td><td class='upgini-number'>0.0392</td><td class='upgini-number'>100.0000</td><td class='upgini-text'>1.0, -0.2225, 0.6235</td><td class='upgini-text'><a href='https://upgini.com/' target='_blank' rel='noopener noreferrer'>Upgini</a></td><td class='upgini-text'><a href='https://upgini.com/#data_sources' target='_blank' rel='noopener noreferrer'>Calendar data</a></td><td class='upgini-text'>Daily</td></tr></tbody></table>\n",
              "        </div>\n",
              "        "
            ]
          },
          "metadata": {}
        },
        {
          "output_type": "display_data",
          "data": {
            "text/plain": [
              "<IPython.core.display.HTML object>"
            ],
            "text/html": [
              "<style>\n",
              "            .upgini-df thead th {\n",
              "                font-weight:bold;\n",
              "                text-align: center;\n",
              "                padding: 0.5em;\n",
              "                border-bottom: 2px solid black;\n",
              "            }\n",
              "\n",
              "            .upgini-df tbody td {\n",
              "                padding: 0.5em;\n",
              "                color: black;\n",
              "            }\n",
              "\n",
              "            .upgini-df tbody tr:nth-child(odd) {\n",
              "                background-color: #ffffff;\n",
              "            }\n",
              "\n",
              "            .upgini-df tbody tr:nth-child(even) {\n",
              "                background-color: #f2f2f2;\n",
              "            }\n",
              "\n",
              "            .upgini-text {\n",
              "                text-align: left;\n",
              "            }\n",
              "\n",
              "            .upgini-number {\n",
              "                text-align: center;\n",
              "            }\n",
              "        </style>\n",
              "        <h2>Relevant data sources</h2>\n",
              "        <div style=\"display:flex; flex-direction:column; align-items:flex-end; width: fit-content;\">\n",
              "            \n",
              "            <div style=\"text-align: right\">\n",
              "                <button onclick=navigator.clipboard.writeText(decodeURI('Provider%09Source%09All%20features%20SHAP%09Number%20of%20relevant%20features%0AUpgini,%20Training%20dataset%09AutoFE%3A%20feature%20from%20%3Ca%20href%3D%27https%3A%2F%2Fupgini.com%2F%23data_sources%27%20target%3D%27_blank%27%20rel%3D%27noopener%20noreferrer%27%3EMarkets%20data%3C%2Fa%3E,%20grouped%20by%20feature%20from%20training%20dataset%0915.034099999999999%092%0AUpgini,%20Training%20dataset%09AutoFE%3A%20feature%20from%20%3Ca%20href%3D%27https%3A%2F%2Fupgini.com%2F%23data_sources%27%20target%3D%27_blank%27%20rel%3D%27noopener%20noreferrer%27%3ECalendar%20data%3C%2Fa%3E,%20grouped%20by%20feature%20from%20training%20dataset%0910.0739%094%0AUpgini%09World%20economic%20indicators%097.3931%091%0AUpgini%09Calendar%20data%093.3263%094%0ATraining%20dataset,%20Upgini%09AutoFE%3A%20features%20from%20Training%20dataset,%3Ca%20href%3D%27https%3A%2F%2Fupgini.com%2F%23data_sources%27%20target%3D%27_blank%27%20rel%3D%27noopener%20noreferrer%27%3ECalendar%20data%3C%2Fa%3E%092.9375999999999998%092%0AUpgini%09Markets%20data%092.2541%091%0ATraining%20dataset%09AutoFE%3A%20features%20from%20Training%20dataset%091.5777999999999999%093%0A'))>📂 Copy</button>\n",
              "                <a href='mailto:<Share with...>?subject=Relevant external data sources from Upgini.com&body=Provider%09Source%09All%20features%20SHAP%09Number%20of%20relevant%20features%0AUpgini,%20Training%20dataset%09AutoFE%3A%20feature%20from%20%3Ca%20href%3D%27https%3A%2F%2Fupgini.com%2F%23data_sources%27%20target%3D%27_blank%27%20rel%3D%27noopener%20noreferrer%27%3EMarkets%20data%3C%2Fa%3E,%20grouped%20by%20feature%20from%20training%20dataset%0915.034099999999999%092%0AUpgini,%20Training%20dataset%09AutoFE%3A%20feature%20from%20%3Ca%20href%3D%27https%3A%2F%2Fupgini.com%2F%23data_sources%27%20target%3D%27_blank%27%20rel%3D%27noopener%20noreferrer%27%3ECalendar%20data%3C%2Fa%3E,%20grouped%20by%20feature%20from%20training%20dataset%0910.0739%094%0AUpgini%09World%20economic%20indicators%097.3931%091%0AUpgini%09Calendar%20data%093.3263%094%0ATraining%20dataset,%20Upgini%09AutoFE%3A%20features%20from%20Training%20dataset,%3Ca%20href%3D%27https%3A%2F%2Fupgini.com%2F%23data_sources%27%20target%3D%27_blank%27%20rel%3D%27noopener%20noreferrer%27%3ECalendar%20data%3C%2Fa%3E%092.9375999999999998%092%0AUpgini%09Markets%20data%092.2541%091%0ATraining%20dataset%09AutoFE%3A%20features%20from%20Training%20dataset%091.5777999999999999%093%0A'>\n",
              "                    <button>📨 Share</button>\n",
              "                </a>\n",
              "            </div>\n",
              "            <table class='upgini-df'><thead><th>Provider</th><th>Source</th><th>All features SHAP</th><th>Number of relevant features</th></thead><tbody><tr><td class='upgini-text'><a href='https://upgini.com/' target='_blank' rel='noopener noreferrer'>Upgini</a>,Training dataset</td><td class='upgini-text'>AutoFE: feature from <a href='https://upgini.com/#data_sources' target='_blank' rel='noopener noreferrer'>Markets data</a>, grouped by feature from training dataset</td><td class='upgini-number'>15.0341</td><td class='upgini-number'>2</td></tr><tr><td class='upgini-text'><a href='https://upgini.com/' target='_blank' rel='noopener noreferrer'>Upgini</a>,Training dataset</td><td class='upgini-text'>AutoFE: feature from <a href='https://upgini.com/#data_sources' target='_blank' rel='noopener noreferrer'>Calendar data</a>, grouped by feature from training dataset</td><td class='upgini-number'>10.0739</td><td class='upgini-number'>4</td></tr><tr><td class='upgini-text'><a href='https://upgini.com/' target='_blank' rel='noopener noreferrer'>Upgini</a></td><td class='upgini-text'><a href='https://upgini.com/#data_sources' target='_blank' rel='noopener noreferrer'>World economic indicators</a></td><td class='upgini-number'>7.3931</td><td class='upgini-number'>1</td></tr><tr><td class='upgini-text'><a href='https://upgini.com/' target='_blank' rel='noopener noreferrer'>Upgini</a></td><td class='upgini-text'><a href='https://upgini.com/#data_sources' target='_blank' rel='noopener noreferrer'>Calendar data</a></td><td class='upgini-number'>3.3263</td><td class='upgini-number'>4</td></tr><tr><td class='upgini-text'>Training dataset,<a href='https://upgini.com/' target='_blank' rel='noopener noreferrer'>Upgini</a></td><td class='upgini-text'>AutoFE: features from Training dataset,<a href='https://upgini.com/#data_sources' target='_blank' rel='noopener noreferrer'>Calendar data</a></td><td class='upgini-number'>2.9376</td><td class='upgini-number'>2</td></tr><tr><td class='upgini-text'><a href='https://upgini.com/' target='_blank' rel='noopener noreferrer'>Upgini</a></td><td class='upgini-text'><a href='https://upgini.com/#data_sources' target='_blank' rel='noopener noreferrer'>Markets data</a></td><td class='upgini-number'>2.2541</td><td class='upgini-number'>1</td></tr><tr><td class='upgini-text'>Training dataset</td><td class='upgini-text'>AutoFE: features from Training dataset</td><td class='upgini-number'>1.5778</td><td class='upgini-number'>3</td></tr></tbody></table>\n",
              "        </div>\n",
              "        "
            ]
          },
          "metadata": {}
        },
        {
          "output_type": "display_data",
          "data": {
            "text/plain": [
              "<IPython.core.display.HTML object>"
            ],
            "text/html": [
              "<style>\n",
              "            .upgini-df thead th {\n",
              "                font-weight:bold;\n",
              "                text-align: center;\n",
              "                padding: 0.5em;\n",
              "                border-bottom: 2px solid black;\n",
              "            }\n",
              "\n",
              "            .upgini-df tbody td {\n",
              "                padding: 0.5em;\n",
              "                color: black;\n",
              "            }\n",
              "\n",
              "            .upgini-df tbody tr:nth-child(odd) {\n",
              "                background-color: #ffffff;\n",
              "            }\n",
              "\n",
              "            .upgini-df tbody tr:nth-child(even) {\n",
              "                background-color: #f2f2f2;\n",
              "            }\n",
              "\n",
              "            .upgini-text {\n",
              "                text-align: left;\n",
              "            }\n",
              "\n",
              "            .upgini-number {\n",
              "                text-align: center;\n",
              "            }\n",
              "        </style>\n",
              "        <h2>*Description of AutoFE feature names</h2>\n",
              "        <div style=\"display:flex; flex-direction:column; align-items:flex-end; width: fit-content;\">\n",
              "            \n",
              "            <div style=\"text-align: right\">\n",
              "                <button onclick=navigator.clipboard.writeText(decodeURI('Sources%09Feature%20name%09Feature%201%09Feature%202%09Function%0A%3Ca%20href%3D%27https%3A%2F%2Fupgini.com%2F%23data_sources%27%20target%3D%27_blank%27%20rel%3D%27noopener%20noreferrer%27%3EMarkets%20data%3C%2Fa%3E,%20grouped%20by%20feature%20from%20training%20dataset%09f_autofe_groupbythenmean_d5f4f809f4%09f_financial_date_vix_gap_b64bd2b9%09store_824d80%09GroupByThenMean%0A%3Ca%20href%3D%27https%3A%2F%2Fupgini.com%2F%23data_sources%27%20target%3D%27_blank%27%20rel%3D%27noopener%20noreferrer%27%3EMarkets%20data%3C%2Fa%3E,%20grouped%20by%20feature%20from%20training%20dataset%09f_autofe_groupbythenmedian_64b28257d7%09f_financial_date_usd_eur_1d_to_7d_d8b89b5d%09item_4a33ea%09GroupByThenMedian%0A%3Ca%20href%3D%27https%3A%2F%2Fupgini.com%2F%23data_sources%27%20target%3D%27_blank%27%20rel%3D%27noopener%20noreferrer%27%3ECalendar%20data%3C%2Fa%3E,%20grouped%20by%20feature%20from%20training%20dataset%09f_autofe_groupbythenstd_9a84d2fd29%09f_events_date_year_cos8_d2a83ca9%09item_4a33ea%09GroupByThenStd%0A%3Ca%20href%3D%27https%3A%2F%2Fupgini.com%2F%23data_sources%27%20target%3D%27_blank%27%20rel%3D%27noopener%20noreferrer%27%3ECalendar%20data%3C%2Fa%3E,%20grouped%20by%20feature%20from%20training%20dataset%09f_autofe_groupbythenrank_d595da62f7%09f_events_date_week_cos3_7525fe31%09store_824d80%09GroupByThenRank%0ATraining%20dataset,%3Ca%20href%3D%27https%3A%2F%2Fupgini.com%2F%23data_sources%27%20target%3D%27_blank%27%20rel%3D%27noopener%20noreferrer%27%3ECalendar%20data%3C%2Fa%3E%09f_autofe_roll_3d_median_8e12f1e1e9%09f_events_date_year_cos1_9014a856%09%09roll_3d_median%0ATraining%20dataset,%3Ca%20href%3D%27https%3A%2F%2Fupgini.com%2F%23data_sources%27%20target%3D%27_blank%27%20rel%3D%27noopener%20noreferrer%27%3ECalendar%20data%3C%2Fa%3E%09f_autofe_roll_3d_min_1a2ad6d8bb%09f_events_date_year_cos1_9014a856%09%09roll_3d_min%0A%3Ca%20href%3D%27https%3A%2F%2Fupgini.com%2F%23data_sources%27%20target%3D%27_blank%27%20rel%3D%27noopener%20noreferrer%27%3ECalendar%20data%3C%2Fa%3E,%20grouped%20by%20feature%20from%20training%20dataset%09f_autofe_groupbythenrank_110e5b8df1%09f_events_date_week_cos1_f6a8c1fc%09store_824d80%09GroupByThenRank%0ATraining%20dataset%09f_autofe_lag_28d_aaadd46bbb%09target%09%09lag_28d%0ATraining%20dataset%09f_autofe_lag_7d_4a1d9c9dff%09target%09%09lag_7d%0ATraining%20dataset%09f_autofe_roll_3d_median_97804b26e6%09target%09%09roll_3d_median%0A%3Ca%20href%3D%27https%3A%2F%2Fupgini.com%2F%23data_sources%27%20target%3D%27_blank%27%20rel%3D%27noopener%20noreferrer%27%3ECalendar%20data%3C%2Fa%3E,%20grouped%20by%20feature%20from%20training%20dataset%09f_autofe_groupbythenrank_3729e8053b%09f_events_date_week_cos1_f6a8c1fc%09item_4a33ea%09GroupByThenRank%0A'))>📂 Copy</button>\n",
              "                <a href='mailto:<Share with...>?subject=Relevant external data sources from Upgini.com&body=Sources%09Feature%20name%09Feature%201%09Feature%202%09Function%0A%3Ca%20href%3D%27https%3A%2F%2Fupgini.com%2F%23data_sources%27%20target%3D%27_blank%27%20rel%3D%27noopener%20noreferrer%27%3EMarkets%20data%3C%2Fa%3E,%20grouped%20by%20feature%20from%20training%20dataset%09f_autofe_groupbythenmean_d5f4f809f4%09f_financial_date_vix_gap_b64bd2b9%09store_824d80%09GroupByThenMean%0A%3Ca%20href%3D%27https%3A%2F%2Fupgini.com%2F%23data_sources%27%20target%3D%27_blank%27%20rel%3D%27noopener%20noreferrer%27%3EMarkets%20data%3C%2Fa%3E,%20grouped%20by%20feature%20from%20training%20dataset%09f_autofe_groupbythenmedian_64b28257d7%09f_financial_date_usd_eur_1d_to_7d_d8b89b5d%09item_4a33ea%09GroupByThenMedian%0A%3Ca%20href%3D%27https%3A%2F%2Fupgini.com%2F%23data_sources%27%20target%3D%27_blank%27%20rel%3D%27noopener%20noreferrer%27%3ECalendar%20data%3C%2Fa%3E,%20grouped%20by%20feature%20from%20training%20dataset%09f_autofe_groupbythenstd_9a84d2fd29%09f_events_date_year_cos8_d2a83ca9%09item_4a33ea%09GroupByThenStd%0A%3Ca%20href%3D%27https%3A%2F%2Fupgini.com%2F%23data_sources%27%20target%3D%27_blank%27%20rel%3D%27noopener%20noreferrer%27%3ECalendar%20data%3C%2Fa%3E,%20grouped%20by%20feature%20from%20training%20dataset%09f_autofe_groupbythenrank_d595da62f7%09f_events_date_week_cos3_7525fe31%09store_824d80%09GroupByThenRank%0ATraining%20dataset,%3Ca%20href%3D%27https%3A%2F%2Fupgini.com%2F%23data_sources%27%20target%3D%27_blank%27%20rel%3D%27noopener%20noreferrer%27%3ECalendar%20data%3C%2Fa%3E%09f_autofe_roll_3d_median_8e12f1e1e9%09f_events_date_year_cos1_9014a856%09%09roll_3d_median%0ATraining%20dataset,%3Ca%20href%3D%27https%3A%2F%2Fupgini.com%2F%23data_sources%27%20target%3D%27_blank%27%20rel%3D%27noopener%20noreferrer%27%3ECalendar%20data%3C%2Fa%3E%09f_autofe_roll_3d_min_1a2ad6d8bb%09f_events_date_year_cos1_9014a856%09%09roll_3d_min%0A%3Ca%20href%3D%27https%3A%2F%2Fupgini.com%2F%23data_sources%27%20target%3D%27_blank%27%20rel%3D%27noopener%20noreferrer%27%3ECalendar%20data%3C%2Fa%3E,%20grouped%20by%20feature%20from%20training%20dataset%09f_autofe_groupbythenrank_110e5b8df1%09f_events_date_week_cos1_f6a8c1fc%09store_824d80%09GroupByThenRank%0ATraining%20dataset%09f_autofe_lag_28d_aaadd46bbb%09target%09%09lag_28d%0ATraining%20dataset%09f_autofe_lag_7d_4a1d9c9dff%09target%09%09lag_7d%0ATraining%20dataset%09f_autofe_roll_3d_median_97804b26e6%09target%09%09roll_3d_median%0A%3Ca%20href%3D%27https%3A%2F%2Fupgini.com%2F%23data_sources%27%20target%3D%27_blank%27%20rel%3D%27noopener%20noreferrer%27%3ECalendar%20data%3C%2Fa%3E,%20grouped%20by%20feature%20from%20training%20dataset%09f_autofe_groupbythenrank_3729e8053b%09f_events_date_week_cos1_f6a8c1fc%09item_4a33ea%09GroupByThenRank%0A'>\n",
              "                    <button>📨 Share</button>\n",
              "                </a>\n",
              "            </div>\n",
              "            <table class='upgini-df'><thead><th>Sources</th><th>Feature name</th><th>Feature 1</th><th>Feature 2</th><th>Function</th></thead><tbody><tr><td class='upgini-text'><a href='https://upgini.com/#data_sources' target='_blank' rel='noopener noreferrer'>Markets data</a>, grouped by feature from training dataset</td><td class='upgini-text'>f_autofe_groupbythenmean_d5f4f809f4</td><td class='upgini-text'>f_financial_date_vix_gap_b64bd2b9</td><td class='upgini-text'>store_824d80</td><td class='upgini-text'>GroupByThenMean</td></tr><tr><td class='upgini-text'><a href='https://upgini.com/#data_sources' target='_blank' rel='noopener noreferrer'>Markets data</a>, grouped by feature from training dataset</td><td class='upgini-text'>f_autofe_groupbythenmedian_64b28257d7</td><td class='upgini-text'>f_financial_date_usd_eur_1d_to_7d_d8b89b5d</td><td class='upgini-text'>item_4a33ea</td><td class='upgini-text'>GroupByThenMedian</td></tr><tr><td class='upgini-text'><a href='https://upgini.com/#data_sources' target='_blank' rel='noopener noreferrer'>Calendar data</a>, grouped by feature from training dataset</td><td class='upgini-text'>f_autofe_groupbythenstd_9a84d2fd29</td><td class='upgini-text'>f_events_date_year_cos8_d2a83ca9</td><td class='upgini-text'>item_4a33ea</td><td class='upgini-text'>GroupByThenStd</td></tr><tr><td class='upgini-text'><a href='https://upgini.com/#data_sources' target='_blank' rel='noopener noreferrer'>Calendar data</a>, grouped by feature from training dataset</td><td class='upgini-text'>f_autofe_groupbythenrank_d595da62f7</td><td class='upgini-text'>f_events_date_week_cos3_7525fe31</td><td class='upgini-text'>store_824d80</td><td class='upgini-text'>GroupByThenRank</td></tr><tr><td class='upgini-text'>Training dataset,<a href='https://upgini.com/#data_sources' target='_blank' rel='noopener noreferrer'>Calendar data</a></td><td class='upgini-text'>f_autofe_roll_3d_median_8e12f1e1e9</td><td class='upgini-text'>f_events_date_year_cos1_9014a856</td><td class='upgini-text'>&nbsp;</td><td class='upgini-text'>roll_3d_median</td></tr><tr><td class='upgini-text'>Training dataset,<a href='https://upgini.com/#data_sources' target='_blank' rel='noopener noreferrer'>Calendar data</a></td><td class='upgini-text'>f_autofe_roll_3d_min_1a2ad6d8bb</td><td class='upgini-text'>f_events_date_year_cos1_9014a856</td><td class='upgini-text'>&nbsp;</td><td class='upgini-text'>roll_3d_min</td></tr><tr><td class='upgini-text'><a href='https://upgini.com/#data_sources' target='_blank' rel='noopener noreferrer'>Calendar data</a>, grouped by feature from training dataset</td><td class='upgini-text'>f_autofe_groupbythenrank_110e5b8df1</td><td class='upgini-text'>f_events_date_week_cos1_f6a8c1fc</td><td class='upgini-text'>store_824d80</td><td class='upgini-text'>GroupByThenRank</td></tr><tr><td class='upgini-text'>Training dataset</td><td class='upgini-text'>f_autofe_lag_28d_aaadd46bbb</td><td class='upgini-text'>target</td><td class='upgini-text'>&nbsp;</td><td class='upgini-text'>lag_28d</td></tr><tr><td class='upgini-text'>Training dataset</td><td class='upgini-text'>f_autofe_lag_7d_4a1d9c9dff</td><td class='upgini-text'>target</td><td class='upgini-text'>&nbsp;</td><td class='upgini-text'>lag_7d</td></tr><tr><td class='upgini-text'>Training dataset</td><td class='upgini-text'>f_autofe_roll_3d_median_97804b26e6</td><td class='upgini-text'>target</td><td class='upgini-text'>&nbsp;</td><td class='upgini-text'>roll_3d_median</td></tr><tr><td class='upgini-text'><a href='https://upgini.com/#data_sources' target='_blank' rel='noopener noreferrer'>Calendar data</a>, grouped by feature from training dataset</td><td class='upgini-text'>f_autofe_groupbythenrank_3729e8053b</td><td class='upgini-text'>f_events_date_week_cos1_f6a8c1fc</td><td class='upgini-text'>item_4a33ea</td><td class='upgini-text'>GroupByThenRank</td></tr></tbody></table>\n",
              "        </div>\n",
              "        "
            ]
          },
          "metadata": {}
        },
        {
          "output_type": "stream",
          "name": "stdout",
          "text": [
            "We detected 48 outliers in your sample.\n",
            "Examples of outliers with maximum value of target:\n",
            "33    205\n",
            "17    196\n",
            "12    187\n",
            "Name: target, dtype: int64\n",
            "Outliers will be excluded during the metrics calculation.\n",
            "Calculating accuracy uplift after enrichment...\n",
            "y distributions from the training sample and eval_set differ according to the Kolmogorov-Smirnov test,\n",
            "which makes metrics between the train and eval_set incomparable.\n"
          ]
        },
        {
          "output_type": "display_data",
          "data": {
            "text/plain": [
              "<IPython.core.display.HTML object>"
            ],
            "text/html": [
              "<style>\n",
              "            .upgini-df thead th {\n",
              "                font-weight:bold;\n",
              "                text-align: center;\n",
              "                padding: 0.5em;\n",
              "                border-bottom: 2px solid black;\n",
              "            }\n",
              "\n",
              "            .upgini-df tbody td {\n",
              "                padding: 0.5em;\n",
              "                color: black;\n",
              "            }\n",
              "\n",
              "            .upgini-df tbody tr:nth-child(odd) {\n",
              "                background-color: #ffffff;\n",
              "            }\n",
              "\n",
              "            .upgini-df tbody tr:nth-child(even) {\n",
              "                background-color: #f2f2f2;\n",
              "            }\n",
              "\n",
              "            .upgini-text {\n",
              "                text-align: left;\n",
              "            }\n",
              "\n",
              "            .upgini-number {\n",
              "                text-align: center;\n",
              "            }\n",
              "        </style>\n",
              "        <h2>Accuracy after enrichment</h2>\n",
              "        <div style=\"display:flex; flex-direction:column; align-items:flex-end; width: fit-content;\">\n",
              "            \n",
              "            <div style=\"text-align: right\">\n",
              "                <button onclick=navigator.clipboard.writeText(decodeURI('Dataset%20type%09Rows%09Mean%20target%09Baseline%20MAPE%09Enriched%20MAPE%09Uplift,%20abs%09Uplift,%20%25%0ATrain%099418%0953.3352%090.324%20%C2%B1%200.109%090.217%20%C2%B1%200.086%090.107%0933.0%25%0AEval%201%093764%0958.5994%090.278%20%C2%B1%200.009%090.195%20%C2%B1%200.021%090.082%0929.7%25%0A'))>📂 Copy</button>\n",
              "                <a href='mailto:<Share with...>?subject=Relevant external data sources from Upgini.com&body=Dataset%20type%09Rows%09Mean%20target%09Baseline%20MAPE%09Enriched%20MAPE%09Uplift,%20abs%09Uplift,%20%25%0ATrain%099418%0953.3352%090.324%20%C2%B1%200.109%090.217%20%C2%B1%200.086%090.107%0933.0%25%0AEval%201%093764%0958.5994%090.278%20%C2%B1%200.009%090.195%20%C2%B1%200.021%090.082%0929.7%25%0A'>\n",
              "                    <button>📨 Share</button>\n",
              "                </a>\n",
              "            </div>\n",
              "            <table class='upgini-df'><thead><th>Dataset type</th><th>Rows</th><th>Mean target</th><th>Baseline MAPE</th><th>Enriched MAPE</th><th>Uplift, abs</th><th>Uplift, %</th></thead><tbody><tr><td class='upgini-text'>Train</td><td class='upgini-number'>9418</td><td class='upgini-number'>53.3352</td><td class='upgini-text'>0.324 ± 0.109</td><td class='upgini-text'>0.217 ± 0.086</td><td class='upgini-number'>0.1070</td><td class='upgini-text'>33.0%</td></tr><tr><td class='upgini-text'>Eval 1</td><td class='upgini-number'>3764</td><td class='upgini-number'>58.5994</td><td class='upgini-text'>0.278 ± 0.009</td><td class='upgini-text'>0.195 ± 0.021</td><td class='upgini-number'>0.0820</td><td class='upgini-text'>29.7%</td></tr></tbody></table>\n",
              "        </div>\n",
              "        "
            ]
          },
          "metadata": {}
        },
        {
          "output_type": "display_data",
          "data": {
            "text/plain": [
              "<IPython.core.display.HTML object>"
            ],
            "text/html": [
              "<a download=\"upgini-report-47c77ea1-3a78-4d1a-8641-0dcc66aeb31d.pdf\" href=\"data:application/pdf;base64,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\" target=\"_blank\">\n",
              "            <button>📊 Download PDF report</button></a>"
            ]
          },
          "metadata": {}
        }
      ]
    },
    {
      "cell_type": "markdown",
      "metadata": {
        "id": "e1825f6e"
      },
      "source": [
        "The error `NameError: name 'enricher' is not defined` indicates that the variable `enricher` was not created in the current session. This is likely because the cell where `enricher` is defined and fit (`foJr0ZXsqvSR`) has not been executed. To fix this, we need to run that cell first."
      ]
    },
    {
      "cell_type": "code",
      "source": [
        "\n",
        "from catboost import CatBoostRegressor\n",
        "from catboost.utils import eval_metric\n",
        "\n",
        "model = CatBoostRegressor(verbose=False, allow_writing_files=False, random_state=0)\n",
        "enricher.calculate_metrics(\n",
        "    train_features, train_target,\n",
        "    eval_set=[(test_features, test_target)],\n",
        "    estimator=model,\n",
        "    scoring= \"mean_absolute_percentage_error\"\n",
        ")"
      ],
      "metadata": {
        "colab": {
          "base_uri": "https://localhost:8080/",
          "height": 164
        },
        "id": "4czo0-SGIV97",
        "outputId": "0cf3c17a-98ed-4c0a-d914-d5f97e7dee20"
      },
      "execution_count": 22,
      "outputs": [
        {
          "output_type": "stream",
          "name": "stdout",
          "text": [
            "Calculating accuracy uplift after enrichment...\n",
            "-\ry distributions from the training sample and eval_set differ according to the Kolmogorov-Smirnov test,\n",
            "which makes metrics between the train and eval_set incomparable.\n"
          ]
        },
        {
          "output_type": "execute_result",
          "data": {
            "text/plain": [
              "  Dataset type  Rows  Mean target  Baseline MAPE  Enriched MAPE  Uplift, abs  \\\n",
              "0        Train  9418      53.3352  0.288 ± 0.096  0.204 ± 0.098        0.084   \n",
              "1       Eval 1  3764      58.5994  0.247 ± 0.008  0.181 ± 0.027        0.066   \n",
              "\n",
              "  Uplift, %  \n",
              "0     29.0%  \n",
              "1     26.8%  "
            ],
            "text/html": [
              "\n",
              "  <div id=\"df-99bb5379-a876-47ba-acf1-1114ec9abfe9\" class=\"colab-df-container\">\n",
              "    <div>\n",
              "<style scoped>\n",
              "    .dataframe tbody tr th:only-of-type {\n",
              "        vertical-align: middle;\n",
              "    }\n",
              "\n",
              "    .dataframe tbody tr th {\n",
              "        vertical-align: top;\n",
              "    }\n",
              "\n",
              "    .dataframe thead th {\n",
              "        text-align: right;\n",
              "    }\n",
              "</style>\n",
              "<table border=\"1\" class=\"dataframe\">\n",
              "  <thead>\n",
              "    <tr style=\"text-align: right;\">\n",
              "      <th></th>\n",
              "      <th>Dataset type</th>\n",
              "      <th>Rows</th>\n",
              "      <th>Mean target</th>\n",
              "      <th>Baseline MAPE</th>\n",
              "      <th>Enriched MAPE</th>\n",
              "      <th>Uplift, abs</th>\n",
              "      <th>Uplift, %</th>\n",
              "    </tr>\n",
              "  </thead>\n",
              "  <tbody>\n",
              "    <tr>\n",
              "      <th>0</th>\n",
              "      <td>Train</td>\n",
              "      <td>9418</td>\n",
              "      <td>53.3352</td>\n",
              "      <td>0.288 ± 0.096</td>\n",
              "      <td>0.204 ± 0.098</td>\n",
              "      <td>0.084</td>\n",
              "      <td>29.0%</td>\n",
              "    </tr>\n",
              "    <tr>\n",
              "      <th>1</th>\n",
              "      <td>Eval 1</td>\n",
              "      <td>3764</td>\n",
              "      <td>58.5994</td>\n",
              "      <td>0.247 ± 0.008</td>\n",
              "      <td>0.181 ± 0.027</td>\n",
              "      <td>0.066</td>\n",
              "      <td>26.8%</td>\n",
              "    </tr>\n",
              "  </tbody>\n",
              "</table>\n",
              "</div>\n",
              "    <div class=\"colab-df-buttons\">\n",
              "\n",
              "  <div class=\"colab-df-container\">\n",
              "    <button class=\"colab-df-convert\" onclick=\"convertToInteractive('df-99bb5379-a876-47ba-acf1-1114ec9abfe9')\"\n",
              "            title=\"Convert this dataframe to an interactive table.\"\n",
              "            style=\"display:none;\">\n",
              "\n",
              "  <svg xmlns=\"http://www.w3.org/2000/svg\" height=\"24px\" viewBox=\"0 -960 960 960\">\n",
              "    <path d=\"M120-120v-720h720v720H120Zm60-500h600v-160H180v160Zm220 220h160v-160H400v160Zm0 220h160v-160H400v160ZM180-400h160v-160H180v160Zm440 0h160v-160H620v160ZM180-180h160v-160H180v160Zm440 0h160v-160H620v160Z\"/>\n",
              "  </svg>\n",
              "    </button>\n",
              "\n",
              "  <style>\n",
              "    .colab-df-container {\n",
              "      display:flex;\n",
              "      gap: 12px;\n",
              "    }\n",
              "\n",
              "    .colab-df-convert {\n",
              "      background-color: #E8F0FE;\n",
              "      border: none;\n",
              "      border-radius: 50%;\n",
              "      cursor: pointer;\n",
              "      display: none;\n",
              "      fill: #1967D2;\n",
              "      height: 32px;\n",
              "      padding: 0 0 0 0;\n",
              "      width: 32px;\n",
              "    }\n",
              "\n",
              "    .colab-df-convert:hover {\n",
              "      background-color: #E2EBFA;\n",
              "      box-shadow: 0px 1px 2px rgba(60, 64, 67, 0.3), 0px 1px 3px 1px rgba(60, 64, 67, 0.15);\n",
              "      fill: #174EA6;\n",
              "    }\n",
              "\n",
              "    .colab-df-buttons div {\n",
              "      margin-bottom: 4px;\n",
              "    }\n",
              "\n",
              "    [theme=dark] .colab-df-convert {\n",
              "      background-color: #3B4455;\n",
              "      fill: #D2E3FC;\n",
              "    }\n",
              "\n",
              "    [theme=dark] .colab-df-convert:hover {\n",
              "      background-color: #434B5C;\n",
              "      box-shadow: 0px 1px 3px 1px rgba(0, 0, 0, 0.15);\n",
              "      filter: drop-shadow(0px 1px 2px rgba(0, 0, 0, 0.3));\n",
              "      fill: #FFFFFF;\n",
              "    }\n",
              "  </style>\n",
              "\n",
              "    <script>\n",
              "      const buttonEl =\n",
              "        document.querySelector('#df-99bb5379-a876-47ba-acf1-1114ec9abfe9 button.colab-df-convert');\n",
              "      buttonEl.style.display =\n",
              "        google.colab.kernel.accessAllowed ? 'block' : 'none';\n",
              "\n",
              "      async function convertToInteractive(key) {\n",
              "        const element = document.querySelector('#df-99bb5379-a876-47ba-acf1-1114ec9abfe9');\n",
              "        const dataTable =\n",
              "          await google.colab.kernel.invokeFunction('convertToInteractive',\n",
              "                                                    [key], {});\n",
              "        if (!dataTable) return;\n",
              "\n",
              "        const docLinkHtml = 'Like what you see? Visit the ' +\n",
              "          '<a target=\"_blank\" href=https://colab.research.google.com/notebooks/data_table.ipynb>data table notebook</a>'\n",
              "          + ' to learn more about interactive tables.';\n",
              "        element.innerHTML = '';\n",
              "        dataTable['output_type'] = 'display_data';\n",
              "        await google.colab.output.renderOutput(dataTable, element);\n",
              "        const docLink = document.createElement('div');\n",
              "        docLink.innerHTML = docLinkHtml;\n",
              "        element.appendChild(docLink);\n",
              "      }\n",
              "    </script>\n",
              "  </div>\n",
              "\n",
              "\n",
              "    <div id=\"df-ea333140-8e08-4d9f-a589-4e6139bff812\">\n",
              "      <button class=\"colab-df-quickchart\" onclick=\"quickchart('df-ea333140-8e08-4d9f-a589-4e6139bff812')\"\n",
              "                title=\"Suggest charts\"\n",
              "                style=\"display:none;\">\n",
              "\n",
              "<svg xmlns=\"http://www.w3.org/2000/svg\" height=\"24px\"viewBox=\"0 0 24 24\"\n",
              "     width=\"24px\">\n",
              "    <g>\n",
              "        <path d=\"M19 3H5c-1.1 0-2 .9-2 2v14c0 1.1.9 2 2 2h14c1.1 0 2-.9 2-2V5c0-1.1-.9-2-2-2zM9 17H7v-7h2v7zm4 0h-2V7h2v10zm4 0h-2v-4h2v4z\"/>\n",
              "    </g>\n",
              "</svg>\n",
              "      </button>\n",
              "\n",
              "<style>\n",
              "  .colab-df-quickchart {\n",
              "      --bg-color: #E8F0FE;\n",
              "      --fill-color: #1967D2;\n",
              "      --hover-bg-color: #E2EBFA;\n",
              "      --hover-fill-color: #174EA6;\n",
              "      --disabled-fill-color: #AAA;\n",
              "      --disabled-bg-color: #DDD;\n",
              "  }\n",
              "\n",
              "  [theme=dark] .colab-df-quickchart {\n",
              "      --bg-color: #3B4455;\n",
              "      --fill-color: #D2E3FC;\n",
              "      --hover-bg-color: #434B5C;\n",
              "      --hover-fill-color: #FFFFFF;\n",
              "      --disabled-bg-color: #3B4455;\n",
              "      --disabled-fill-color: #666;\n",
              "  }\n",
              "\n",
              "  .colab-df-quickchart {\n",
              "    background-color: var(--bg-color);\n",
              "    border: none;\n",
              "    border-radius: 50%;\n",
              "    cursor: pointer;\n",
              "    display: none;\n",
              "    fill: var(--fill-color);\n",
              "    height: 32px;\n",
              "    padding: 0;\n",
              "    width: 32px;\n",
              "  }\n",
              "\n",
              "  .colab-df-quickchart:hover {\n",
              "    background-color: var(--hover-bg-color);\n",
              "    box-shadow: 0 1px 2px rgba(60, 64, 67, 0.3), 0 1px 3px 1px rgba(60, 64, 67, 0.15);\n",
              "    fill: var(--button-hover-fill-color);\n",
              "  }\n",
              "\n",
              "  .colab-df-quickchart-complete:disabled,\n",
              "  .colab-df-quickchart-complete:disabled:hover {\n",
              "    background-color: var(--disabled-bg-color);\n",
              "    fill: var(--disabled-fill-color);\n",
              "    box-shadow: none;\n",
              "  }\n",
              "\n",
              "  .colab-df-spinner {\n",
              "    border: 2px solid var(--fill-color);\n",
              "    border-color: transparent;\n",
              "    border-bottom-color: var(--fill-color);\n",
              "    animation:\n",
              "      spin 1s steps(1) infinite;\n",
              "  }\n",
              "\n",
              "  @keyframes spin {\n",
              "    0% {\n",
              "      border-color: transparent;\n",
              "      border-bottom-color: var(--fill-color);\n",
              "      border-left-color: var(--fill-color);\n",
              "    }\n",
              "    20% {\n",
              "      border-color: transparent;\n",
              "      border-left-color: var(--fill-color);\n",
              "      border-top-color: var(--fill-color);\n",
              "    }\n",
              "    30% {\n",
              "      border-color: transparent;\n",
              "      border-left-color: var(--fill-color);\n",
              "      border-top-color: var(--fill-color);\n",
              "      border-right-color: var(--fill-color);\n",
              "    }\n",
              "    40% {\n",
              "      border-color: transparent;\n",
              "      border-right-color: var(--fill-color);\n",
              "      border-top-color: var(--fill-color);\n",
              "    }\n",
              "    60% {\n",
              "      border-color: transparent;\n",
              "      border-right-color: var(--fill-color);\n",
              "    }\n",
              "    80% {\n",
              "      border-color: transparent;\n",
              "      border-right-color: var(--fill-color);\n",
              "      border-bottom-color: var(--fill-color);\n",
              "    }\n",
              "    90% {\n",
              "      border-color: transparent;\n",
              "      border-bottom-color: var(--fill-color);\n",
              "    }\n",
              "  }\n",
              "</style>\n",
              "\n",
              "      <script>\n",
              "        async function quickchart(key) {\n",
              "          const quickchartButtonEl =\n",
              "            document.querySelector('#' + key + ' button');\n",
              "          quickchartButtonEl.disabled = true;  // To prevent multiple clicks.\n",
              "          quickchartButtonEl.classList.add('colab-df-spinner');\n",
              "          try {\n",
              "            const charts = await google.colab.kernel.invokeFunction(\n",
              "                'suggestCharts', [key], {});\n",
              "          } catch (error) {\n",
              "            console.error('Error during call to suggestCharts:', error);\n",
              "          }\n",
              "          quickchartButtonEl.classList.remove('colab-df-spinner');\n",
              "          quickchartButtonEl.classList.add('colab-df-quickchart-complete');\n",
              "        }\n",
              "        (() => {\n",
              "          let quickchartButtonEl =\n",
              "            document.querySelector('#df-ea333140-8e08-4d9f-a589-4e6139bff812 button');\n",
              "          quickchartButtonEl.style.display =\n",
              "            google.colab.kernel.accessAllowed ? 'block' : 'none';\n",
              "        })();\n",
              "      </script>\n",
              "    </div>\n",
              "\n",
              "    </div>\n",
              "  </div>\n"
            ],
            "application/vnd.google.colaboratory.intrinsic+json": {
              "type": "dataframe",
              "summary": "{\n  \"name\": \")\",\n  \"rows\": 2,\n  \"fields\": [\n    {\n      \"column\": \"Dataset type\",\n      \"properties\": {\n        \"dtype\": \"string\",\n        \"num_unique_values\": 2,\n        \"samples\": [\n          \"Eval 1\",\n          \"Train\"\n        ],\n        \"semantic_type\": \"\",\n        \"description\": \"\"\n      }\n    },\n    {\n      \"column\": \"Rows\",\n      \"properties\": {\n        \"dtype\": \"number\",\n        \"std\": 3997,\n        \"min\": 3764,\n        \"max\": 9418,\n        \"num_unique_values\": 2,\n        \"samples\": [\n          3764,\n          9418\n        ],\n        \"semantic_type\": \"\",\n        \"description\": \"\"\n      }\n    },\n    {\n      \"column\": \"Mean target\",\n      \"properties\": {\n        \"dtype\": \"number\",\n        \"std\": 3.7223515175222253,\n        \"min\": 53.3352,\n        \"max\": 58.5994,\n        \"num_unique_values\": 2,\n        \"samples\": [\n          58.5994,\n          53.3352\n        ],\n        \"semantic_type\": \"\",\n        \"description\": \"\"\n      }\n    },\n    {\n      \"column\": \"Baseline MAPE\",\n      \"properties\": {\n        \"dtype\": \"string\",\n        \"num_unique_values\": 2,\n        \"samples\": [\n          \"0.247 \\u00b1 0.008\",\n          \"0.288 \\u00b1 0.096\"\n        ],\n        \"semantic_type\": \"\",\n        \"description\": \"\"\n      }\n    },\n    {\n      \"column\": \"Enriched MAPE\",\n      \"properties\": {\n        \"dtype\": \"string\",\n        \"num_unique_values\": 2,\n        \"samples\": [\n          \"0.181 \\u00b1 0.027\",\n          \"0.204 \\u00b1 0.098\"\n        ],\n        \"semantic_type\": \"\",\n        \"description\": \"\"\n      }\n    },\n    {\n      \"column\": \"Uplift, abs\",\n      \"properties\": {\n        \"dtype\": \"number\",\n        \"std\": 0.012727922061357857,\n        \"min\": 0.066,\n        \"max\": 0.084,\n        \"num_unique_values\": 2,\n        \"samples\": [\n          0.066,\n          0.084\n        ],\n        \"semantic_type\": \"\",\n        \"description\": \"\"\n      }\n    },\n    {\n      \"column\": \"Uplift, %\",\n      \"properties\": {\n        \"dtype\": \"string\",\n        \"num_unique_values\": 2,\n        \"samples\": [\n          \"26.8%\",\n          \"29.0%\"\n        ],\n        \"semantic_type\": \"\",\n        \"description\": \"\"\n      }\n    }\n  ]\n}"
            }
          },
          "metadata": {},
          "execution_count": 22
        }
      ]
    },
    {
      "cell_type": "code",
      "source": [
        "enriched_train_features = enricher.fit_transform(train_features, train_target, keep_input=True)\n",
        "enriched_test_features = enricher.transform(test_features, keep_input=True)\n",
        "\n",
        "enriched_train_features.head()"
      ],
      "metadata": {
        "colab": {
          "base_uri": "https://localhost:8080/",
          "height": 1000,
          "referenced_widgets": [
            "7e74d33940f04ef3a7a47b3af5afbad9",
            "7fccf0d94b494f4082340c779ffeb6cc",
            "d12fdf617437453f87359679030faf87",
            "0daf8373a807415d9a2fccd7538cb98d",
            "6138fafd4bb242feb18909ebc5b7df43",
            "4f5dae681d854ab7a5a2f828bd8f3a64"
          ]
        },
        "id": "pjbI2bFdJQUj",
        "outputId": "281c68a6-7c33-410e-869e-ae3b7b71ce72"
      },
      "execution_count": 25,
      "outputs": [
        {
          "output_type": "display_data",
          "data": {
            "text/plain": [
              "[============================================================] 100% Finished"
            ],
            "text/html": [
              "<progress style='width:60ex' max='100' value='100'></progress>  100% Finished</br>"
            ]
          },
          "metadata": {}
        },
        {
          "output_type": "stream",
          "name": "stdout",
          "text": [
            "WARNING #1: Search started with DATE search key only\n",
            "Try to add other keys like the COUNTRY, POSTAL_CODE, PHONE NUMBER, EMAIL/HEM, IP to your training dataset\n",
            "for search through all the available data sources.\n",
            "See docs https://github.com/upgini/upgini#-total-239-countries-and-up-to-41-years-of-history\n",
            "\n",
            "WARNING #2: Your training sample is unstable in number of rows per date. It is recommended to redesign the training sample\n",
            "\n"
          ]
        },
        {
          "output_type": "display_data",
          "data": {
            "text/plain": [
              "<IPython.core.display.HTML object>"
            ],
            "text/html": [
              "<table><tr><th style='font-weight:bold'>Column name</th><th style='font-weight:bold'>Status</th><th style='font-weight:bold'>Errors</th></tr><tr><td>target</td><td style='background-color:#DAF7A6;color:black'>All valid</td><td>-</td></tr><tr><td>date</td><td style='background-color:#DAF7A6;color:black'>All valid</td><td>-</td></tr></table>"
            ]
          },
          "metadata": {}
        },
        {
          "output_type": "stream",
          "name": "stdout",
          "text": [
            "\n",
            "\n",
            "Running search request, search_id=6e29fec3-a7ae-442b-8b0b-fbb65fed3ce2\n",
            "We'll send email notification once it's completed, just use your personal api_key from profile.upgini.com\n",
            "\n"
          ]
        },
        {
          "output_type": "display_data",
          "data": {
            "text/plain": [
              "<IPython.core.display.HTML object>"
            ],
            "text/html": [
              "<style>\n",
              "            .upgini-df thead th {\n",
              "                font-weight:bold;\n",
              "                text-align: center;\n",
              "                padding: 0.5em;\n",
              "                border-bottom: 2px solid black;\n",
              "            }\n",
              "\n",
              "            .upgini-df tbody td {\n",
              "                padding: 0.5em;\n",
              "                color: black;\n",
              "            }\n",
              "\n",
              "            .upgini-df tbody tr:nth-child(odd) {\n",
              "                background-color: #ffffff;\n",
              "            }\n",
              "\n",
              "            .upgini-df tbody tr:nth-child(even) {\n",
              "                background-color: #f2f2f2;\n",
              "            }\n",
              "\n",
              "            .upgini-text {\n",
              "                text-align: left;\n",
              "            }\n",
              "\n",
              "            .upgini-number {\n",
              "                text-align: center;\n",
              "            }\n",
              "        </style>\n",
              "        <h2>Relevant features (19)</h2>\n",
              "        <div style=\"display:flex; flex-direction:column; align-items:flex-end; width: fit-content;\">\n",
              "            \n",
              "            <div style=\"text-align: right\">\n",
              "                <button onclick=navigator.clipboard.writeText(decodeURI('Feature%20name%09SHAP%20value%09PSI%20value%09Coverage%20%25%09Value%20preview%09Provider%09Source%09Updates%0Af_autofe_groupbythenmean_d5f4f809f4%098.6474%09%09100.0%090.1207,%200.0956,%200.1163%09Upgini,%20Training%20dataset%09AutoFE%3A%20feature%20from%20%3Ca%20href%3D%27https%3A%2F%2Fupgini.com%2F%23data_sources%27%20target%3D%27_blank%27%20rel%3D%27noopener%20noreferrer%27%3EMarkets%20data%3C%2Fa%3E,%20grouped%20by%20feature%20from%20training%20dataset%09Daily%0Af_autofe_groupbythenstd_9a84d2fd29%097.6594%09%09100.0%090.7032,%200.6807,%200.6856%09Upgini,%20Training%20dataset%09AutoFE%3A%20feature%20from%20%3Ca%20href%3D%27https%3A%2F%2Fupgini.com%2F%23data_sources%27%20target%3D%27_blank%27%20rel%3D%27noopener%20noreferrer%27%3ECalendar%20data%3C%2Fa%3E,%20grouped%20by%20feature%20from%20training%20dataset%09Daily%0Af_autofe_lag_28d_aaadd46bbb%096.8518%09%0997.10896960711638%09102.0,%2036.0,%2099.0%09Training%20dataset%09AutoFE%3A%20features%20from%20Training%20dataset%09%0Aitem%093.6145%09%09100.0%0940,%2030,%2018%09%09%09%0Af_autofe_groupbythenrank_d595da62f7%093.6009%09%09100.0%090.3695,%200.4968,%200.1916%09Upgini,%20Training%20dataset%09AutoFE%3A%20feature%20from%20%3Ca%20href%3D%27https%3A%2F%2Fupgini.com%2F%23data_sources%27%20target%3D%27_blank%27%20rel%3D%27noopener%20noreferrer%27%3ECalendar%20data%3C%2Fa%3E,%20grouped%20by%20feature%20from%20training%20dataset%09Daily%0Af_events_date_year_cos1_9014a856%092.3189%09%09100.0%090.3253,%20-0.263,%20-0.3496%09Upgini%09Calendar%20data%09Daily%0Af_financial_date_crude_oil_7d_to_1y_c3e0ad17%092.2738%09%09100.0%090.8935,%200.776,%201.0769%09Upgini%09Markets%20data%09Daily%0Af_autofe_roll_3d_min_1a2ad6d8bb%091.7323%09%09100.0%090.3253,%20-0.2795,%20-0.3817%09Training%20dataset,%20Upgini%09AutoFE%3A%20features%20from%20Training%20dataset,%3Ca%20href%3D%27https%3A%2F%2Fupgini.com%2F%23data_sources%27%20target%3D%27_blank%27%20rel%3D%27noopener%20noreferrer%27%3ECalendar%20data%3C%2Fa%3E%09Daily%0Af_autofe_roll_3d_median_8e12f1e1e9%091.3582%09%09100.0%090.309,%20-0.263,%20-0.3496%09Training%20dataset,%20Upgini%09AutoFE%3A%20features%20from%20Training%20dataset,%3Ca%20href%3D%27https%3A%2F%2Fupgini.com%2F%23data_sources%27%20target%3D%27_blank%27%20rel%3D%27noopener%20noreferrer%27%3ECalendar%20data%3C%2Fa%3E%09Daily%0Af_autofe_groupbythenmedian_64b28257d7%090.8412%09%09100.0%091.0007,%201.0008,%201.0011%09Upgini,%20Training%20dataset%09AutoFE%3A%20feature%20from%20%3Ca%20href%3D%27https%3A%2F%2Fupgini.com%2F%23data_sources%27%20target%3D%27_blank%27%20rel%3D%27noopener%20noreferrer%27%3EMarkets%20data%3C%2Fa%3E,%20grouped%20by%20feature%20from%20training%20dataset%09Daily%0Af_autofe_groupbythenrank_3729e8053b%090.7971%09%09100.0%090.3589,%200.2878,%200.3361%09Upgini,%20Training%20dataset%09AutoFE%3A%20feature%20from%20%3Ca%20href%3D%27https%3A%2F%2Fupgini.com%2F%23data_sources%27%20target%3D%27_blank%27%20rel%3D%27noopener%20noreferrer%27%3ECalendar%20data%3C%2Fa%3E,%20grouped%20by%20feature%20from%20training%20dataset%09Daily%0Af_autofe_groupbythenrank_110e5b8df1%090.5785%09%09100.0%090.0692,%200.2071,%200.801%09Upgini,%20Training%20dataset%09AutoFE%3A%20feature%20from%20%3Ca%20href%3D%27https%3A%2F%2Fupgini.com%2F%23data_sources%27%20target%3D%27_blank%27%20rel%3D%27noopener%20noreferrer%27%3ECalendar%20data%3C%2Fa%3E,%20grouped%20by%20feature%20from%20training%20dataset%09Daily%0Af_autofe_roll_3d_median_97804b26e6%090.5747%09%09100.0%0983.0,%20106.0,%2056.0%09Training%20dataset%09AutoFE%3A%20features%20from%20Training%20dataset%09%0Af_events_date_week_cos3_7525fe31%090.5532%09%09100.0%091.0,%20-0.2225,%200.6235%09Upgini%09Calendar%20data%09Daily%0Af_events_date_year_sin2_59955ffd%090.5182%09%09100.0%09-0.6153,%200.3847,%20-0.1628%09Upgini%09Calendar%20data%09Daily%0Af_events_date_week_sin1_847b5db1%090.4574%09%09100.0%090.0,%20-0.4339,%20-0.9749%09Upgini%09Calendar%20data%09Daily%0Astore%090.2775%09%09100.0%095,%2010,%207%09%09%09%0Af_economic_date_cbpol_umap_6_aa0352de%090.1118%09%09100.0%092.2567,%201.8214,%206.9596%09Upgini%09World%20economic%20indicators%09Daily%0Af_autofe_lag_7d_4a1d9c9dff%090.0886%09%0999.19517102615694%09102.0,%2036.0,%2099.0%09Training%20dataset%09AutoFE%3A%20features%20from%20Training%20dataset%09%0A'))>📂 Copy</button>\n",
              "                <a href='mailto:<Share with...>?subject=Relevant external data sources from Upgini.com&body=Feature%20name%09SHAP%20value%09PSI%20value%09Coverage%20%25%09Value%20preview%09Provider%09Source%09Updates%0Af_autofe_groupbythenmean_d5f4f809f4%098.6474%09%09100.0%090.1207,%200.0956,%200.1163%09Upgini,%20Training%20dataset%09AutoFE%3A%20feature%20from%20%3Ca%20href%3D%27https%3A%2F%2Fupgini.com%2F%23data_sources%27%20target%3D%27_blank%27%20rel%3D%27noopener%20noreferrer%27%3EMarkets%20data%3C%2Fa%3E,%20grouped%20by%20feature%20from%20training%20dataset%09Daily%0Af_autofe_groupbythenstd_9a84d2fd29%097.6594%09%09100.0%090.7032,%200.6807,%200.6856%09Upgini,%20Training%20dataset%09AutoFE%3A%20feature%20from%20%3Ca%20href%3D%27https%3A%2F%2Fupgini.com%2F%23data_sources%27%20target%3D%27_blank%27%20rel%3D%27noopener%20noreferrer%27%3ECalendar%20data%3C%2Fa%3E,%20grouped%20by%20feature%20from%20training%20dataset%09Daily%0Af_autofe_lag_28d_aaadd46bbb%096.8518%09%0997.10896960711638%09102.0,%2036.0,%2099.0%09Training%20dataset%09AutoFE%3A%20features%20from%20Training%20dataset%09%0Aitem%093.6145%09%09100.0%0940,%2030,%2018%09%09%09%0Af_autofe_groupbythenrank_d595da62f7%093.6009%09%09100.0%090.3695,%200.4968,%200.1916%09Upgini,%20Training%20dataset%09AutoFE%3A%20feature%20from%20%3Ca%20href%3D%27https%3A%2F%2Fupgini.com%2F%23data_sources%27%20target%3D%27_blank%27%20rel%3D%27noopener%20noreferrer%27%3ECalendar%20data%3C%2Fa%3E,%20grouped%20by%20feature%20from%20training%20dataset%09Daily%0Af_events_date_year_cos1_9014a856%092.3189%09%09100.0%090.3253,%20-0.263,%20-0.3496%09Upgini%09Calendar%20data%09Daily%0Af_financial_date_crude_oil_7d_to_1y_c3e0ad17%092.2738%09%09100.0%090.8935,%200.776,%201.0769%09Upgini%09Markets%20data%09Daily%0Af_autofe_roll_3d_min_1a2ad6d8bb%091.7323%09%09100.0%090.3253,%20-0.2795,%20-0.3817%09Training%20dataset,%20Upgini%09AutoFE%3A%20features%20from%20Training%20dataset,%3Ca%20href%3D%27https%3A%2F%2Fupgini.com%2F%23data_sources%27%20target%3D%27_blank%27%20rel%3D%27noopener%20noreferrer%27%3ECalendar%20data%3C%2Fa%3E%09Daily%0Af_autofe_roll_3d_median_8e12f1e1e9%091.3582%09%09100.0%090.309,%20-0.263,%20-0.3496%09Training%20dataset,%20Upgini%09AutoFE%3A%20features%20from%20Training%20dataset,%3Ca%20href%3D%27https%3A%2F%2Fupgini.com%2F%23data_sources%27%20target%3D%27_blank%27%20rel%3D%27noopener%20noreferrer%27%3ECalendar%20data%3C%2Fa%3E%09Daily%0Af_autofe_groupbythenmedian_64b28257d7%090.8412%09%09100.0%091.0007,%201.0008,%201.0011%09Upgini,%20Training%20dataset%09AutoFE%3A%20feature%20from%20%3Ca%20href%3D%27https%3A%2F%2Fupgini.com%2F%23data_sources%27%20target%3D%27_blank%27%20rel%3D%27noopener%20noreferrer%27%3EMarkets%20data%3C%2Fa%3E,%20grouped%20by%20feature%20from%20training%20dataset%09Daily%0Af_autofe_groupbythenrank_3729e8053b%090.7971%09%09100.0%090.3589,%200.2878,%200.3361%09Upgini,%20Training%20dataset%09AutoFE%3A%20feature%20from%20%3Ca%20href%3D%27https%3A%2F%2Fupgini.com%2F%23data_sources%27%20target%3D%27_blank%27%20rel%3D%27noopener%20noreferrer%27%3ECalendar%20data%3C%2Fa%3E,%20grouped%20by%20feature%20from%20training%20dataset%09Daily%0Af_autofe_groupbythenrank_110e5b8df1%090.5785%09%09100.0%090.0692,%200.2071,%200.801%09Upgini,%20Training%20dataset%09AutoFE%3A%20feature%20from%20%3Ca%20href%3D%27https%3A%2F%2Fupgini.com%2F%23data_sources%27%20target%3D%27_blank%27%20rel%3D%27noopener%20noreferrer%27%3ECalendar%20data%3C%2Fa%3E,%20grouped%20by%20feature%20from%20training%20dataset%09Daily%0Af_autofe_roll_3d_median_97804b26e6%090.5747%09%09100.0%0983.0,%20106.0,%2056.0%09Training%20dataset%09AutoFE%3A%20features%20from%20Training%20dataset%09%0Af_events_date_week_cos3_7525fe31%090.5532%09%09100.0%091.0,%20-0.2225,%200.6235%09Upgini%09Calendar%20data%09Daily%0Af_events_date_year_sin2_59955ffd%090.5182%09%09100.0%09-0.6153,%200.3847,%20-0.1628%09Upgini%09Calendar%20data%09Daily%0Af_events_date_week_sin1_847b5db1%090.4574%09%09100.0%090.0,%20-0.4339,%20-0.9749%09Upgini%09Calendar%20data%09Daily%0Astore%090.2775%09%09100.0%095,%2010,%207%09%09%09%0Af_economic_date_cbpol_umap_6_aa0352de%090.1118%09%09100.0%092.2567,%201.8214,%206.9596%09Upgini%09World%20economic%20indicators%09Daily%0Af_autofe_lag_7d_4a1d9c9dff%090.0886%09%0999.19517102615694%09102.0,%2036.0,%2099.0%09Training%20dataset%09AutoFE%3A%20features%20from%20Training%20dataset%09%0A'>\n",
              "                    <button>📨 Share</button>\n",
              "                </a>\n",
              "            </div>\n",
              "            <table class='upgini-df'><thead><th>Feature name</th><th>SHAP value</th><th>Coverage %</th><th>Value preview</th><th>Provider</th><th>Source</th><th>Updates</th></thead><tbody><tr><td class='upgini-text'>f_autofe_groupbythenmean_d5f4f809f4</td><td class='upgini-number'>8.6474</td><td class='upgini-number'>100.0000</td><td class='upgini-text'>0.1207, 0.0956, 0.1163</td><td class='upgini-text'><a href='https://upgini.com/' target='_blank' rel='noopener noreferrer'>Upgini</a>,Training dataset</td><td class='upgini-text'>AutoFE: feature from <a href='https://upgini.com/#data_sources' target='_blank' rel='noopener noreferrer'>Markets data</a>, grouped by feature from training dataset</td><td class='upgini-text'>Daily</td></tr><tr><td class='upgini-text'>f_autofe_groupbythenstd_9a84d2fd29</td><td class='upgini-number'>7.6594</td><td class='upgini-number'>100.0000</td><td class='upgini-text'>0.7032, 0.6807, 0.6856</td><td class='upgini-text'><a href='https://upgini.com/' target='_blank' rel='noopener noreferrer'>Upgini</a>,Training dataset</td><td class='upgini-text'>AutoFE: feature from <a href='https://upgini.com/#data_sources' target='_blank' rel='noopener noreferrer'>Calendar data</a>, grouped by feature from training dataset</td><td class='upgini-text'>Daily</td></tr><tr><td class='upgini-text'>f_autofe_lag_28d_aaadd46bbb</td><td class='upgini-number'>6.8518</td><td class='upgini-number'>97.1090</td><td class='upgini-text'>102.0, 36.0, 99.0</td><td class='upgini-text'>Training dataset</td><td class='upgini-text'>AutoFE: features from Training dataset</td><td class='upgini-text'>&nbsp;</td></tr><tr><td class='upgini-text'>item</td><td class='upgini-number'>3.6145</td><td class='upgini-number'>100.0000</td><td class='upgini-text'>40, 30, 18</td><td class='upgini-text'>&nbsp;</td><td class='upgini-text'>&nbsp;</td><td class='upgini-text'>&nbsp;</td></tr><tr><td class='upgini-text'>f_autofe_groupbythenrank_d595da62f7</td><td class='upgini-number'>3.6009</td><td class='upgini-number'>100.0000</td><td class='upgini-text'>0.3695, 0.4968, 0.1916</td><td class='upgini-text'><a href='https://upgini.com/' target='_blank' rel='noopener noreferrer'>Upgini</a>,Training dataset</td><td class='upgini-text'>AutoFE: feature from <a href='https://upgini.com/#data_sources' target='_blank' rel='noopener noreferrer'>Calendar data</a>, grouped by feature from training dataset</td><td class='upgini-text'>Daily</td></tr><tr><td class='upgini-text'><a href='https://docs.upgini.com/public/calendar/calendar#f_events_date_year_cos1_9014a856' target='_blank' rel='noopener noreferrer'>f_events_date_year_cos1_9014a856</a></td><td class='upgini-number'>2.3189</td><td class='upgini-number'>100.0000</td><td class='upgini-text'>0.3253, -0.263, -0.3496</td><td class='upgini-text'><a href='https://upgini.com/' target='_blank' rel='noopener noreferrer'>Upgini</a></td><td class='upgini-text'><a href='https://upgini.com/#data_sources' target='_blank' rel='noopener noreferrer'>Calendar data</a></td><td class='upgini-text'>Daily</td></tr><tr><td class='upgini-text'><a href='https://docs.upgini.com/public/markets/finance#f_financial_date_crude_oil_7d_to_1y_c3e0ad17' target='_blank' rel='noopener noreferrer'>f_financial_date_crude_oil_7d_to_1y_c3e0ad17</a></td><td class='upgini-number'>2.2738</td><td class='upgini-number'>100.0000</td><td class='upgini-text'>0.8935, 0.776, 1.0769</td><td class='upgini-text'><a href='https://upgini.com/' target='_blank' rel='noopener noreferrer'>Upgini</a></td><td class='upgini-text'><a href='https://upgini.com/#data_sources' target='_blank' rel='noopener noreferrer'>Markets data</a></td><td class='upgini-text'>Daily</td></tr><tr><td class='upgini-text'>f_autofe_roll_3d_min_1a2ad6d8bb</td><td class='upgini-number'>1.7323</td><td class='upgini-number'>100.0000</td><td class='upgini-text'>0.3253, -0.2795, -0.3817</td><td class='upgini-text'>Training dataset,<a href='https://upgini.com/' target='_blank' rel='noopener noreferrer'>Upgini</a></td><td class='upgini-text'>AutoFE: features from Training dataset,<a href='https://upgini.com/#data_sources' target='_blank' rel='noopener noreferrer'>Calendar data</a></td><td class='upgini-text'>Daily</td></tr><tr><td class='upgini-text'>f_autofe_roll_3d_median_8e12f1e1e9</td><td class='upgini-number'>1.3582</td><td class='upgini-number'>100.0000</td><td class='upgini-text'>0.309, -0.263, -0.3496</td><td class='upgini-text'>Training dataset,<a href='https://upgini.com/' target='_blank' rel='noopener noreferrer'>Upgini</a></td><td class='upgini-text'>AutoFE: features from Training dataset,<a href='https://upgini.com/#data_sources' target='_blank' rel='noopener noreferrer'>Calendar data</a></td><td class='upgini-text'>Daily</td></tr><tr><td class='upgini-text'>f_autofe_groupbythenmedian_64b28257d7</td><td class='upgini-number'>0.8412</td><td class='upgini-number'>100.0000</td><td class='upgini-text'>1.0007, 1.0008, 1.0011</td><td class='upgini-text'><a href='https://upgini.com/' target='_blank' rel='noopener noreferrer'>Upgini</a>,Training dataset</td><td class='upgini-text'>AutoFE: feature from <a href='https://upgini.com/#data_sources' target='_blank' rel='noopener noreferrer'>Markets data</a>, grouped by feature from training dataset</td><td class='upgini-text'>Daily</td></tr><tr><td class='upgini-text'>f_autofe_groupbythenrank_3729e8053b</td><td class='upgini-number'>0.7971</td><td class='upgini-number'>100.0000</td><td class='upgini-text'>0.3589, 0.2878, 0.3361</td><td class='upgini-text'><a href='https://upgini.com/' target='_blank' rel='noopener noreferrer'>Upgini</a>,Training dataset</td><td class='upgini-text'>AutoFE: feature from <a href='https://upgini.com/#data_sources' target='_blank' rel='noopener noreferrer'>Calendar data</a>, grouped by feature from training dataset</td><td class='upgini-text'>Daily</td></tr><tr><td class='upgini-text'>f_autofe_groupbythenrank_110e5b8df1</td><td class='upgini-number'>0.5785</td><td class='upgini-number'>100.0000</td><td class='upgini-text'>0.0692, 0.2071, 0.801</td><td class='upgini-text'><a href='https://upgini.com/' target='_blank' rel='noopener noreferrer'>Upgini</a>,Training dataset</td><td class='upgini-text'>AutoFE: feature from <a href='https://upgini.com/#data_sources' target='_blank' rel='noopener noreferrer'>Calendar data</a>, grouped by feature from training dataset</td><td class='upgini-text'>Daily</td></tr><tr><td class='upgini-text'>f_autofe_roll_3d_median_97804b26e6</td><td class='upgini-number'>0.5747</td><td class='upgini-number'>100.0000</td><td class='upgini-text'>83.0, 106.0, 56.0</td><td class='upgini-text'>Training dataset</td><td class='upgini-text'>AutoFE: features from Training dataset</td><td class='upgini-text'>&nbsp;</td></tr><tr><td class='upgini-text'><a href='https://docs.upgini.com/public/calendar/calendar#f_events_date_week_cos3_7525fe31' target='_blank' rel='noopener noreferrer'>f_events_date_week_cos3_7525fe31</a></td><td class='upgini-number'>0.5532</td><td class='upgini-number'>100.0000</td><td class='upgini-text'>1.0, -0.2225, 0.6235</td><td class='upgini-text'><a href='https://upgini.com/' target='_blank' rel='noopener noreferrer'>Upgini</a></td><td class='upgini-text'><a href='https://upgini.com/#data_sources' target='_blank' rel='noopener noreferrer'>Calendar data</a></td><td class='upgini-text'>Daily</td></tr><tr><td class='upgini-text'><a href='https://docs.upgini.com/public/calendar/calendar#f_events_date_year_sin2_59955ffd' target='_blank' rel='noopener noreferrer'>f_events_date_year_sin2_59955ffd</a></td><td class='upgini-number'>0.5182</td><td class='upgini-number'>100.0000</td><td class='upgini-text'>-0.6153, 0.3847, -0.1628</td><td class='upgini-text'><a href='https://upgini.com/' target='_blank' rel='noopener noreferrer'>Upgini</a></td><td class='upgini-text'><a href='https://upgini.com/#data_sources' target='_blank' rel='noopener noreferrer'>Calendar data</a></td><td class='upgini-text'>Daily</td></tr><tr><td class='upgini-text'><a href='https://docs.upgini.com/public/calendar/calendar#f_events_date_week_sin1_847b5db1' target='_blank' rel='noopener noreferrer'>f_events_date_week_sin1_847b5db1</a></td><td class='upgini-number'>0.4574</td><td class='upgini-number'>100.0000</td><td class='upgini-text'>0.0, -0.4339, -0.9749</td><td class='upgini-text'><a href='https://upgini.com/' target='_blank' rel='noopener noreferrer'>Upgini</a></td><td class='upgini-text'><a href='https://upgini.com/#data_sources' target='_blank' rel='noopener noreferrer'>Calendar data</a></td><td class='upgini-text'>Daily</td></tr><tr><td class='upgini-text'>store</td><td class='upgini-number'>0.2775</td><td class='upgini-number'>100.0000</td><td class='upgini-text'>5, 10, 7</td><td class='upgini-text'>&nbsp;</td><td class='upgini-text'>&nbsp;</td><td class='upgini-text'>&nbsp;</td></tr><tr><td class='upgini-text'><a href='https://docs.upgini.com/public/economics/cbpol_umap#f_economic_date_cbpol_umap_6_aa0352de' target='_blank' rel='noopener noreferrer'>f_economic_date_cbpol_umap_6_aa0352de</a></td><td class='upgini-number'>0.1118</td><td class='upgini-number'>100.0000</td><td class='upgini-text'>2.2567, 1.8214, 6.9596</td><td class='upgini-text'><a href='https://upgini.com/' target='_blank' rel='noopener noreferrer'>Upgini</a></td><td class='upgini-text'><a href='https://upgini.com/#data_sources' target='_blank' rel='noopener noreferrer'>World economic indicators</a></td><td class='upgini-text'>Daily</td></tr><tr><td class='upgini-text'>f_autofe_lag_7d_4a1d9c9dff</td><td class='upgini-number'>0.0886</td><td class='upgini-number'>99.1952</td><td class='upgini-text'>102.0, 36.0, 99.0</td><td class='upgini-text'>Training dataset</td><td class='upgini-text'>AutoFE: features from Training dataset</td><td class='upgini-text'>&nbsp;</td></tr></tbody></table>\n",
              "        </div>\n",
              "        "
            ]
          },
          "metadata": {}
        },
        {
          "output_type": "display_data",
          "data": {
            "text/plain": [
              "<IPython.core.display.HTML object>"
            ],
            "text/html": [
              "<style>\n",
              "            .upgini-df thead th {\n",
              "                font-weight:bold;\n",
              "                text-align: center;\n",
              "                padding: 0.5em;\n",
              "                border-bottom: 2px solid black;\n",
              "            }\n",
              "\n",
              "            .upgini-df tbody td {\n",
              "                padding: 0.5em;\n",
              "                color: black;\n",
              "            }\n",
              "\n",
              "            .upgini-df tbody tr:nth-child(odd) {\n",
              "                background-color: #ffffff;\n",
              "            }\n",
              "\n",
              "            .upgini-df tbody tr:nth-child(even) {\n",
              "                background-color: #f2f2f2;\n",
              "            }\n",
              "\n",
              "            .upgini-text {\n",
              "                text-align: left;\n",
              "            }\n",
              "\n",
              "            .upgini-number {\n",
              "                text-align: center;\n",
              "            }\n",
              "        </style>\n",
              "        <h2>Relevant data sources</h2>\n",
              "        <div style=\"display:flex; flex-direction:column; align-items:flex-end; width: fit-content;\">\n",
              "            \n",
              "            <div style=\"text-align: right\">\n",
              "                <button onclick=navigator.clipboard.writeText(decodeURI('Provider%09Source%09All%20features%20SHAP%09Number%20of%20relevant%20features%0AUpgini,%20Training%20dataset%09AutoFE%3A%20feature%20from%20%3Ca%20href%3D%27https%3A%2F%2Fupgini.com%2F%23data_sources%27%20target%3D%27_blank%27%20rel%3D%27noopener%20noreferrer%27%3ECalendar%20data%3C%2Fa%3E,%20grouped%20by%20feature%20from%20training%20dataset%0912.6359%094%0AUpgini,%20Training%20dataset%09AutoFE%3A%20feature%20from%20%3Ca%20href%3D%27https%3A%2F%2Fupgini.com%2F%23data_sources%27%20target%3D%27_blank%27%20rel%3D%27noopener%20noreferrer%27%3EMarkets%20data%3C%2Fa%3E,%20grouped%20by%20feature%20from%20training%20dataset%099.4886%092%0ATraining%20dataset%09AutoFE%3A%20features%20from%20Training%20dataset%097.5150999999999994%093%0AUpgini%09Calendar%20data%093.8477%094%0ATraining%20dataset,%20Upgini%09AutoFE%3A%20features%20from%20Training%20dataset,%3Ca%20href%3D%27https%3A%2F%2Fupgini.com%2F%23data_sources%27%20target%3D%27_blank%27%20rel%3D%27noopener%20noreferrer%27%3ECalendar%20data%3C%2Fa%3E%093.0905%092%0AUpgini%09Markets%20data%092.2738%091%0AUpgini%09World%20economic%20indicators%090.1118%091%0A'))>📂 Copy</button>\n",
              "                <a href='mailto:<Share with...>?subject=Relevant external data sources from Upgini.com&body=Provider%09Source%09All%20features%20SHAP%09Number%20of%20relevant%20features%0AUpgini,%20Training%20dataset%09AutoFE%3A%20feature%20from%20%3Ca%20href%3D%27https%3A%2F%2Fupgini.com%2F%23data_sources%27%20target%3D%27_blank%27%20rel%3D%27noopener%20noreferrer%27%3ECalendar%20data%3C%2Fa%3E,%20grouped%20by%20feature%20from%20training%20dataset%0912.6359%094%0AUpgini,%20Training%20dataset%09AutoFE%3A%20feature%20from%20%3Ca%20href%3D%27https%3A%2F%2Fupgini.com%2F%23data_sources%27%20target%3D%27_blank%27%20rel%3D%27noopener%20noreferrer%27%3EMarkets%20data%3C%2Fa%3E,%20grouped%20by%20feature%20from%20training%20dataset%099.4886%092%0ATraining%20dataset%09AutoFE%3A%20features%20from%20Training%20dataset%097.5150999999999994%093%0AUpgini%09Calendar%20data%093.8477%094%0ATraining%20dataset,%20Upgini%09AutoFE%3A%20features%20from%20Training%20dataset,%3Ca%20href%3D%27https%3A%2F%2Fupgini.com%2F%23data_sources%27%20target%3D%27_blank%27%20rel%3D%27noopener%20noreferrer%27%3ECalendar%20data%3C%2Fa%3E%093.0905%092%0AUpgini%09Markets%20data%092.2738%091%0AUpgini%09World%20economic%20indicators%090.1118%091%0A'>\n",
              "                    <button>📨 Share</button>\n",
              "                </a>\n",
              "            </div>\n",
              "            <table class='upgini-df'><thead><th>Provider</th><th>Source</th><th>All features SHAP</th><th>Number of relevant features</th></thead><tbody><tr><td class='upgini-text'><a href='https://upgini.com/' target='_blank' rel='noopener noreferrer'>Upgini</a>,Training dataset</td><td class='upgini-text'>AutoFE: feature from <a href='https://upgini.com/#data_sources' target='_blank' rel='noopener noreferrer'>Calendar data</a>, grouped by feature from training dataset</td><td class='upgini-number'>12.6359</td><td class='upgini-number'>4</td></tr><tr><td class='upgini-text'><a href='https://upgini.com/' target='_blank' rel='noopener noreferrer'>Upgini</a>,Training dataset</td><td class='upgini-text'>AutoFE: feature from <a href='https://upgini.com/#data_sources' target='_blank' rel='noopener noreferrer'>Markets data</a>, grouped by feature from training dataset</td><td class='upgini-number'>9.4886</td><td class='upgini-number'>2</td></tr><tr><td class='upgini-text'>Training dataset</td><td class='upgini-text'>AutoFE: features from Training dataset</td><td class='upgini-number'>7.5151</td><td class='upgini-number'>3</td></tr><tr><td class='upgini-text'><a href='https://upgini.com/' target='_blank' rel='noopener noreferrer'>Upgini</a></td><td class='upgini-text'><a href='https://upgini.com/#data_sources' target='_blank' rel='noopener noreferrer'>Calendar data</a></td><td class='upgini-number'>3.8477</td><td class='upgini-number'>4</td></tr><tr><td class='upgini-text'>Training dataset,<a href='https://upgini.com/' target='_blank' rel='noopener noreferrer'>Upgini</a></td><td class='upgini-text'>AutoFE: features from Training dataset,<a href='https://upgini.com/#data_sources' target='_blank' rel='noopener noreferrer'>Calendar data</a></td><td class='upgini-number'>3.0905</td><td class='upgini-number'>2</td></tr><tr><td class='upgini-text'><a href='https://upgini.com/' target='_blank' rel='noopener noreferrer'>Upgini</a></td><td class='upgini-text'><a href='https://upgini.com/#data_sources' target='_blank' rel='noopener noreferrer'>Markets data</a></td><td class='upgini-number'>2.2738</td><td class='upgini-number'>1</td></tr><tr><td class='upgini-text'><a href='https://upgini.com/' target='_blank' rel='noopener noreferrer'>Upgini</a></td><td class='upgini-text'><a href='https://upgini.com/#data_sources' target='_blank' rel='noopener noreferrer'>World economic indicators</a></td><td class='upgini-number'>0.1118</td><td class='upgini-number'>1</td></tr></tbody></table>\n",
              "        </div>\n",
              "        "
            ]
          },
          "metadata": {}
        },
        {
          "output_type": "display_data",
          "data": {
            "text/plain": [
              "<IPython.core.display.HTML object>"
            ],
            "text/html": [
              "<style>\n",
              "            .upgini-df thead th {\n",
              "                font-weight:bold;\n",
              "                text-align: center;\n",
              "                padding: 0.5em;\n",
              "                border-bottom: 2px solid black;\n",
              "            }\n",
              "\n",
              "            .upgini-df tbody td {\n",
              "                padding: 0.5em;\n",
              "                color: black;\n",
              "            }\n",
              "\n",
              "            .upgini-df tbody tr:nth-child(odd) {\n",
              "                background-color: #ffffff;\n",
              "            }\n",
              "\n",
              "            .upgini-df tbody tr:nth-child(even) {\n",
              "                background-color: #f2f2f2;\n",
              "            }\n",
              "\n",
              "            .upgini-text {\n",
              "                text-align: left;\n",
              "            }\n",
              "\n",
              "            .upgini-number {\n",
              "                text-align: center;\n",
              "            }\n",
              "        </style>\n",
              "        <h2>*Description of AutoFE feature names</h2>\n",
              "        <div style=\"display:flex; flex-direction:column; align-items:flex-end; width: fit-content;\">\n",
              "            \n",
              "            <div style=\"text-align: right\">\n",
              "                <button onclick=navigator.clipboard.writeText(decodeURI('Sources%09Feature%20name%09Feature%201%09Feature%202%09Function%0A%3Ca%20href%3D%27https%3A%2F%2Fupgini.com%2F%23data_sources%27%20target%3D%27_blank%27%20rel%3D%27noopener%20noreferrer%27%3EMarkets%20data%3C%2Fa%3E,%20grouped%20by%20feature%20from%20training%20dataset%09f_autofe_groupbythenmean_d5f4f809f4%09f_financial_date_vix_gap_b64bd2b9%09store_824d80%09GroupByThenMean%0A%3Ca%20href%3D%27https%3A%2F%2Fupgini.com%2F%23data_sources%27%20target%3D%27_blank%27%20rel%3D%27noopener%20noreferrer%27%3ECalendar%20data%3C%2Fa%3E,%20grouped%20by%20feature%20from%20training%20dataset%09f_autofe_groupbythenstd_9a84d2fd29%09f_events_date_year_cos8_d2a83ca9%09item_4a33ea%09GroupByThenStd%0ATraining%20dataset%09f_autofe_lag_28d_aaadd46bbb%09target%09%09lag_28d%0A%3Ca%20href%3D%27https%3A%2F%2Fupgini.com%2F%23data_sources%27%20target%3D%27_blank%27%20rel%3D%27noopener%20noreferrer%27%3ECalendar%20data%3C%2Fa%3E,%20grouped%20by%20feature%20from%20training%20dataset%09f_autofe_groupbythenrank_d595da62f7%09f_events_date_week_cos3_7525fe31%09store_824d80%09GroupByThenRank%0ATraining%20dataset,%3Ca%20href%3D%27https%3A%2F%2Fupgini.com%2F%23data_sources%27%20target%3D%27_blank%27%20rel%3D%27noopener%20noreferrer%27%3ECalendar%20data%3C%2Fa%3E%09f_autofe_roll_3d_min_1a2ad6d8bb%09f_events_date_year_cos1_9014a856%09%09roll_3d_min%0ATraining%20dataset,%3Ca%20href%3D%27https%3A%2F%2Fupgini.com%2F%23data_sources%27%20target%3D%27_blank%27%20rel%3D%27noopener%20noreferrer%27%3ECalendar%20data%3C%2Fa%3E%09f_autofe_roll_3d_median_8e12f1e1e9%09f_events_date_year_cos1_9014a856%09%09roll_3d_median%0A%3Ca%20href%3D%27https%3A%2F%2Fupgini.com%2F%23data_sources%27%20target%3D%27_blank%27%20rel%3D%27noopener%20noreferrer%27%3EMarkets%20data%3C%2Fa%3E,%20grouped%20by%20feature%20from%20training%20dataset%09f_autofe_groupbythenmedian_64b28257d7%09f_financial_date_usd_eur_1d_to_7d_d8b89b5d%09item_4a33ea%09GroupByThenMedian%0A%3Ca%20href%3D%27https%3A%2F%2Fupgini.com%2F%23data_sources%27%20target%3D%27_blank%27%20rel%3D%27noopener%20noreferrer%27%3ECalendar%20data%3C%2Fa%3E,%20grouped%20by%20feature%20from%20training%20dataset%09f_autofe_groupbythenrank_3729e8053b%09f_events_date_week_cos1_f6a8c1fc%09item_4a33ea%09GroupByThenRank%0A%3Ca%20href%3D%27https%3A%2F%2Fupgini.com%2F%23data_sources%27%20target%3D%27_blank%27%20rel%3D%27noopener%20noreferrer%27%3ECalendar%20data%3C%2Fa%3E,%20grouped%20by%20feature%20from%20training%20dataset%09f_autofe_groupbythenrank_110e5b8df1%09f_events_date_week_cos1_f6a8c1fc%09store_824d80%09GroupByThenRank%0ATraining%20dataset%09f_autofe_roll_3d_median_97804b26e6%09target%09%09roll_3d_median%0ATraining%20dataset%09f_autofe_lag_7d_4a1d9c9dff%09target%09%09lag_7d%0A'))>📂 Copy</button>\n",
              "                <a href='mailto:<Share with...>?subject=Relevant external data sources from Upgini.com&body=Sources%09Feature%20name%09Feature%201%09Feature%202%09Function%0A%3Ca%20href%3D%27https%3A%2F%2Fupgini.com%2F%23data_sources%27%20target%3D%27_blank%27%20rel%3D%27noopener%20noreferrer%27%3EMarkets%20data%3C%2Fa%3E,%20grouped%20by%20feature%20from%20training%20dataset%09f_autofe_groupbythenmean_d5f4f809f4%09f_financial_date_vix_gap_b64bd2b9%09store_824d80%09GroupByThenMean%0A%3Ca%20href%3D%27https%3A%2F%2Fupgini.com%2F%23data_sources%27%20target%3D%27_blank%27%20rel%3D%27noopener%20noreferrer%27%3ECalendar%20data%3C%2Fa%3E,%20grouped%20by%20feature%20from%20training%20dataset%09f_autofe_groupbythenstd_9a84d2fd29%09f_events_date_year_cos8_d2a83ca9%09item_4a33ea%09GroupByThenStd%0ATraining%20dataset%09f_autofe_lag_28d_aaadd46bbb%09target%09%09lag_28d%0A%3Ca%20href%3D%27https%3A%2F%2Fupgini.com%2F%23data_sources%27%20target%3D%27_blank%27%20rel%3D%27noopener%20noreferrer%27%3ECalendar%20data%3C%2Fa%3E,%20grouped%20by%20feature%20from%20training%20dataset%09f_autofe_groupbythenrank_d595da62f7%09f_events_date_week_cos3_7525fe31%09store_824d80%09GroupByThenRank%0ATraining%20dataset,%3Ca%20href%3D%27https%3A%2F%2Fupgini.com%2F%23data_sources%27%20target%3D%27_blank%27%20rel%3D%27noopener%20noreferrer%27%3ECalendar%20data%3C%2Fa%3E%09f_autofe_roll_3d_min_1a2ad6d8bb%09f_events_date_year_cos1_9014a856%09%09roll_3d_min%0ATraining%20dataset,%3Ca%20href%3D%27https%3A%2F%2Fupgini.com%2F%23data_sources%27%20target%3D%27_blank%27%20rel%3D%27noopener%20noreferrer%27%3ECalendar%20data%3C%2Fa%3E%09f_autofe_roll_3d_median_8e12f1e1e9%09f_events_date_year_cos1_9014a856%09%09roll_3d_median%0A%3Ca%20href%3D%27https%3A%2F%2Fupgini.com%2F%23data_sources%27%20target%3D%27_blank%27%20rel%3D%27noopener%20noreferrer%27%3EMarkets%20data%3C%2Fa%3E,%20grouped%20by%20feature%20from%20training%20dataset%09f_autofe_groupbythenmedian_64b28257d7%09f_financial_date_usd_eur_1d_to_7d_d8b89b5d%09item_4a33ea%09GroupByThenMedian%0A%3Ca%20href%3D%27https%3A%2F%2Fupgini.com%2F%23data_sources%27%20target%3D%27_blank%27%20rel%3D%27noopener%20noreferrer%27%3ECalendar%20data%3C%2Fa%3E,%20grouped%20by%20feature%20from%20training%20dataset%09f_autofe_groupbythenrank_3729e8053b%09f_events_date_week_cos1_f6a8c1fc%09item_4a33ea%09GroupByThenRank%0A%3Ca%20href%3D%27https%3A%2F%2Fupgini.com%2F%23data_sources%27%20target%3D%27_blank%27%20rel%3D%27noopener%20noreferrer%27%3ECalendar%20data%3C%2Fa%3E,%20grouped%20by%20feature%20from%20training%20dataset%09f_autofe_groupbythenrank_110e5b8df1%09f_events_date_week_cos1_f6a8c1fc%09store_824d80%09GroupByThenRank%0ATraining%20dataset%09f_autofe_roll_3d_median_97804b26e6%09target%09%09roll_3d_median%0ATraining%20dataset%09f_autofe_lag_7d_4a1d9c9dff%09target%09%09lag_7d%0A'>\n",
              "                    <button>📨 Share</button>\n",
              "                </a>\n",
              "            </div>\n",
              "            <table class='upgini-df'><thead><th>Sources</th><th>Feature name</th><th>Feature 1</th><th>Feature 2</th><th>Function</th></thead><tbody><tr><td class='upgini-text'><a href='https://upgini.com/#data_sources' target='_blank' rel='noopener noreferrer'>Markets data</a>, grouped by feature from training dataset</td><td class='upgini-text'>f_autofe_groupbythenmean_d5f4f809f4</td><td class='upgini-text'>f_financial_date_vix_gap_b64bd2b9</td><td class='upgini-text'>store_824d80</td><td class='upgini-text'>GroupByThenMean</td></tr><tr><td class='upgini-text'><a href='https://upgini.com/#data_sources' target='_blank' rel='noopener noreferrer'>Calendar data</a>, grouped by feature from training dataset</td><td class='upgini-text'>f_autofe_groupbythenstd_9a84d2fd29</td><td class='upgini-text'>f_events_date_year_cos8_d2a83ca9</td><td class='upgini-text'>item_4a33ea</td><td class='upgini-text'>GroupByThenStd</td></tr><tr><td class='upgini-text'>Training dataset</td><td class='upgini-text'>f_autofe_lag_28d_aaadd46bbb</td><td class='upgini-text'>target</td><td class='upgini-text'>&nbsp;</td><td class='upgini-text'>lag_28d</td></tr><tr><td class='upgini-text'><a href='https://upgini.com/#data_sources' target='_blank' rel='noopener noreferrer'>Calendar data</a>, grouped by feature from training dataset</td><td class='upgini-text'>f_autofe_groupbythenrank_d595da62f7</td><td class='upgini-text'>f_events_date_week_cos3_7525fe31</td><td class='upgini-text'>store_824d80</td><td class='upgini-text'>GroupByThenRank</td></tr><tr><td class='upgini-text'>Training dataset,<a href='https://upgini.com/#data_sources' target='_blank' rel='noopener noreferrer'>Calendar data</a></td><td class='upgini-text'>f_autofe_roll_3d_min_1a2ad6d8bb</td><td class='upgini-text'>f_events_date_year_cos1_9014a856</td><td class='upgini-text'>&nbsp;</td><td class='upgini-text'>roll_3d_min</td></tr><tr><td class='upgini-text'>Training dataset,<a href='https://upgini.com/#data_sources' target='_blank' rel='noopener noreferrer'>Calendar data</a></td><td class='upgini-text'>f_autofe_roll_3d_median_8e12f1e1e9</td><td class='upgini-text'>f_events_date_year_cos1_9014a856</td><td class='upgini-text'>&nbsp;</td><td class='upgini-text'>roll_3d_median</td></tr><tr><td class='upgini-text'><a href='https://upgini.com/#data_sources' target='_blank' rel='noopener noreferrer'>Markets data</a>, grouped by feature from training dataset</td><td class='upgini-text'>f_autofe_groupbythenmedian_64b28257d7</td><td class='upgini-text'>f_financial_date_usd_eur_1d_to_7d_d8b89b5d</td><td class='upgini-text'>item_4a33ea</td><td class='upgini-text'>GroupByThenMedian</td></tr><tr><td class='upgini-text'><a href='https://upgini.com/#data_sources' target='_blank' rel='noopener noreferrer'>Calendar data</a>, grouped by feature from training dataset</td><td class='upgini-text'>f_autofe_groupbythenrank_3729e8053b</td><td class='upgini-text'>f_events_date_week_cos1_f6a8c1fc</td><td class='upgini-text'>item_4a33ea</td><td class='upgini-text'>GroupByThenRank</td></tr><tr><td class='upgini-text'><a href='https://upgini.com/#data_sources' target='_blank' rel='noopener noreferrer'>Calendar data</a>, grouped by feature from training dataset</td><td class='upgini-text'>f_autofe_groupbythenrank_110e5b8df1</td><td class='upgini-text'>f_events_date_week_cos1_f6a8c1fc</td><td class='upgini-text'>store_824d80</td><td class='upgini-text'>GroupByThenRank</td></tr><tr><td class='upgini-text'>Training dataset</td><td class='upgini-text'>f_autofe_roll_3d_median_97804b26e6</td><td class='upgini-text'>target</td><td class='upgini-text'>&nbsp;</td><td class='upgini-text'>roll_3d_median</td></tr><tr><td class='upgini-text'>Training dataset</td><td class='upgini-text'>f_autofe_lag_7d_4a1d9c9dff</td><td class='upgini-text'>target</td><td class='upgini-text'>&nbsp;</td><td class='upgini-text'>lag_7d</td></tr></tbody></table>\n",
              "        </div>\n",
              "        "
            ]
          },
          "metadata": {}
        },
        {
          "output_type": "stream",
          "name": "stdout",
          "text": [
            "We detected 25 outliers in your sample.\n",
            "Examples of outliers with maximum value of target:\n",
            "17    196\n",
            "12    187\n",
            "15    171\n",
            "Name: target, dtype: int64\n",
            "Outliers will be excluded during the metrics calculation.\n",
            "Calculating accuracy uplift after enrichment...\n"
          ]
        },
        {
          "output_type": "display_data",
          "data": {
            "text/plain": [
              "<IPython.core.display.HTML object>"
            ],
            "text/html": [
              "<a download=\"upgini-report-57640bf7-04b4-4717-86cf-5c0f49475691.pdf\" href=\"data:application/pdf;base64,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\" target=\"_blank\">\n",
              "            <button>📊 Download PDF report</button></a>"
            ]
          },
          "metadata": {}
        },
        {
          "output_type": "display_data",
          "data": {
            "text/plain": [
              "<IPython.core.display.HTML object>"
            ],
            "text/html": [
              "<style>\n",
              "            .upgini-df thead th {\n",
              "                font-weight:bold;\n",
              "                text-align: center;\n",
              "                padding: 0.5em;\n",
              "                border-bottom: 2px solid black;\n",
              "            }\n",
              "\n",
              "            .upgini-df tbody td {\n",
              "                padding: 0.5em;\n",
              "                color: black;\n",
              "            }\n",
              "\n",
              "            .upgini-df tbody tr:nth-child(odd) {\n",
              "                background-color: #ffffff;\n",
              "            }\n",
              "\n",
              "            .upgini-df tbody tr:nth-child(even) {\n",
              "                background-color: #f2f2f2;\n",
              "            }\n",
              "\n",
              "            .upgini-text {\n",
              "                text-align: left;\n",
              "            }\n",
              "\n",
              "            .upgini-number {\n",
              "                text-align: center;\n",
              "            }\n",
              "        </style>\n",
              "        <h2>Accuracy after enrichment</h2>\n",
              "        <div style=\"display:flex; flex-direction:column; align-items:flex-end; width: fit-content;\">\n",
              "            \n",
              "            <div style=\"text-align: right\">\n",
              "                <button onclick=navigator.clipboard.writeText(decodeURI('Dataset%20type%09Rows%09Mean%20target%09Baseline%20MAPE%09Enriched%20MAPE%09Uplift,%20abs%09Uplift,%20%25%0ATrain%099418%0953.3352%090.324%20%C2%B1%200.109%090.221%20%C2%B1%200.087%090.103%0931.9%25%0A'))>📂 Copy</button>\n",
              "                <a href='mailto:<Share with...>?subject=Relevant external data sources from Upgini.com&body=Dataset%20type%09Rows%09Mean%20target%09Baseline%20MAPE%09Enriched%20MAPE%09Uplift,%20abs%09Uplift,%20%25%0ATrain%099418%0953.3352%090.324%20%C2%B1%200.109%090.221%20%C2%B1%200.087%090.103%0931.9%25%0A'>\n",
              "                    <button>📨 Share</button>\n",
              "                </a>\n",
              "            </div>\n",
              "            <table class='upgini-df'><thead><th>Dataset type</th><th>Rows</th><th>Mean target</th><th>Baseline MAPE</th><th>Enriched MAPE</th><th>Uplift, abs</th><th>Uplift, %</th></thead><tbody><tr><td class='upgini-text'>Train</td><td class='upgini-number'>9418</td><td class='upgini-number'>53.3352</td><td class='upgini-text'>0.324 ± 0.109</td><td class='upgini-text'>0.221 ± 0.087</td><td class='upgini-number'>0.1030</td><td class='upgini-text'>31.9%</td></tr></tbody></table>\n",
              "        </div>\n",
              "        "
            ]
          },
          "metadata": {}
        },
        {
          "output_type": "display_data",
          "data": {
            "text/plain": [
              "<IPython.core.display.HTML object>"
            ],
            "text/html": [
              "<a download=\"upgini-report-af67fc19-c02a-4e4f-8a16-0709c48d7cda.pdf\" href=\"data:application/pdf;base64,JVBERi0xLjQKJZOMi54gUmVwb3J0TGFiIEdlbmVyYXRlZCBQREYgZG9jdW1lbnQgaHR0cDovL3d3dy5yZXBvcnRsYWIuY29tCjEgMCBvYmoKPDwKL0YxIDIgMCBSIC9GMiswIDQ2IDAgUgo+PgplbmRvYmoKMiAwIG9iago8PAovQmFzZUZvbnQgL0hlbHZldGljYSAvRW5jb2RpbmcgL1dpbkFuc2lFbmNvZGluZyAvTmFtZSAvRjEgL1N1YnR5cGUgL1R5cGUxIC9UeXBlIC9Gb250Cj4+CmVuZG9iagozIDAgb2JqCjw8Ci9BIDw8Ci9TIC9VUkkgL1R5cGUgL0FjdGlvbiAvVVJJIChodHRwczovL3VwZ2luaS5jb20vKQo+PiAvQm9yZGVyIFsgMCAwIDAgXSAvUmVjdCBbIDE1IDUzOS41OTYxIDI5LjAzODA5IDU0Ny4wOTYxIF0gL1N1YnR5cGUgL0xpbmsgL1R5cGUgL0Fubm90Cj4+CmVuZG9iago0IDAgb2JqCjw8Ci9BIDw8Ci9TIC9VUkkgL1R5cGUgL0FjdGlvbiAvVVJJIChodHRwczovL3VwZ2luaS5jb20vI2RhdGFfc291cmNlcykKPj4gL0JvcmRlciBbIDAgMCAwIF0gL1JlY3QgWyAxNzcuMzI5MyA1NDMuMzQ2MSAyMDguMjg2MyA1NTAuODQ2MSBdIC9TdWJ0eXBlIC9MaW5rIC9UeXBlIC9Bbm5vdAo+PgplbmRvYmoKNSAwIG9iago8PAovQSA8PAovUyAvVVJJIC9UeXBlIC9BY3Rpb24gL1VSSSAoaHR0cHM6Ly91cGdpbmkuY29tL3JlcXVlc3QtYS1xdW90ZT9zZWFyY2gtaWQ9NmUyOWZlYzMtYTdhZS00NDJiLThiMGItZmJiNjVmZWQzY2UyKQo+PiAvQm9yZGVyIFsgMCAwIDAgXSAvUmVjdCBbIDQ3NC4yIDUzOS41OTYxIDUxMC4zMTMzIDU0Ny4wOTYxIF0gL1N1YnR5cGUgL0xpbmsgL1R5cGUgL0Fubm90Cj4+CmVuZG9iago2IDAgb2JqCjw8Ci9BIDw8Ci9TIC9VUkkgL1R5cGUgL0FjdGlvbiAvVVJJIChodHRwczovL3VwZ2luaS5jb20vKQo+PiAvQm9yZGVyIFsgMCAwIDAgXSAvUmVjdCBbIDE1IDUxNC41OTYxIDI5LjAzODA5IDUyMi4wOTYxIF0gL1N1YnR5cGUgL0xpbmsgL1R5cGUgL0Fubm90Cj4+CmVuZG9iago3IDAgb2JqCjw8Ci9BIDw8Ci9TIC9VUkkgL1R5cGUgL0FjdGlvbiAvVVJJIChodHRwczovL3VwZ2luaS5jb20vI2RhdGFfc291cmNlcykKPj4gL0JvcmRlciBbIDAgMCAwIF0gL1JlY3QgWyAxNzcuMzI5MyA1MTguMzQ2MSAyMDYuNjMxMSA1MjUuODQ2MSBdIC9TdWJ0eXBlIC9MaW5rIC9UeXBlIC9Bbm5vdAo+PgplbmRvYmoKOCAwIG9iago8PAovQSA8PAovUyAvVVJJIC9UeXBlIC9BY3Rpb24gL1VSSSAoaHR0cHM6Ly91cGdpbmkuY29tL3JlcXVlc3QtYS1xdW90ZT9zZWFyY2gtaWQ9NmUyOWZlYzMtYTdhZS00NDJiLThiMGItZmJiNjVmZWQzY2UyKQo+PiAvQm9yZGVyIFsgMCAwIDAgXSAvUmVjdCBbIDQ3NC4yIDUxNC41OTYxIDUxMC4zMTMzIDUyMi4wOTYxIF0gL1N1YnR5cGUgL0xpbmsgL1R5cGUgL0Fubm90Cj4+CmVuZG9iago5IDAgb2JqCjw8Ci9BIDw8Ci9TIC9VUkkgL1R5cGUgL0FjdGlvbiAvVVJJIChodHRwczovL3VwZ2luaS5jb20vcmVxdWVzdC1hLXF1b3RlP3NlYXJjaC1pZD02ZTI5ZmVjMy1hN2FlLTQ0MmItOGIwYi1mYmI2NWZlZDNjZTIpCj4+IC9Cb3JkZXIgWyAwIDAgMCBdIC9SZWN0IFsgNDc0LjIgNDkzLjM0NjEgNTEwLjMxMzMgNTAwLjg0NjEgXSAvU3VidHlwZSAvTGluayAvVHlwZSAvQW5ub3QKPj4KZW5kb2JqCjEwIDAgb2JqCjw8Ci9BIDw8Ci9TIC9VUkkgL1R5cGUgL0FjdGlvbiAvVVJJIChodHRwczovL3VwZ2luaS5jb20vKQo+PiAvQm9yZGVyIFsgMCAwIDAgXSAvUmVjdCBbIDE1IDQ3NS44NDYxIDI5LjAzODA5IDQ4My4zNDYxIF0gL1N1YnR5cGUgL0xpbmsgL1R5cGUgL0Fubm90Cj4+CmVuZG9iagoxMSAwIG9iago8PAovQSA8PAovUyAvVVJJIC9UeXBlIC9BY3Rpb24gL1VSSSAoaHR0cHM6Ly91cGdpbmkuY29tLyNkYXRhX3NvdXJjZXMpCj4+IC9Cb3JkZXIgWyAwIDAgMCBdIC9SZWN0IFsgMTI5LjggNDc1Ljg0NjEgMTYwLjc1NyA0ODMuMzQ2MSBdIC9TdWJ0eXBlIC9MaW5rIC9UeXBlIC9Bbm5vdAo+PgplbmRvYmoKMTIgMCBvYmoKPDwKL0EgPDwKL1MgL1VSSSAvVHlwZSAvQWN0aW9uIC9VUkkgKGh0dHBzOi8vdXBnaW5pLmNvbS9yZXF1ZXN0LWEtcXVvdGU/c2VhcmNoLWlkPTZlMjlmZWMzLWE3YWUtNDQyYi04YjBiLWZiYjY1ZmVkM2NlMikKPj4gL0JvcmRlciBbIDAgMCAwIF0gL1JlY3QgWyA0NzQuMiA0NzUuODQ2MSA1MTAuMzEzMyA0ODMuMzQ2MSBdIC9TdWJ0eXBlIC9MaW5rIC9UeXBlIC9Bbm5vdAo+PgplbmRvYmoKMTMgMCBvYmoKPDwKL0EgPDwKL1MgL1VSSSAvVHlwZSAvQWN0aW9uIC9VUkkgKGh0dHBzOi8vdXBnaW5pLmNvbS8pCj4+IC9Cb3JkZXIgWyAwIDAgMCBdIC9SZWN0IFsgNTIuMTE2NyA0NTQuNTk2MSA2Ni4xNTQ3OSA0NjIuMDk2MSBdIC9TdWJ0eXBlIC9MaW5rIC9UeXBlIC9Bbm5vdAo+PgplbmRvYmoKMTQgMCBvYmoKPDwKL0EgPDwKL1MgL1VSSSAvVHlwZSAvQWN0aW9uIC9VUkkgKGh0dHBzOi8vdXBnaW5pLmNvbS8jZGF0YV9zb3VyY2VzKQo+PiAvQm9yZGVyIFsgMCAwIDAgXSAvUmVjdCBbIDE0Ny41MzQ0IDQ1MC44NDYxIDE3OC40OTE0IDQ1OC4zNDYxIF0gL1N1YnR5cGUgL0xpbmsgL1R5cGUgL0Fubm90Cj4+CmVuZG9iagoxNSAwIG9iago8PAovQSA8PAovUyAvVVJJIC9UeXBlIC9BY3Rpb24gL1VSSSAoaHR0cHM6Ly91cGdpbmkuY29tL3JlcXVlc3QtYS1xdW90ZT9zZWFyY2gtaWQ9NmUyOWZlYzMtYTdhZS00NDJiLThiMGItZmJiNjVmZWQzY2UyKQo+PiAvQm9yZGVyIFsgMCAwIDAgXSAvUmVjdCBbIDQ3NC4yIDQ1NC41OTYxIDUxMC4zMTMzIDQ2Mi4wOTYxIF0gL1N1YnR5cGUgL0xpbmsgL1R5cGUgL0Fubm90Cj4+CmVuZG9iagoxNiAwIG9iago8PAovQSA8PAovUyAvVVJJIC9UeXBlIC9BY3Rpb24gL1VSSSAoaHR0cHM6Ly91cGdpbmkuY29tLykKPj4gL0JvcmRlciBbIDAgMCAwIF0gL1JlY3QgWyAxNSA0MzMuMzQ2MSAyOS4wMzgwOSA0NDAuODQ2MSBdIC9TdWJ0eXBlIC9MaW5rIC9UeXBlIC9Bbm5vdAo+PgplbmRvYmoKMTcgMCBvYmoKPDwKL0EgPDwKL1MgL1VSSSAvVHlwZSAvQWN0aW9uIC9VUkkgKGh0dHBzOi8vdXBnaW5pLmNvbS8jZGF0YV9zb3VyY2VzKQo+PiAvQm9yZGVyIFsgMCAwIDAgXSAvUmVjdCBbIDEyOS44IDQzMy4zNDYxIDE1OS4xMDE4IDQ0MC44NDYxIF0gL1N1YnR5cGUgL0xpbmsgL1R5cGUgL0Fubm90Cj4+CmVuZG9iagoxOCAwIG9iago8PAovQSA8PAovUyAvVVJJIC9UeXBlIC9BY3Rpb24gL1VSSSAoaHR0cHM6Ly91cGdpbmkuY29tL3JlcXVlc3QtYS1xdW90ZT9zZWFyY2gtaWQ9NmUyOWZlYzMtYTdhZS00NDJiLThiMGItZmJiNjVmZWQzY2UyKQo+PiAvQm9yZGVyIFsgMCAwIDAgXSAvUmVjdCBbIDQ3NC4yIDQzMy4zNDYxIDUxMC4zMTMzIDQ0MC44NDYxIF0gL1N1YnR5cGUgL0xpbmsgL1R5cGUgL0Fubm90Cj4+CmVuZG9iagoxOSAwIG9iago8PAovQSA8PAovUyAvVVJJIC9UeXBlIC9BY3Rpb24gL1VSSSAoaHR0cHM6Ly91cGdpbmkuY29tLykKPj4gL0JvcmRlciBbIDAgMCAwIF0gL1JlY3QgWyAxNSA0MTUuODQ2MSAyOS4wMzgwOSA0MjMuMzQ2MSBdIC9TdWJ0eXBlIC9MaW5rIC9UeXBlIC9Bbm5vdAo+PgplbmRvYmoKMjAgMCBvYmoKPDwKL0EgPDwKL1MgL1VSSSAvVHlwZSAvQWN0aW9uIC9VUkkgKGh0dHBzOi8vdXBnaW5pLmNvbS8jZGF0YV9zb3VyY2VzKQo+PiAvQm9yZGVyIFsgMCAwIDAgXSAvUmVjdCBbIDEyOS44IDQxNS44NDYxIDE4OS4zMjY0IDQyMy4zNDYxIF0gL1N1YnR5cGUgL0xpbmsgL1R5cGUgL0Fubm90Cj4+CmVuZG9iagoyMSAwIG9iago8PAovQSA8PAovUyAvVVJJIC9UeXBlIC9BY3Rpb24gL1VSSSAoaHR0cHM6Ly91cGdpbmkuY29tL3JlcXVlc3QtYS1xdW90ZT9zZWFyY2gtaWQ9NmUyOWZlYzMtYTdhZS00NDJiLThiMGItZmJiNjVmZWQzY2UyKQo+PiAvQm9yZGVyIFsgMCAwIDAgXSAvUmVjdCBbIDQ3NC4yIDQxNS44NDYxIDUxMC4zMTMzIDQyMy4zNDYxIF0gL1N1YnR5cGUgL0xpbmsgL1R5cGUgL0Fubm90Cj4+CmVuZG9iagoyMiAwIG9iago8PAovQSA8PAovUyAvVVJJIC9UeXBlIC9BY3Rpb24gL1VSSSAoaHR0cHM6Ly91cGdpbmkuY29tLyNkYXRhX3NvdXJjZXMpCj4+IC9Cb3JkZXIgWyAwIDAgMCBdIC9SZWN0IFsgNDQ1LjUgMzQyLjk5NjIgNDc0LjgwMTggMzUwLjQ5NjIgXSAvU3VidHlwZSAvTGluayAvVHlwZSAvQW5ub3QKPj4KZW5kb2JqCjIzIDAgb2JqCjw8Ci9BIDw8Ci9TIC9VUkkgL1R5cGUgL0FjdGlvbiAvVVJJIChodHRwczovL3VwZ2luaS5jb20vI2RhdGFfc291cmNlcykKPj4gL0JvcmRlciBbIDAgMCAwIF0gL1JlY3QgWyA0NDUuNSAzMDIuOTk2MiA0NzYuNDU3IDMxMC40OTYyIF0gL1N1YnR5cGUgL0xpbmsgL1R5cGUgL0Fubm90Cj4+CmVuZG9iagoyNCAwIG9iago8PAovQSA8PAovUyAvVVJJIC9UeXBlIC9BY3Rpb24gL1VSSSAoaHR0cHM6Ly91cGdpbmkuY29tLyNkYXRhX3NvdXJjZXMpCj4+IC9Cb3JkZXIgWyAwIDAgMCBdIC9SZWN0IFsgNDQ1LjUgMjIwLjQ5NjIgNDc2LjQ1NyAyMjcuOTk2MiBdIC9TdWJ0eXBlIC9MaW5rIC9UeXBlIC9Bbm5vdAo+PgplbmRvYmoKMjUgMCBvYmoKPDwKL0EgPDwKL1MgL1VSSSAvVHlwZSAvQWN0aW9uIC9VUkkgKGh0dHBzOi8vdXBnaW5pLmNvbS8jZGF0YV9zb3VyY2VzKQo+PiAvQm9yZGVyIFsgMCAwIDAgXSAvUmVjdCBbIDQ4Mi42MTY3IDEzMC40OTYyIDUwMi40NDM0IDEzNy45OTYyIF0gL1N1YnR5cGUgL0xpbmsgL1R5cGUgL0Fubm90Cj4+CmVuZG9iagoyNiAwIG9iago8PAovQSA8PAovUyAvVVJJIC9UeXBlIC9BY3Rpb24gL1VSSSAoaHR0cHM6Ly91cGdpbmkuY29tLyNkYXRhX3NvdXJjZXMpCj4+IC9Cb3JkZXIgWyAwIDAgMCBdIC9SZWN0IFsgNDQ1LjUgMTIyLjk5NjIgNDU1LjM5MjYgMTMwLjQ5NjIgXSAvU3VidHlwZSAvTGluayAvVHlwZSAvQW5ub3QKPj4KZW5kb2JqCjI3IDAgb2JqCjw8Ci9BIDw8Ci9TIC9VUkkgL1R5cGUgL0FjdGlvbiAvVVJJIChodHRwczovL3VwZ2luaS5jb20vI2RhdGFfc291cmNlcykKPj4gL0JvcmRlciBbIDAgMCAwIF0gL1JlY3QgWyA0ODIuNjE2NyA5Ny45OTYyMyA1MDIuNDQzNCAxMDUuNDk2MiBdIC9TdWJ0eXBlIC9MaW5rIC9UeXBlIC9Bbm5vdAo+PgplbmRvYmoKMjggMCBvYmoKPDwKL0EgPDwKL1MgL1VSSSAvVHlwZSAvQWN0aW9uIC9VUkkgKGh0dHBzOi8vdXBnaW5pLmNvbS8jZGF0YV9zb3VyY2VzKQo+PiAvQm9yZGVyIFsgMCAwIDAgXSAvUmVjdCBbIDQ0NS41IDkwLjQ5NjIzIDQ1NS4zOTI2IDk3Ljk5NjIzIF0gL1N1YnR5cGUgL0xpbmsgL1R5cGUgL0Fubm90Cj4+CmVuZG9iagoyOSAwIG9iago8PAovQW5ub3RzIFsgMyAwIFIgNCAwIFIgNSAwIFIgNiAwIFIgNyAwIFIgOCAwIFIgOSAwIFIgMTAgMCBSIDExIDAgUiAxMiAwIFIgCiAgMTMgMCBSIDE0IDAgUiAxNSAwIFIgMTYgMCBSIDE3IDAgUiAxOCAwIFIgMTkgMCBSIDIwIDAgUiAyMSAwIFIgMjIgMCBSIAogIDIzIDAgUiAyNCAwIFIgMjUgMCBSIDI2IDAgUiAyNyAwIFIgMjggMCBSIF0gL0NvbnRlbnRzIDU3IDAgUiAvTWVkaWFCb3ggWyAwIDAgNTk1LjI3NTYgODQxLjg4OTggXSAvUGFyZW50IDU2IDAgUiAvUmVzb3VyY2VzIDw8Ci9Gb250IDEgMCBSIC9Qcm9jU2V0IFsgL1BERiAvVGV4dCAvSW1hZ2VCIC9JbWFnZUMgL0ltYWdlSSBdCj4+IC9Sb3RhdGUgMCAKICAvVHJhbnMgPDwKCj4+IC9UeXBlIC9QYWdlCj4+CmVuZG9iagozMCAwIG9iago8PAovQSA8PAovUyAvVVJJIC9UeXBlIC9BY3Rpb24gL1VSSSAoaHR0cHM6Ly91cGdpbmkuY29tLyNkYXRhX3NvdXJjZXMpCj4+IC9Cb3JkZXIgWyAwIDAgMCBdIC9SZWN0IFsgNDQ1LjUgNzc1LjAxNDggNDc0LjgwMTggNzgyLjUxNDggXSAvU3VidHlwZSAvTGluayAvVHlwZSAvQW5ub3QKPj4KZW5kb2JqCjMxIDAgb2JqCjw8Ci9BIDw8Ci9TIC9VUkkgL1R5cGUgL0FjdGlvbiAvVVJJIChodHRwczovL3VwZ2luaS5jb20vI2RhdGFfc291cmNlcykKPj4gL0JvcmRlciBbIDAgMCAwIF0gL1JlY3QgWyA0NDUuNSA3MzUuMDE0OCA0NzYuNDU3IDc0Mi41MTQ4IF0gL1N1YnR5cGUgL0xpbmsgL1R5cGUgL0Fubm90Cj4+CmVuZG9iagozMiAwIG9iago8PAovQSA8PAovUyAvVVJJIC9UeXBlIC9BY3Rpb24gL1VSSSAoaHR0cHM6Ly91cGdpbmkuY29tLyNkYXRhX3NvdXJjZXMpCj4+IC9Cb3JkZXIgWyAwIDAgMCBdIC9SZWN0IFsgNDQ1LjUgNjk1LjAxNDggNDc2LjQ1NyA3MDIuNTE0OCBdIC9TdWJ0eXBlIC9MaW5rIC9UeXBlIC9Bbm5vdAo+PgplbmRvYmoKMzMgMCBvYmoKPDwKL0EgPDwKL1MgL1VSSSAvVHlwZSAvQWN0aW9uIC9VUkkgKGh0dHBzOi8vdXBnaW5pLmNvbS8jZGF0YV9zb3VyY2VzKQo+PiAvQm9yZGVyIFsgMCAwIDAgXSAvUmVjdCBbIDE1IDQ0Ny4xNjQ4IDQ0LjMwMTc2IDQ1NC42NjQ4IF0gL1N1YnR5cGUgL0xpbmsgL1R5cGUgL0Fubm90Cj4+CmVuZG9iagozNCAwIG9iago8PAovQSA8PAovUyAvVVJJIC9UeXBlIC9BY3Rpb24gL1VSSSAoaHR0cHM6Ly91cGdpbmkuY29tLyNkYXRhX3NvdXJjZXMpCj4+IC9Cb3JkZXIgWyAwIDAgMCBdIC9SZWN0IFsgMTUgNDIyLjE2NDggNDUuOTU3MDMgNDI5LjY2NDggXSAvU3VidHlwZSAvTGluayAvVHlwZSAvQW5ub3QKPj4KZW5kb2JqCjM1IDAgb2JqCjw8Ci9BIDw8Ci9TIC9VUkkgL1R5cGUgL0FjdGlvbiAvVVJJIChodHRwczovL3VwZ2luaS5jb20vI2RhdGFfc291cmNlcykKPj4gL0JvcmRlciBbIDAgMCAwIF0gL1JlY3QgWyAxNSAzNzIuMTY0OCA0NS45NTcwMyAzNzkuNjY0OCBdIC9TdWJ0eXBlIC9MaW5rIC9UeXBlIC9Bbm5vdAo+PgplbmRvYmoKMzYgMCBvYmoKPDwKL0EgPDwKL1MgL1VSSSAvVHlwZSAvQWN0aW9uIC9VUkkgKGh0dHBzOi8vdXBnaW5pLmNvbS8jZGF0YV9zb3VyY2VzKQo+PiAvQm9yZGVyIFsgMCAwIDAgXSAvUmVjdCBbIDUyLjExNjcgMzQzLjQxNDggODMuMDczNzMgMzUwLjkxNDggXSAvU3VidHlwZSAvTGluayAvVHlwZSAvQW5ub3QKPj4KZW5kb2JqCjM3IDAgb2JqCjw8Ci9BIDw8Ci9TIC9VUkkgL1R5cGUgL0FjdGlvbiAvVVJJIChodHRwczovL3VwZ2luaS5jb20vI2RhdGFfc291cmNlcykKPj4gL0JvcmRlciBbIDAgMCAwIF0gL1JlY3QgWyA1Mi4xMTY3IDMxOC40MTQ4IDgzLjA3MzczIDMyNS45MTQ4IF0gL1N1YnR5cGUgL0xpbmsgL1R5cGUgL0Fubm90Cj4+CmVuZG9iagozOCAwIG9iago8PAovQSA8PAovUyAvVVJJIC9UeXBlIC9BY3Rpb24gL1VSSSAoaHR0cHM6Ly91cGdpbmkuY29tLyNkYXRhX3NvdXJjZXMpCj4+IC9Cb3JkZXIgWyAwIDAgMCBdIC9SZWN0IFsgMTUgMjk3LjE2NDggNDQuMzAxNzYgMzA0LjY2NDggXSAvU3VidHlwZSAvTGluayAvVHlwZSAvQW5ub3QKPj4KZW5kb2JqCjM5IDAgb2JqCjw8Ci9BIDw8Ci9TIC9VUkkgL1R5cGUgL0FjdGlvbiAvVVJJIChodHRwczovL3VwZ2luaS5jb20vI2RhdGFfc291cmNlcykKPj4gL0JvcmRlciBbIDAgMCAwIF0gL1JlY3QgWyAxNSAyNzIuMTY0OCA0NS45NTcwMyAyNzkuNjY0OCBdIC9TdWJ0eXBlIC9MaW5rIC9UeXBlIC9Bbm5vdAo+PgplbmRvYmoKNDAgMCBvYmoKPDwKL0EgPDwKL1MgL1VSSSAvVHlwZSAvQWN0aW9uIC9VUkkgKGh0dHBzOi8vdXBnaW5pLmNvbS8jZGF0YV9zb3VyY2VzKQo+PiAvQm9yZGVyIFsgMCAwIDAgXSAvUmVjdCBbIDE1IDI0Ny4xNjQ4IDQ1Ljk1NzAzIDI1NC42NjQ4IF0gL1N1YnR5cGUgL0xpbmsgL1R5cGUgL0Fubm90Cj4+CmVuZG9iago0MSAwIG9iago8PAovQSA8PAovUyAvVVJJIC9UeXBlIC9BY3Rpb24gL1VSSSAobWFpbHRvOnNhbGVzQHVwZ2luaS5jb20pCj4+IC9Cb3JkZXIgWyAwIDAgMCBdIC9SZWN0IFsgMTU1LjkwMjMgMTY2LjQ3NzMgMjE3LjMyMzIgMTc3LjcyNzMgXSAvU3VidHlwZSAvTGluayAvVHlwZSAvQW5ub3QKPj4KZW5kb2JqCjQyIDAgb2JqCjw8Ci9Bbm5vdHMgWyAzMCAwIFIgMzEgMCBSIDMyIDAgUiAzMyAwIFIgMzQgMCBSIDM1IDAgUiAzNiAwIFIgMzcgMCBSIDM4IDAgUiAzOSAwIFIgCiAgNDAgMCBSIDQxIDAgUiBdIC9Db250ZW50cyA1OCAwIFIgL01lZGlhQm94IFsgMCAwIDU5NS4yNzU2IDg0MS44ODk4IF0gL1BhcmVudCA1NiAwIFIgL1Jlc291cmNlcyA8PAovRm9udCAxIDAgUiAvUHJvY1NldCBbIC9QREYgL1RleHQgL0ltYWdlQiAvSW1hZ2VDIC9JbWFnZUkgXQo+PiAvUm90YXRlIDAgCiAgL1RyYW5zIDw8Cgo+PiAvVHlwZSAvUGFnZQo+PgplbmRvYmoKNDMgMCBvYmoKPDwKL0ZpbHRlciBbIC9GbGF0ZURlY29kZSBdIC9MZW5ndGggNjg0Cj4+CnN0cmVhbQp4nHXVy2rbUBSF4bmeQsOWUpyjfUvAGHJpIINeaPoCjiynhlgSsj3I2/csLZMcSiuw9y9Lwh/2YC9uH+4e+t2xXvyYhvaxO9bbXb+ZusNwmtqufuqed32Vmnqza4/ns/m93a/HapEffnw9HLv9Q78dquWyXvzMFw/H6bX+cD0fn34OT8Nx+Jw/P72sp4/V4vu06aZd//z/Ox5P4/jS7bv+WF9Uq1W96bb5q76ux2/rfVcv/vnY+02/XseububzRHE7bLrDuG67ad0/d9Xy4mJVL+N+VXX95q9rqbnkM0/b9vd6Ot97kY9V7jT39RW6mfsmoaW4R4u2or3oKPqy6Kuir4u+Kfq26LuivxR9/96p8KdUdFN04U+FPxX+VPhT4U+FPxX+VPhT4U+FPxX+VPhT4W/ob+amv8Fv3tCfR27688hNfx656c8jN/155KY/j9z055Gb/gb/b0N/HrnpzyM3/Xnkpj+P3PTnkZv+PKql0C/wC/0Cv9Av8Av9Ar/QL/AL/QK/0C/wC/0Cv9Av8Av9Ar/QL/AL/QK/0C/wC/0Cv9Av8Av9Ar/Sr/Ar/Qq/0q/wK/0Kv9Kv8Cv9Cr/Sr/Ar/Qq/0q/wK/0Kv9Kv8Cv9Cr/Sr/Ar/Qq/0q/wK/0Kv9Fv8Bv9Br/Rb/Ab/Qa/0W/wG/0Gv9Fv8Bv9Br/Rb/Ab/Qa/0W/wG/0Gv9Fv8Bv9Br/Rb/Ab/Qa/0+/wO/0Ov9Pv8Dv9Dr/T7/A7/Q6/0+/wO/0Ov9Pv8Dv9Dr/T7/A7/Q6/0+/wO/0Ov9Pv8Dv9Dn/QH/AH/QF/0B/wB/0Bf9Af8Af9AX/QH/AH/QF/0B/wB/0Bf9Af8Af9AX/QH/AH/QF/0B/wB/3nDXHeBNgV2Hlve6g9TVNeUfNinBcPVs6u79525ziMeAqvP4f3o6xlbmRzdHJlYW0KZW5kb2JqCjQ0IDAgb2JqCjw8Ci9GaWx0ZXIgWyAvRmxhdGVEZWNvZGUgXSAvTGVuZ3RoIDEwMjIxIC9MZW5ndGgxIDE2ODQ4Cj4+CnN0cmVhbQp4nJ17B3xUxfb/zNyyu6lbstkUSHazJKEnpEoRg4I0BaSZgPSABoFAQm9SQwhROgSEAP5USCzcXWkBhfCkRsVQREVEsDyQh/KslGQn/zNzd5PdkPf+v8+PcGfuzL137pkzp3zPubMII4QC0SIkoAH9ByUkbV7i2AM9V+EYPW7ymKm6v/wqEMJd4AgdN3O6tc0ezXaEyGC4PnjC1Bcnz7o/+h1owzP4wxcnzZmwv6RnIkJiNkJp214aPya7duKFuQh1httR2kvQ4XdYFqD9GLRbvDR5+ux1r8X+A9ovwPPFk3LHjdl2oFyPUJdbcP3M5DGzp5L1gg6hxxVoW6eMmTy+U8mYP6BdDe9cNzU3f3rdZATvyshm16fmjZ/6xoSHZ6G9DMbrjQSxAK9BEkLSVikZeqLVWjiPJhB4gB3qv+uI1A1A1uFsFNbu2b9/T5SBUJ1LRhShCZqtBC7gHeya2ElSoGEFjsGQCPMBApCM/fjZIughcA3/n/9EoFhGGqRFOuSH/GHsQBSEgpEeGZARmVAIMqNQZEFhKBxFoEjUDDVHUSgaKLKhGGRHLVAsikPxqCVqhVqjNqgtaofaowSUiDqgJJSMUlAqSkPp6DHUEXWCpemCHkdd0RMw327oSfQU6o56oKdRT9QL9UZ9UF/0DHoW9UP90QD0HBqIBqHBaAgaip5HmSgLDUPD0QtoBBqJRqHRaAway3nQGm0HPhSh2egSrE4/uGsFXB2KUkgX9CFyotfQCbgrhI5GIeR1ZBVsyF/shELEV5EeeBsihyEzfhsZ5EoUJH8NvIB/CmrbV9ENyHRg/FrWIVy3XFnW3KETRo1sp+C2VmuPnO4KHt1OIW0V3NrWThHaWp9WhNinB2bas6xF1qLe2UXWp60vjclWxFhew4XxRVkJVgUNysyBcnCmTcnIiqw/HZ+V1amdIrJhRD5MURYMMNE9wEQ+ADzvaqdIbftaFSFuQOZzmcqi7pFKRvesSJvN2kOpHJCpVHaPtGVltVPkehqhXpATplKraavIrdspWnWEQZlKRqSCsoqK1JbdpiwqKoosghl42pW+7UMYNe7I8O4ADvQ4hBcN4FcW2W2RrMNus9uAwqzu7RRd276DMnsAiTYg0a+t0rJHO8W/rdIKqoC2jnhcaC0alFmRARI57pAWFQ7OrEAthVtTsyIVOwxuLTykR/V9bJaBbZWMwkNWNCzT0Qp1j6xArYRb3bPagTyDfgotYW0FWE0dSHQwmuYM0BsMxo5KgF5B1ayUeanjZWA1rHiPTIUkRDpIVNcs3kDQQMauWU6RIHjSKamVRq20vHL4BfzpDFB7AnmlEL0jKODPxA42m8EmGDA2YMGGU7FNaOnqQk6k0V/pYRzwIxEoxcTlkpSHb0oa1wIyq8ZAZrtGkpGFZCQIoICG1/1L+qd0AjSuNWjOFmd8p85s+Hi9IlSzMs1Nc3sgs72H5jRopDGahbT27G4hYV+wEC2QEU6/9mmswy9hH/LT+0FHkJ/AJmAgil+bTNtXkX9mKYLeEdbQdEYKfuyRNL3DKjbc1F7viG9oJnbAIbI9Ji41NSUtOSnUbE+Js8fIZnNIaHJSWmpsiFG0tjCmppAW9hiRaFKMLayi0RxCRHtMCyKOeq90+0fHXt/57rpRw0dOmjTyhREuvBObcAY27iylv+zaSe/syD+C++JFuM+RfXT/qZN0/wEyZMuuiwemKBff3DhuSNG8abOLBo9f9i795u23cey75Thm91v0ankVHnb6NH276iTdc/5znMmM7xhg6l/iH2DhgsHWKLoEzrBAYFggMEzRcbnQ6R0y9mJItRIIy9nQ45SCZODJPn8pUiIjYPI2s81gN9hSbYZkDCVZiSfRDbvpK3jxbtyt9iPhKWHoZjoWl27G22sCSxgdO+v+wvO4bAaAjXxU7Pyh4Q8UOWSp4bVYJvBaeJ9dSBZS0pJCQ+SYODx8d+A/zqZPeuyxSen4ddH88L12jz8+rDP3fgQVikZiB2MmggaEI5AEJ+ErDm9TNNWw1oq2GgYU7KZkiRXYHJWLi3EQK6XZdCv+tZAVfKxZMMxFoDkS7P5aleYAIDPAQ7MeGnpPg8/G6G5EQCOCCWTzADaD+UrzhDAHEhpYLFYrzbkyQulfDbN3aL2u+uuVoGpWGqsVrV4J4beFVitIr4Txnig2BxvQb0+1mWABTMkCO5LNdn7YoWUjLnp/wOoBd7GuByhd84GrB2LtwDUDP73Z40bNgDWlWNuD3sdb6QS8dSUeuwrvpKPZsYqWrqQTiB1zJ4PRlLpE0SBvAw+Xo3JAB1PTeSYdA40YNk8So2NMBnEKYOKk6LlQmbyECgxEuFczRq9EV7MyjpWOVthbt1Li4uPiQLXSU5PNofXaFRIqQiNE1pjtqXA5mSubkLl4yxcfH9u9cc+RQwV5sxYuxx3eee6TgxsOX6xYV7B0E571wsLkbud3vXkh5Jurljufvfr2vCkT5oybVTqx7Jzp2DHDzVOrNi0E6IJywO4slU4CCogAv54Cfnu+Ol8Bpih45muHhp0tMsiRXzWYFYdB9DUkXk27XmkOK5cAJ47WXv3N9Y4ODU1nqp3LZ2qCM12ws7P0hMQOJtWumFUrY1HtSmpKHLABp6RZ+RWr9wXGICkeW3J2L13+1u7FS8qLMvv0fH7ohqGk824s79lNa1lPr6HP9+6ZRTU55HSOWLK0/J3Cnst2716l6Td+7JDe/SZMGFh7fmnZnlU9l5btXiX3Hz9uSJ/+2eMG//GkmPckaO74ujviH2CbowD3JAPaeFQemkGjmUcJwqARxoQjphkTDmdrXTNWCTGtWaVvHcMqg9ppUm8JV6tQQzhjRDO9I9rLCNmiDaqMOTp4SwuwKp1LC2MYSIcGp4FsaCz2eBmY10JKSscaJjxCiCU9LU1l1fgZb4158sSeTSeycl/G3bvvnld9bUyf0y9+AYry5fq5dLtt95aYmTO7J2U/M3A0XpGjzJi5pufbH+5dnrlxYH+6YMmOuj0P8p/s8X3fqbgsbN6Sma8JP41eMyjx+a5PZeWCzrwo2pCL2yC9aoEktwUCYpnNcZkX443SWroGf8d1bDltTTbKLwPy1CElKEERuQAYjekWmQgavSnUoomLJ8vn/Htx3LojOvzqkBlxy+fcIf2/B7cx+Om5U2kK/WEIXUh/LB89rc/7eDAbMw7GTG80Jg4hRBOfZjSBZyLx6aFGI0mf8duy+K1HSOb2sfHL7s4iPb6jL9K3e0+biX/DCdYLOAdHDZjWm5bTbBizGRkjDAF7GAQomK+wCCss8rWvDgfgEAa4IhwEIgxeFZsugc2OtUgmjSDE4z70QnvcXrfFD7dqTz87Nf/wvgXCl8M2T8WZ9H+mlAynv43EVnpzuGpz+qF1Yop4AHxWpOqxmvBQvk6IlOJNdOJhOhFvOiwE7qUp+NO9uIyN1ZxewynoG8D5YWwsh9jgXti4iLE6nhuaELkgZ6S4fxy91mvpqt1rx1dxWmJJNAkkB0D6jQhWEJCxt6Fivi+QhuFbJHqzSvsa8HMz0XngejOVRxrgkYY5NiJ5PZnOvJmZubM1HfM6d87rOCYxIyOxfdeubAxj3VJBz32lCcZI8HGWiR0sdpzs2EFGly6Q26k+Lx/00g/0MhD41Vl9qx/c7ufRSm7CmFb66R0G7GuvfKajJ/YYIqTqjclJRlM81xSNgZuYdNHv2p2fr4vXfvnXNaFi2erXlpCVq1YuF8hkeoSeAKCXfA93w4/Ri/RU4L++vHyNfnXnxqUfYS7lQODX0kFApJ1UyiQgRnoUbCKJqYiY4BC8NJ4IEvf/NrtBSo1NJl8fpquIsbl4fuWe0zD2CFCxZJi3BeKmRx2yZ2yHxdsLVTsFvYW9Sq936Lwu6JnncpotevWFtlTssRXgflpw04KxTUyufRrfnzqkKL9oSwUWvv7kDgDbueSb5STxlR1D8tZtLz57/wvHl/RLmgX0jay7IzwA+uLQPNQAuzz0hUMjnM0dBXJrhxKcnyM8wrkD4WnOBHY2CuE8hsS8JT+Qg3ekd8R58ckUxzF4uF5pVg2lt9WEVU2GmejViXhsJPOjAFHdPhTmGW/HBauWbqqbvbrC9fG52/Mmzl5ah+gEWnd408KC17atXyUkkYI8jFZOe++nK/8Y5Wwbp7xy4p/XDuQXFS99pZCocpgK6zEA5NYPLESfJrwDNxdsxlgnMnpxgoN4TQ3QEGZoyKmV/Xlkwe9iEzDbuaJjAJsGjVBQVXXYlUOKT7oW45Oh+OfN9H08cLLwW21HUtWS6c9W0Id2QEdziIj4izG8GHuoqMe+WO8QvZioCcSMKE2CI8Ib+WoiWC+w3cBRcYgXwRrm4MF+mMASCcBaBvHBXccnh7q5ao/RaM71IbddH7R9ufD07T+uHP/TsNewZubi9TuWzenRgVwhl9+h+U/QB9dvUNfljxa8ory+zpHakvFyGcyhmeRAIciGnkMNAv3ILEAUsM8skHsWZh+pcTTzkQmzXRY19SSj1FQ9ihVA280egRD6x3xVh0LyTx/94a9z52ktfh4PujBqZ/QbcxasXis5tov3byyjf166QX/H3Vw98TpcJrmm5g3tvu/qoY2bKlRb+CzIQyysgwxo4VHd54vCZiDpfZQeuZUeYzuzr2Ks661/kKzaO8JXUq+Hh6SwEh4nTgX+BHHdtwE2da+zGYY0e8bnosekLV5n5iEk6Fc8HuGzukJEPJO04PgIN7Lw0hzFrHfE+DDNrTgcknmBDoHBMs43zFFqUhqw707+2LzlddUXXIvzxky9c7zyl82vP9y8fumSDfT25BXLry0vElMmlyd2+HDWR9dvfDjzaIfE8kmHvvqqdtfcrSX3X1stRqyYnrty5bVirlfZdXXCfT7XFmg4agiXPDM1QcPEw1+Tvxr+AhP5mclXYH0NPgQYjSwFA0x8VkwyDGY9kuypYD1iwf6nejC40LXTrtELj0zI/bTwqwdUoe+1iP/pb/rriO0tSufM3bCaLOoxeP6NwnW359OP6M9p9Hk6R9om3nyYN7jPgR+PbNl4vK4OFYCPnCx2B7to/BthDfi7e0I+w0r1gh3BHB1CcG8r8N9D4N54uOs7IR/LSB+APPdyx+a+F+StF/pYmCv2AXkL9ZI3uA5mn6MvLJnBVZmxluTVngOLtsx1As9bh+eeUO1XCV4tXBE+B+nSwPtAh1gkLCQ4kI/OexsNFQIwDCJcqT0qPMkOof0uV+VORk8BOiFcFfs20MOdOKNHqgbamIgzalKFSNfLwtDaclKEhaO0YB1dXsnp6Vv3lzAT1j0MZHxQEx7OCg0r83CRXjEzimQuzCnq0X/2ckj1cuDi0tPrvVya6hw0AJYbYu3xJOnZpYOn5EyYX0F+OPDRxTcm9z7uDr23zioavGLU5JxZk4a/cfoTx97ySc+V0I+9Y/GJtLN8WdoMfuFJNAkpSSqS0QLVWh5DVTuDk7SMyuAEp6QNZmdavaOjV2rGXK0k6R2RXj0Q/LauVlonOOxencF6RwbxEWQwahz+x6WnGdm8LILMUIwR2VhCRjaKrGXhAQIxGY3g4EUjljnSSTcxfshVAV/tP5KatqrPa+tMwXOO5Ty3aECKaf20YtlEK6jzLD2zzz9gDY4/P2x/l9iun+U8pCUfBARcw/PvPsDZ79f8HvRcZpfcFrj9YxkztuC/f6e39gwZdOuzt7Cwoc0Trss3r+/Dy3HJaVr49326/nhbe3580g28G0diEz549zodRte8VjJhlA7fa/6rystmEKQ2B1uqAe862OnnH8DTWnpFrG4MxRvnImRoyMw6aEXCWewj0E4/0Z1jsQkALJnNFYTPXKUrT5G2e0i7k65n8d37eD5dJikPB5AIUgbaAcBaLORxQCiKRplN+Nh6XGdB3KlaEhzBXu/UBnMIBq5L7yWcuJE5SjbYGtCKbMfQBCBji7WpvtVWhq/+cnd69syV9BY9jR8veJ1+TytxzMLNxavpj5JyonLC9ja2ikUnrpMy15+r5mLN1oWTZk8GvZwFvuMr0KtmqGcT1rQeLfvrlWCWhXEYfU1ouE8TIBcTONFuRYbUFCZJyGKPAxEiEKMbOXT+KpLe+JVSenYt9tt7C4dZjofv3nTo/Cnnznea4XM3a3AeTiv+BKe8RV0/vb+N/rvm1V/orbX7+LozXp8CXvsjswfbN8lpxr0AL8KAt4GNmSkaLSwJqREMYN5TIQiML8OvH8UtduAd9OsTF6uu3fv5sqTsoVVnR5yjVW8TyVizCofUDbmPTYTZM0bL05wWNyLhovUIuvMXWbKQ5bS8Daeo9wV7eofW144aWDzHD+G6ayX5tnacsN7Vjswiu1y12yWllLb10JAANOjApvxnwXfqCEeYukdokBu91O5+5aeu7ZVCgasTGUeWuhaw1wVxnzIXZOUqyEo0s2D/C1n5z/GVM0r1yVEJ+45FfR5FRuwLjopm1RNR/aFyNPemLFbmueJ4wGWwbhY7sUFg5pYn5m7Eq33oPcVJ72wmoLShP+LQ6Mo0eu34aXz92KQ3Uuleoj82MWc3TvnkFdwbT/z5MrbR32jdrL/od4kdcc9tyM1LScvX88Um1tMnhKwXM++VZvlICEZ0Cc67Ojxi3+e673RkmnO1jsUvOhbJ6HCe96LzQI6xHITRkCxpj7tiKivJteOwwqMkxfUayVNx40EoZvH4t/l/+UDBR0vGsyorJUV9LhXirU+hEYwSmkDMHAzwnHc1g5wBPoKQbFBhnRoQpQv+x2vOf/175cols9ZjSal5cP7OtTMLijetqOebxPk2vQlcywP+Ji2xJ8ftRIRB3AxDHzQMTURzURHaCoHyYaQd4ezIAj9ZYjY5w5QmPy0PlSfIM+UCeZP8tnxA1rHsu4azENYd20mkE1i44pbrYzLxn+StChoCjEwk1a4FtRc9tEIcoSAJtfov+uKtJSB8TCWS8UTirH31+HbQPXUceSC3+VlN8NZngRrEw9vb12fPeQCIRP5RSa38kBro6UgyzMwEPsgENd6Fr+KrDyqNNGY9tZtglWteEN8EJ5ROsmvGiyWuHa6zbOUb5FiHnnFiP6ZkTSwLJ6RJcfYosZNI6qcuXjHxwozRWBVV+/Hj5Ltj4tiaUiBki/gi2OaZdXckHdgGA1iHzk1E+PWMgPDL7GuGfKMx95eheNV/iEZzPM/EaLjCG9Ml3Rp6X3mX/r2erMP+7+7F/muOVR85cF64WHH4U4GUXabH95ThjudyLuAn3ymjx74gWMBm+q+/X66hN3Cwy+NHKnlsbkL9nX4hZjd+CKhuIs3tCc2c/gJuwpQLPi4R6GdWNEk0h4h2t3OOt+GcShJ+FwfTe/doGc7a+uabq+k20skFvuzPs5d+2r525ZJtAtA1uc5PkoGHZhQDdGntLVQUqIS76TIAKYaoRsLkFLQ8FWzwdcYAHq2N+KqRNLHyf+KtFViLC+ZgcSn9rNeAev4qwN/Kz47uPy+cx9MZfy/Sz4d+OudPYz2Py+nxLzD8szAeP6TX3TzeAzw+y3XEgsY5pTCe1pHYl5v/H0bzRPNOvYrR9L4YzZ8rCJOb0EfdF2O8rIGIHnt4T47R8uP4+7+xbv1SPPScawqOX122q4ReIc+6PpCU65cLq5JcmwLI7Q3zV6zBqu0cAH4uj+eqsp0ovmW9Dvm4BM9nLfDe7KuV7PuRMC6C+/0435gzgn/oiWgcS7Mwk6XVGn/dYYrgMcMpcWTovRvYdHXTvxYf37PltR2b8cufjaN3bm6iYJg+/p+SNzaRlT0/L3n3xvRP5yzbvCA3a96EeW/mOr7IP/PKsi3zL8+AeUFkKG7muDmhiQnVLwJMxQcoVHu4C652M217jLYTJ0jGh79KxlKVX8XAr3IY14ged0qmkHp++ZhFn+yXx/9484zpjow0mhgUDxZdzb0YxHJM664m36U/kqPv7/qf9ySlNuYcfagnmHwvXK+NK937fqnwDcvHw9xcPL/ymBNptPU0+ABEHyNYb+oQFriNi+WQP5mswjsvuH4sd/10vk50PByg2tXHweb/wueY1YSR8DGoPmrKkYNHtIOhEcxtPv+u7pTVKpBXMH9LOpBgSTcxOuI1jBj8Q7NW2PoGDm8Z/f1xumMvvWSx0LN76c5K/Enle8L9Wq1yQvjx4QAxNje35hvu/DHqCLw4x33yy00wwQfL+PgnT3oeOMJ0LENXgDaht9EBJIIbdnetlLfIZXKFDF0CYjLu1MnInaNiTpj/TybL8IjvaQr+8ke6lZb8gL+iyTeEJaS9q70rhjzmOkOukQuq7AQDrUeAVi1I56O0+uCHelCtkqe+kTnHZDIez79C/Sqp31XyBfmmNtd1g0QLa9n4Q2H8udwfPo0eHbIpn+8UEbc7Gr1D8urVSRpVSgAQpLJMhxl3FLrVXBWiau8K97ZvXyMuKX1VndM6eob4y4tAz1ogoJolIBshb8FH7MGxMtxN/I8doyvwHOnWg9klmkPqWC3rlgqPeb5/kAQfvUrswCSlpUJGK5LyQMU4OnoGL+Xvjuf34wT2tdlrIiw48gH+JpazAbChw3NpwfHj8qL7vUrkQjZWBvlaCOE6Fe+jUw2iX+3EGkFNXyuSupeAK1H50Xdxm1dw63fEIzSKfOlqxWkT63IENWPZDPmooC/kklgKqaR2krBh82ZVnsUr+IrMnrMjeJMzGOMR9Z/ZsF7NaO0LJtGEb8hgJFzZQel38Fgc4n71jnBb7IeiUEs032lp1ZqH4XrF6vZFFiDDEtGURtTH7sTC0Zk/rwADwOM+UbzR3+L2St5ZU4iB7D6QPy5eTZi2SE6u/6DCc00WQ4jFzHOLditLLLbU+y3+YOdnGP+8b/q0cQWH80/OPHJJjKP+z2+zr6XvTrcOLNi/quzIkDH52T2f25x55E0atDFT/+qwXtdOPz+WzZnZZCvwLAiFowlOY0QkI8/Idg4hsFYNCDSikTX0TZNIWoGD0gBB3TjVOPy3NIIY9ph4DcPjaVajgX8z0xiYHRetP1Z+NlVXXjEVF92oWLfy4IAh+5ZvIIb79OLaBTJyfbyKXqYu6aNz5bRt+Tm+5i/Amt2BNWuO+jr1UdH1sseTfhGNMJCPemn59ig93yqib0Qi43ByEMvyG1LdjOf5Cb5diXQdt0G7V5p5csq3tGb61xsO/Kbdq12d8+rrW5fOHjZiTzaOxyi69O/CK+/nrPik0n6kivF5FND5b+BzMIoAPodFsi/4SpjKZznBJzPrA/t9MZwkBHA+84rx2eTLZ59Pk6YUQMIW4LKdSRNRNz6kG9g0Rt05djS3olyXe+rDXypKCpTnBr1bWELiHuCEJSTlIZpeiFPuaw5Vl+LftlxQc2kjgP4/gM9m4PQkp5ZzmrHQg9M4iRGN1SFCyzOqERC+R3weAQF7o3SLVyrLaVLv1TYCbBL70uLJrtv4V6J0i4xjZI0tNS6OPHuV3pn37eKLt1128YOisYXJ0wrp11NLjCRKWxiCbb/H7HKtprep69mdJwc8mXleqPqf9UGvvq7azC4wsSrZDHMa7wwOtdTLDp+L1VvgI7xdduNZMsZjX0gd6GNHFVM1CBnLJ9lTk/n3D4tGFSb2le7mO+8cLs94wi8hddjYmzeFd1bnvn/UsEmXMzZvde0QzvvRdKjwO/A+HPxEgTMmNo7xKYbBSfQoiVwnPQ0ePYe4G9x8qVJk4V9wLDy34puAcZr5RWa3mvvKVsyjspXuTgHEp6tbapiYpTdI2ejbx0/l6soeXJhxvfPoWe+u2JxbefRfhzet2DtwSPkKEDcXblM8u+b6hd+zn89dX1I0YhFO+uPg+R3419cvqHgRTPl3oDMG1MfpZzTx9dF7fdqPaIQSeSMIGkENCQPm1fx8rE9aspWFynHql3oWrPaYdxI/L1TgnNxhhXEVFcLBzXSBK5V8OmPq6H61bFMKrAG4bPwSYH22F+8JpxwYxMYGSI+994M+IhnEs+VJ9t7IwHIwDZ8LhlRUnFE/D4idcHS7rl2HdenCda7uGO2Ls+CdASiUWTdLmPp1Alwa+g+GGZbaO0XINqyaqxVzgkMv+eBnvS0mPlVFzgL/Hscp6Ut/ejzFmtK1myk9NQ0IShM71fSmZ4wbtE8NEo/g6LZPeGjDjB9igMz2l8/wCtSs3gYrohF4apTP0fJ8jbkTapzRqUJ+gCPdlx9N55yS/RoSOukqmDw8vaJiHH7uBh2OL3+N/5pDl8modtQsnE27uIo4vdugGMKxgXd+zNpowdz5MVgSvrcbnlsFeH429y+znaKXf/HRuUeNX0Sj6fJGCDRCPI1IaERyjK/lX+4lXjHj4Z3fD2NgycIsRppbblM8cpvCvCag2k7SrKofBqa9NxNnyxUTF7xY6H/45oGnKsROs4vf7zearnC1IVXT8+e95EoiJ++8Xntb7FSvWzAvAxrs9Hfr1iPz8pmKx9k3jlB4AAv2wd9HyyyN1Qx3luef8VIzsVPhNm81Y2SBng0HPJICdAWjSNTDGdCsuXsntsk7H9DYSfq4QdEnwcH3ugH/ENv9J7PP9paQ+p0G8vAF363+Fhvm3Fh3ld49vLv41bfLilfuIfE7aBE9RwNLa4pxUq1u35VvTzu/vcLpK6ajxShOXwSa6jSpftzUkBPy0Ukey/rwL6SrL4xySgGNkNN/8+gqcmKCb+H+0Bs6RX1//OS0ijLdtLMf/1CxrXDP4EHvLN9ODPfohQWue9KV2cX0Cn0oHry00VWz4aLq00fR0cJd91wmN8Ik/92vcIEPabQKvujkfwFN0lnq8hFocvtkZa4WIODhEz9XbF/+1vOZbxSUkrg63Grx5IdxRJyNO9RqD19aR4yrv1DlmGyGOQSink4xKLhejrniNamf9d7C3+frilPn795DEacqFuexhWxu3eFAt4p9wvDdac2EDZrXXUjstGBtENMhhumOwLtZ/kfnlf/xWXbP9k6n0Myz3TeQ783T+/LHO9nZTK/YqtlWzhaNtvi2qN+02Wh/L9+DoO6hEcg0evOt/jf2Hvrp8OKx4/MmYvO7g25VLDkzrUJalZfzCo7uO6jL4OkDlh86uuGZKZk9n+redeic59fufeGt0SMmD+GxYd0dMlTKAFw0xhnkhYt4yO2ZF99A4Wl47Q9Sdwiy6NEreGXZXK3PfNnWICMzbgaGgfjym3nMwzCSAa+oqkrrZn2sd4/5C0+elDLow9WuMd26BWwK2VREdqzGMrfNhcD/q2A39OzrrsHom3/zIa1JV8RDBHUzGWkKKcRyaMNyTEw2QVaFlpPOv7cfV5y59HSF8vIrZ0+SSlePv0sFU80pTo8NbOphoKfJ3JKP+DWOppxI8skt4d9wwEd0/qt09kc1whM1p1Sb3QYh6SKcBqDRTokjkCbG95F1Hy1oOnRD/twASWrl5++mg+eWGCkmU7LYp7qCntxEH9ShTfTUoS9qN9YJnWtOCSm1n4qdai8LrYE2iNyFKqDN37PrwoconktqMnJuyCX58chZVqvGOSMTc/OCwHJG+N6/v6KlePLlhw+/xJNp6WWyF69y/ez6Fm+kLxM7sfC1CKV9BQXoCQbsiPjveZogi2NFn4UJYZQEMUPgswcEMaVVySD2+PhUC9vzAKT8WnuKPjv+qr1H0sicmFZ0YRUOFtrURNPfhcBN4jPjp4jtGS2ZwJsPgBbf3FJjmfy/5ZY6kTm1b5Ehrn1CyubNhUL4lqUqbsmg60ip/DgKQ0lOU3gEn39gAtswWb/bzRmtwSMcsuAVgskatwlkv9KxpyalpqaxaMtgDtGEms1GC5nt+ODSJbL3g7jzu3cL5+i6pJ8+PP3H2t+rD95Izn+K/rPqh6xhP52jvzzJadhLf8fd/+OeXJbOwt03bqS/y0dVmk1Ac56bZslNs3+CEpbgNPhz7GsAmg1As9GLZslo4DRb0kypKelAtx6ikVCLOSTZHMN8vsb0iWb//vNxDie+dGn/3ppu2O/qzcEDf/4ERzyVn3Sj4sLdtX9Uffh9Erx/KV4n3hVikAV1dxr4lwjUAHbCeB5LCeb5ghCfPbdsL00j6+Zf7f65U3vCzLSGG+1QC8hNqnj3yMpei8r6tO43eNehVc8UKxnNnxkl6Eq/Tt3Q4uWRZOe5jF1+ZPoo/vtNYjf21TxjHhXc5S8UruWQ9MS/De1Z/QUe+OfDSNcXukRtPjR19T8ahec0k2gAdPV+GEn76BLdvwRt+DdOKGa/ewNk2xsNF59GY3ANvCoY7SSrUaH4C5olLkRTpKsoR3yAxuPx6EXyIVpOzqA4IQ81E1eifngdak5SUSyJRGuEZ5AR7s+HoxyOEXCMhCMVjq1wLIPjWTimwpGN/40KsAO1Eg2ol5iNSkA9CoTTqK8mAU2UHoOxa1CZlIpmSU+gMrEYjknQzkdzpX2ojLRDB8WJKFUSob8fKpNr4Rr0S4vQTCmA15OB9j3iMTRAPIU6SImoWLKgZppw9Dg801E8h4LFKjSURKN1Qi/UEmqdkIkyhG1IJHPg+jB4fgEqFhPRC+JSNEp8HI0gp1EX6BstvoSK8W/oVfxz3TExCOrf0DaNgFYBPcXiGuAhe64YjSL7obZCvR3pxBxUKFxHNllAbYR7qJVwFoVCnQn3ZOA/0F6oTdI0xNR1LBqL/XA/+FuC95DWpFRIFNguOFlMFLPFIrFc/If4o1gr9ZFmS2fkDHmZ/E9NL81MzR3tYO1E7SLtTu0Z7S1dL92vfil+G/xu+yf65/mXB4QFZAcsCtgX6BfYPnB+4KGgoKBhQZXBUcFFwQeC7+tb6hfqLxlEQ1dDtmG+4Q1DleGfRtm4yHjdlGLaYKIhA0POmUPM/czbzH+G6kPnh56xhFkWWq6HRYUVhV0LjwsfGv5m+J2IpIhJEe9HnIqUI/txKRuHVkOsOhhJbpkLYjCTtACPqP6a+w32+2NRB+cjQYbUc4wCcIH7nKAgPNt9Lnj1i17nEorDA93nMmqG09znGpSB/nafs19y3naf+6MQdNl9HgBYTXGfB6IXgFL1PAix342/hKbD31TUCSXA3yz+1x6NgZ4xMLOX0Hho5aI89CJcnYRyoG88moLyocyHnmdQb/QU6oH6gQfsgdqhJLg7EXq978tGVoiXp0A9HsaxwtvYqFbUzesd1kbPtIWeofz+fOjPhV6re+yn4P486MuHcXLgeXZlINwxlt89HfrZ3T2hzAWaJ3H6x8H5ZJ8+9YlcuD8XnmejWWEsRlse1IzSyVDnoZehLxdNgNJ3RO/n20EL7AXMcRJ/pim6O6BklI468xb75Xd6o2e8x3sKjqloDp/li3x9PE91aESHFbg/BWbXnnNzEvwxXnieyuet8ZyfeWgmX4n2/AsD/1c3UbWHjf8pAW0UQF1OrCdtsNOAoTxo6JQYG6lH2jboIO7Vub0tBE4Pksxej7XkZ8LAp1JiQ9mZOPLZLm3C2ZmU1jYmPJidydNGPJ0Uyc40a2e90MnOzrQLXxzQMYKd6Qb3SIvjo/jNHN03rTk781+a3U+9L+BrZ9G4LuwsMEQfAMgIzoK6JMU3M7Cz4IyUVs35s/oB3VSqkNPor4EJqL/rdj4RgfOdo1jxCisSIvB0Z39W5LJiNSv2sqKOFdEReAZ7YgZ7YgZ7YoYzOIo9y4q7rIiOgvtGsWI1Kz5nRR0rnoiCm3NZkWCF+3KhAF7+P9Fx+UllbmRzdHJlYW0KZW5kb2JqCjQ1IDAgb2JqCjw8Ci9Bc2NlbnQgNzUwIC9DYXBIZWlnaHQgNzEwLjkzNzUgL0Rlc2NlbnQgLTI1MCAvRmxhZ3MgNCAvRm9udEJCb3ggWyAtNzM2LjgxNjQgLTI3MC45OTYxIDExNDguNDM4IDEwNTYuMTUyIF0gL0ZvbnRGaWxlMiA0NCAwIFIgCiAgL0ZvbnROYW1lIC9BQUFBQUErUm9ib3RvLVJlZ3VsYXIgL0l0YWxpY0FuZ2xlIDAgL01pc3NpbmdXaWR0aCA0NDMuMzU5NCAvU3RlbVYgODcgL1R5cGUgL0ZvbnREZXNjcmlwdG9yCj4+CmVuZG9iago0NiAwIG9iago8PAovQmFzZUZvbnQgL0FBQUFBQStSb2JvdG8tUmVndWxhciAvRmlyc3RDaGFyIDAgL0ZvbnREZXNjcmlwdG9yIDQ1IDAgUiAvTGFzdENoYXIgMTI3IC9OYW1lIC9GMiswIC9TdWJ0eXBlIC9UcnVlVHlwZSAKICAvVG9Vbmljb2RlIDQzIDAgUiAvVHlwZSAvRm9udCAvV2lkdGhzIFsgMCA3ODUuNjQ0NSA1MzQuMTc5NyAwIDAgMCAwIDAgMCAwIAogIDAgMCAwIDAgMCAwIDAgMCAwIDAgCiAgMCAwIDAgMCAwIDAgMCAwIDAgMCAKICAwIDAgMjQ3LjU1ODYgMjU3LjMyNDIgMzE5LjgyNDIgNjE1LjcyMjcgNTYxLjUyMzQgNzMyLjQyMTkgNjIxLjU4MiAxNzQuMzE2NCAKICAzNDEuNzk2OSAzNDcuNjU2MiA0MzAuNjY0MSA1NjYuODk0NSAxOTYuMjg5MSAyNzUuODc4OSAyNjMuMTgzNiA0MTIuMTA5NCA1NjEuNTIzNCA1NjEuNTIzNCAKICA1NjEuNTIzNCA1NjEuNTIzNCA1NjEuNTIzNCA1NjEuNTIzNCA1NjEuNTIzNCA1NjEuNTIzNCA1NjEuNTIzNCA1NjEuNTIzNCAyNDIuMTg3NSAyMTEuNDI1OCAKICA1MDguMzAwOCA1NDguODI4MSA1MjIuNDYwOSA0NzIuMTY4IDg5Ny45NDkyIDY1Mi4zNDM4IDYyMi41NTg2IDY1MC44Nzg5IDY1NS43NjE3IDU2OC4zNTk0IAogIDU1Mi43MzQ0IDY4MS4xNTIzIDcxMi44OTA2IDI3MS45NzI3IDU1MS43NTc4IDYyNi45NTMxIDUzOC4wODU5IDg3My4wNDY5IDcxMi44OTA2IDY4Ny41IAogIDYzMC44NTk0IDY4Ny41IDYxNS43MjI3IDU5My4yNjE3IDU5Ni42Nzk3IDY0OC40Mzc1IDYzNi4yMzA1IDg4Ny4yMDcgNjI2Ljk1MzEgNjAwLjU4NTkgCiAgNTk4LjYzMjggMjY1LjEzNjcgNDEwLjE1NjIgMjY1LjEzNjcgNDE3Ljk2ODggNDUxLjE3MTkgMzA5LjA4MiA1NDMuOTQ1MyA1NjEuMDM1MiA1MjMuNDM3NSAKICA1NjMuOTY0OCA1MjkuNzg1MiAzNDcuMTY4IDU2MS4wMzUyIDU1MC43ODEyIDI0Mi42NzU4IDIzOC43Njk1IDUwNi44MzU5IDI0Mi42NzU4IDg3Ni40NjQ4IAogIDU1MS43NTc4IDU3MC4zMTI1IDU2MS4wMzUyIDU2OC4zNTk0IDMzOC4zNzg5IDUxNS42MjUgMzI2LjY2MDIgNTUxLjI2OTUgNDg0LjM3NSA3NTEuNDY0OCAKICA0OTUuNjA1NSA0NzMuMTQ0NSA0OTUuNjA1NSAzMzguMzc4OSAyNDMuNjUyMyAzMzguMzc4OSA2ODAuMTc1OCA0NDMuMzU5NCBdCj4+CmVuZG9iago0NyAwIG9iago8PAovT3V0bGluZXMgNDkgMCBSIC9QYWdlTW9kZSAvVXNlTm9uZSAvUGFnZXMgNTYgMCBSIC9UeXBlIC9DYXRhbG9nCj4+CmVuZG9iago0OCAwIG9iago8PAovQXV0aG9yICgpIC9DcmVhdGlvbkRhdGUgKEQ6MjAyNTA5MzAxOTU4MzQrMDAnMDAnKSAvQ3JlYXRvciAoXCh1bnNwZWNpZmllZFwpKSAvS2V5d29yZHMgKCkgL01vZERhdGUgKEQ6MjAyNTA5MzAxOTU4MzQrMDAnMDAnKSAvUHJvZHVjZXIgKHhodG1sMnBkZiA8aHR0cHM6Ly9naXRodWIuY29tL3hodG1sMnBkZi94aHRtbDJwZGYvPikgCiAgL1N1YmplY3QgKCkgL1RpdGxlICgpIC9UcmFwcGVkIC9GYWxzZQo+PgplbmRvYmoKNDkgMCBvYmoKPDwKL0NvdW50IDMgL0ZpcnN0IDUwIDAgUiAvTGFzdCA1MCAwIFIgL1R5cGUgL091dGxpbmVzCj4+CmVuZG9iago1MCAwIG9iago8PAovQ291bnQgLTEgL0Rlc3QgWyAyOSAwIFIgL0ZpdCBdIC9GaXJzdCA1MSAwIFIgL0xhc3QgNTEgMCBSIC9QYXJlbnQgNDkgMCBSIC9UaXRsZSAoRGF0YSBzZWFyY2ggcmVwb3J0KQo+PgplbmRvYmoKNTEgMCBvYmoKPDwKL0NvdW50IC00IC9EZXN0IFsgMjkgMCBSIC9GaXQgXSAvRmlyc3QgNTIgMCBSIC9MYXN0IDU1IDAgUiAvUGFyZW50IDUwIDAgUiAvVGl0bGUgKEFsbCByZWxldmFudCBmZWF0dXJlcy4gQWNjdXJhY3kgYWZ0ZXIgZW5yaWNobWVudCkKPj4KZW5kb2JqCjUyIDAgb2JqCjw8Ci9EZXN0IFsgMjkgMCBSIC9GaXQgXSAvTmV4dCA1MyAwIFIgL1BhcmVudCA1MSAwIFIgL1RpdGxlIChBbGwgcmVsZXZhbnQgZmVhdHVyZXMuIEFjY3VyYWN5IGFmdGVyIGVucmljaG1lbnQpCj4+CmVuZG9iago1MyAwIG9iago8PAovRGVzdCBbIDI5IDAgUiAvRml0IF0gL05leHQgNTQgMCBSIC9QYXJlbnQgNTEgMCBSIC9QcmV2IDUyIDAgUiAvVGl0bGUgKFJlbGV2YW50IGRhdGEgc291cmNlcykKPj4KZW5kb2JqCjU0IDAgb2JqCjw8Ci9EZXN0IFsgMjkgMCBSIC9GaXQgXSAvTmV4dCA1NSAwIFIgL1BhcmVudCA1MSAwIFIgL1ByZXYgNTMgMCBSIC9UaXRsZSAoQWxsIHJlbGV2YW50IGZlYXR1cmVzLiBMaXN0aW5nIFwoMTkgaXRlbXNcKSkKPj4KZW5kb2JqCjU1IDAgb2JqCjw8Ci9EZXN0IFsgNDIgMCBSIC9GaXQgXSAvUGFyZW50IDUxIDAgUiAvUHJldiA1NCAwIFIgL1RpdGxlIChEZXNjcmlwdGlvbiBvZiBBdXRvRkUgZmVhdHVyZSBuYW1lcykKPj4KZW5kb2JqCjU2IDAgb2JqCjw8Ci9Db3VudCAyIC9LaWRzIFsgMjkgMCBSIDQyIDAgUiBdIC9UeXBlIC9QYWdlcwo+PgplbmRvYmoKNTcgMCBvYmoKPDwKL0ZpbHRlciBbIC9BU0NJSTg1RGVjb2RlIC9GbGF0ZURlY29kZSBdIC9MZW5ndGggNjA1Mgo+PgpzdHJlYW0KR2IiLyw+RWRnTSduNW5cXmU6U3BmJCEmPko6c1FbLFltQE1rckE0RUk6dFlbWSFmQ1draSwtOkhoUT41K0AkUiRMXlAjXmYkZ1RdWW9WYWEqdEVobSo8TmxdJlYvayJDQXNhKyE7UUJwcjhnIUMmLWIoN0pGWTVyMmZITDRScUtLb2hhaDVoIj04Xj0uPSFAWTZqN0JWW1dnJ0ticyxtKCIraTk4W1BhSFBsLkprMC5DX1JNXyRqbWQhSFdjbiJwci1cakNPJnBhLygzMyxVZ2haJy9jRFMjbktucjFrbCY7REg4bioiPy8sZVoiUkUmTmdla1s0NCxHUkI0NCk7WU0uLiJwTVtmcnJLI1E7SlheI19jKERlWjlkMEIyO3JkXk1GcEIvMjFJUUsoRW4oXHFCMVM6dUwkSFY+XzEsVlUnOjlzKTU9Lyg3aExLY1NbKihuaHB0U2tWcjtuLERtbSNZXGVyLk9obDImcjU+MVU9I2hEXzphRkwxN0poR2o3OGwlYVFoREJIWmxIRm1CdGVqKzIyL3MqTyU8X2o4Jj1xbDZPP3FIbztqVFIqUDQ8PSdQQipFNE45P3A0KzE3VjkrWEdDSnE3IlxjNjE4RzktPm0jNkJENy1SX1ktLDReJWpEaVNEUlRGa2F0LkgpUFNMXlA6aztBJkBsWWJPQSMuV1FNT2N1WlJzTWhPZUxzPldAWDhMWjIlZSgxIllJUmZScj5scF0sJ2FZTlg4WVY9NzksZz9bcXFTWVQhK1k0WEpdWzs6WDgiRkYuPE1fVj1EUG00RyspSDpGYmhtV18sbk1wPjgkQmpSdFpxYUlwTUNnVl1xXiJRMEpHUDFZYERJaShEWWlAUSJYS11jZComNFBHJi9ILSYpPW9kLygtPVxQaSxjOi5HUC9RKE1LLC87bEAtS048VnNiQj10VW4tTiU4SU1LPF06aGM6WEQtUiNqbDRdbCUtNUlGcnIoSkkzcUVdRFoyZSM8JFgjWmBIQWtsVExXZWVjKCMlbiVhPVciVjcrIi9ibmlGZk41XUI1ZF9CYFM1L09eZWFybURsTVlsXCdkV0MhXWBuKDRyNkwtdV4jJGVPUipnayJBP25WP2hDUCJfY2EmVFJbdTQ3b0kvcSU0JiVjSEE3KVs/PTo8bi9nXkIiPDVVQy1NKmYrNlFEMDVrMXFuTlJVKycmcloyK1FdQ1lsOzNuYjY/UGdFXzRfP3E5W1JzXFhoSytsPlRWM2kjJSJgWkVdPWpJU3I5V3NEKkA+P0teR1RQV29nbyREZWdhUz44WilNUSJBUzwmKFRkM1BzW104Kj5bNmlSJFVjIlg8SlZLSG8lLCNXXydrOEg0VF1bKzZ1LFA9dEdbdFE/Zkw2ND1lRCtubjtCWyg9TUpyWyZkUileZl5HYDtOWEdDSUpnQFFlakBqP102XEIqQkAjUSsnVDsnTFJcdHQiV3RxVCZZJ3FyTEleclM0aTVfMSY/WmpaSjFfK0dcXDNxWmk+QG8wbyJjO3NIPE1NXj49KTtlLClNYmReOHNXSktFRShqWWc9dT9EUV0oXD0zTi1oVExwXWNZXkBHZjsnazYtJ1ldczxZXkFhaSNlPXBuTlhSbjxsXGJ1LEZEXjUxbGZpRiNSK1E5PjJQakFqQWJMPSpQVTtyO1dXOWY4YFtlP1ZwQTYxSyFkRFNPYzpKKkIvLW9TTSMtQG5CNT8iMDhBaSFGN1ZYVWJWRnI9KyRbYGNWWCJOK1o3b1dPLTxCLy07Ri1GSFxvK1YmNT9pIj1YUzheal5TPUNPYEx0YCIzUWRlYkZjLGdiQU1tQl9HTkA4R2AuL1xaLTw7YW5sTCJKc0VwdDVmIilHZStYbmFXXltgRT11X0k9PEdmaGgoUiJiPGRIVChmQ143MWg5Qy9Qa290IylSZmlFPVRMKHBtVGAjcDU3ZlJgSCVdZzUjR0V1KFg4K0M0RVBHRUNbVWk/dSxEbzE0cnFHTXRWU0RwZSg7I19tVU04PS1zWCpNZy9AciNDSzssY0U7PWlPTGhUKUtsWnQvZm4oTilZZyhQRkhuQjQoZSg8Qk5mXlxtIy9iUDU7PzM/bGYyTXAqRjNuMCRURytBQDZXKisrTz05PF5YNk5NTDNfMU0nXSRbTj0nVEVTOE0xVFdQV1hfTVgwU3IxYCYiPDdha2AudDdNJ00iYEY8PlErRzpANUwwNTBPYCdDXidpKEk2ZmdmXENEQ29lKm81Y1hEcU4oZDJLR083RktpTzIoUFI3KD51Z3IwbTxHRzRURSZYMS8lZTVgPEovN2tuRXRnIi8+cktUdSJiZXAjQzZwUllSXlh1Ll5BUEY6XjhpKmBANm5OL3BbI0g+Pk9wWzNnJ0R1NEMmN0hJXnVrJGc/Qmw4NGVja1RHY1ZxJmZAM2dOa3IrTzBXK19SW2dPN1VxP2YjbDkjZSQtJlFtZkY9cGFfVCV0ay8+OTRkSVRySmZCOzBoc2VaSz0wZDhqNGJYQE8/QSksI19LVDc/IWJLbWRCVT9mPzo1WGMhRksuO2s5b2JFaFVGSDcjPnBFXmAyKm1QRCkjWk8oIWswU09mdTEuSEsib2FtS1ZhKS5OSCk+YDpCKXBSQ1ZYXWtBVnViZFgmVmtrYSpEY2RhdSlaPGtqLEZpM3VuOVlmSi1GOHJNOls6PTMhcWQ+V1Rgc25LXyYrUktvOSJTV2ByWXJzOTVlMzsqOFQ9XjNkbUJlNCdQPGxBJlxkREBbT2JAbHJfcW9JPUdEb0JgMTApITVNKlstZj1PMkVfIWgjZUkyclkkUjJtRkhUP0llWDpgSzxHLFJCXiQiQDtrZSQwJyE/cWNnYmtIMU0tSklIWFNJJDFeSDIzNFA4OGBKRCxiPmlhYilSMSNRMEU7KWkiTC4hc2pWWyEndGU8JF00VmJJVjNfWDctTilyK3E3STpmKV03KEg1ZylYNDUhO01xQHM8QCVRNSdUSDBrTU1uNUU2bHIrcjguV0knb3JwcmY6PSJEbSVJI0NqQ0VmWEEoNkcnJ2xmNk44ODkzLCdUMGRXRlA3UEBITV88OHJiSCxEVlVZbl50UVRzVyw5KydXNS8sREdjaCkxcFAwaFFyIz0xW1EiYkllR2AsZEI5SUwscGIjJEJnVVltcSNnO04yJUBRSF5WKzQ0aCxgW01jQF8+TjBlbmg3JVpzO09AKSc4bXRrQFdBdTU+UGMkVjcnTyprbSxNbjc3XnEyQlNnKz1jIm1IcDY3b0wxSFlBUUhpJUdpPSROdSozWm1lKEluaUM0W3NCXmUsUkAkKXRXNDFRX2g2N2NSSTBnQXUlRD9rUHM3UFFTVkg2MnNcXycwYTNMLkNiXzIuWV9TZ15CYy84NF5iU2ZIOl1xZWJOIzdhIV1vWE1nVVo6cF5vWG1WR1JUNyJMbStoTzlodXM9W2JeKVsqS0tYUTFfVEBeVjNsbkRGPzIsMVRhSCZgVC1tTXBCXEQyI09VRltxTygpQnROMk0rcmhvPDwobVpuLUAzLGFbRF5gQTs6VyprKEh1UURKSVgoTzZGTUArUCo4Q3RnMGQ5MVI1JEgvNWA4ZylcL1lFJTBAOFQzTFkhM2pFUDg1RTpKYzI1VmdIaUhuNlhBcGV0RWdYUSZjSDxgRjFJJTIsMGVHOEhXPlc+MyNTL1UvM3E8V0U0LXBpPD9ZKl5uW05vRk5QUGo6YGYnaEpEJy91NVpDYTJlN11Kb0whRUdETDMzR2ZVU2A7bmw9ZiRISWRTOmRJLDc+QlFsYC85aEY4UFosPXNMQy1KJkxYJVhTTDtjRmUlJF9SbV1lZTwtOE8xXDxOSFU5SiE1PkJLQFRGJUdtX1RwOTpjLnRCJ05FXVtsalI4TSwoLG1mV3A+JVUidSRgKzUjKTozRlpxa2hrYDY1clVGUlpCUyJtSzRQciFRLjFXZ3RyNXBvXTdMRV47Yz1iLkZeaSZhSidGU1BWRlIpKztZI0UrRUsrL10vcihwTj02MSIidD88KyNuNEZyYCtSLDxlUnU5R2ZZbUVBOkVePCI8QUxkZDVnMDVLIlJpV0EjIyxhLEM/alciW25kNkJVMjw7RiFSXjJCPTFbIUgnZSEsaC1WWUpPMjBdQWxDcl1dZiRuUDVPV0ttaU9MbDkjUDNBcDAzXHBcQCMucj1PaiowOE4mTyJxI2s3QkstJ0ZcWExAI0NXLWteb3RIQzg7VVxSQFElKGxBU0BWZDpwQj1gMm07ITtiYG5hNjxIOGAzZCk5KEZEWEwxO0tuRGQjRG9EMGk/bVE7Y3I3bUMtYVFkaT87MCZrZFA6bTEiIm8mPCo4QG5DLWdnJ25CZV9bcFpPMEA/W1JydUFwSnMhbS1vY2hxP1ctaFhxMWhySUQrQTVubD5IUE86bDMlNWFYW3JpLm1RS09ROkNCTiZQKjRgU0RJMzo7OCFgWSNiSysoLGgpR1FVTk8hT2YhRC5BL28mPmleOGVMP0c2VDhXb15xUVgyWCVkT2RyN25NUDVFN104Nkl1alInUzIjRUlMUFklSlhDU1YwcSMuT2U2JVlNWC5bZV9CQWwyU1QuITNGJ2pxcXVsUFlPLEFJO2F0WCZBXCtRWGZyUmhWMzQ7XDNTVSNfJEstdEJiXHE5NnVuRSc4YXEsZ2ZETitdcHItJy5faG9pP2EyJ0VqM15GVFNVTXNra2dGSUMyXFRpQS5cTy1kbWVoU1BsPEg4SG00V1BSYipiY1Y9YE10ckosXjRXaVBmZzVIXGlta1A7Y0RJJUNTRy05QkskWy5lMW5LXyJtP0pdYHI1NztkZV1wRSdPZlV0QSdfLDktZlpMVlokJlZARkVkTGVOP0giLDdyQlRfTilxSFw5Lyw2LWhjM25nbGspNEk3RXNFNkA4ISNkTj8wIUtSb1ZxOyJ0Ji9OYi1QQXBLUmVvPTQtQ3IyOk9vVU5fT0osLlNhKFVdYzp0XjJJX3RmMC9qbGJuaSFmWTguPTNZdGE5QVRCOidtYFVZMjsiaCg9J2VbdGNyX1lbOzxRMihqN0IvanVNTlIkJjtVNyZTKFFUbVl0O15YVk9fRyRMXT5Ta1o3azh1VDFPKFpCZDZhS1slQ2ZYRkxSQW5PJD86cSlMVm9kSEU3aG5nZ1dNO1hYNSQrYUpzI2U/IUMvZUcjOyhudV4jcWZrU1dpQls7U0RFbXFxWHVmczZfZ0BuTGVEO21RQmZzRTsoc2FtVmBLKzclJVRMYy1uQk8raWNSW3JhSFBNU1xdJD8xXUYiRTlVUDlvOmksZV4zVVxMJkUlKiVEayRbREIkUzohP20lWG5sOVY4Ji5xbFRGcWdCTEUlRk5FclxOZWRIY1wzQS5fOVxNPnFIT2M2IShObTtIUiswTzg3UThpITU+XjtvamN1UFEoYC4uYF4uWmkjS0hsQUlXcD5mUGVcYGgtVUJpN2doWkxDIVJrJiVPKmMrOm05bClcPz0qXWJmT2s6Vi8wQVhRKHFZV2xKUTNkRSM0SCxBcDUzYTxJcT9mckxoaT0rYUdETz5MamIyc0hlOCErYlIkYjJQLUVDT1g2bUJIVi9TUiN0K3IlZkEqRmxtcjhYPG80WXFHWSlhbWpAVllnI1NqMFtaZnJmTFdsNlgmRVFwZTdbKSFFNFJGOHNPYmp1aCJJNV9xRmVYcXBiTDxHQ0ZpY0lncl11YjJdMlM4Pz5mLXQrb2YhS1kzXEYuIWhuPnRsQjRYaCVeRk5lKEpDKUYqcihiNW4yS20xSTM6aywjPiMsc2I7UGdrZXAzcCU8MlQ/OCU+PkMoL0FBPVAqTFdQZTFZYVY4cSdrcVs4LVRNRT1wSUZBVjZtIzNraz5EUU5QJ1FLbksqSlpGUEBjW1UnTU4+QzFLXm0+JiRvKThtZWtAIUI9W1dHMT8sZVFTYEopYjtmJVVBZDdfUnBEUlsqRWpgM1wiUExYLCo1byRQXW01Q0ghT1xcNzVmVlJhW25mI1hYSyN1WlhRS0kya2RUWVgsPnImSU9JRTlYTz45V2FwRXFOSDswO15lNlNfXnVTRjJeQ2RVKkdgVj9haVAlb2RBZnVRPm80NUwvNW11W2NaQ0MpLWdFIjBKMidNQUktc1cmJmJ0ai9adDtYWDo5PlhERWRxMzgkPi01Ki5RYzYzTzNdaD4/J29bZms5SWRpQW1vOCpWVTBZY1puYSROPmU6XiNxYl0yOW0zaDMtZXJANCYoc0NcZzZXWDtpPT1xMGgvJEg4XzFcJTlsP28/Ky1nbmRASzFlbkgwNnFtU0RTazVdcmc0ZFYmO14vLz0oV2RzZkdcdHM0NGp0b3BzT0twaGReSk9ZcGc6YUwwRHFQPy9yQEpFTCpGXlghL28vTkZwYClwPScsSFhiakhlZWJLcUgnZl9lcktzdFwscG9RLVQ5cVdDWE1cNF9SXHVrVS5HIU5yQVNYciw/SFFfLjcvW1JZRV8uUklqRDAnaVVMQUhJZWRHLFl0KmYvYWAyU2tdaWRLbWViLi9MSllHY003Zls9dSRxInA+ayhHIl9NVG5sVypgKVVeKS5pI21mYGBiajIiX0hNLGpVbGNwPUItUUFYKjksTmIsZ1A3Nzd1Qj1WNVxpXDEpKF4wKlsiQnFlKCpxMjpLMThHZmE1Ik8nUGRRNConUkAxbEQqb0tiOVIqQWM2UzVZbCxhLSFcN25HciNKa3RaZWYjTilcZWZgaEtTXy9xMDIvXG0pKCFaaV9RNSRYLG9AXVBRMzhLQSJQc25uIVo4XjBuVSg5LFM5ajBmRF84PTVhNU0xUnBrYythOSpBZ0NiNSVZN0JXcnBvZzNgPlYvKDZoTiQjVnFlOjhDPDJyY21HPFQ2ND1WbjkpQEteSHI8Mjk1MTcnQFZTSEMmUUZHKmYpYFY2U1VWXSUsZVdORGUzaE10Ik43MzMyPj9nPWZPTS1MMidSY3AyZWpLVWwkbDIkJXFTPHBjTW1iWlNoKklnM21wZzdvXGlPNTlUZCl1SkRGKiNqNWBpZzg3dUJMWzY+UCQ3LkUjV1FVU0p1TF8nZW5DbFhSVz9DVCxncWwpUjNMKzIxMHNbNk5HdWBfaktGTyxERHNUMmpvY2ZYPTo+TVZDcV8pVUpiKiF1aVdUIS1hJ25AN3EmZlAtZ15iImswLUBKVyg6X0xnKyoxI2pXTk0uOiw1X0NIcyxHJTtfOE42ZWxSWWc2Uk0/KkEwY2FXUlJZNERKV1BHZkJqLVVgWlFBO2ErUT44ajNxKkVaS2xLQl9YcnUhP2tmdClPQzs6PD1XOG4hPV9VXS9OXDdhVUxdVVRdL2piKTs8ZktSN2I4cUtENDxKPkg3UjlaTCkzZ1xhZUttKi1sOzJET1YtS1hiTGVNW3I+dEE4ZWZBNk0uSmkoRlZGR0MtO2JzU0EkOXBOYyE2VWNnVF9sMGg3U140SVpLazlEQVBZYkI/W1NgLVpgI01fcGZANzxJSDtvUiVdVGBjWWVHOEdsPUczVjhQVCRTKGZqaVhvSyFPckYzaSQ8PmZRbkdjQSpTKlVjL1g5a0ZsN0E8OktiX3MkR2BTUmdBc1c1RVxmLWVVTCdFIidVNF1LOipVWUw+UDU0XkxjZyV0YUpkXVcrVF9dYGswWVNISTI0c28tbFg4I0pobFcjbDswZGdcRzd0RTs4NipBJF0pZ0MyXzVdZV9VY24sKS80Iy8waVFdIj9cOUcxNCtMKnE2ZCxtKGJSTyt0aD5pNkRqUHMwOEBXJTlfbTBtQiE3UXNfMC0uXlhsZls+Ry03LS8hRmQnaCksZVkzLSlFajk8dVoqcUo5PFtLTEswMGNLPSc2PVFKWVZfRy1SSkJyQltaLDohViRSVGVjSGtkPWc0QGVKaEhdL1c9X2JOWl1HdSRIWyNaPlJXR2Q7ZUBBIlJxIWIwW0ErXURNLFtxXDMrMUBtMjcwRlpUVllTYSkwLW1dWipEJlBmcWE7ZS50I2VgLDotcVtaTDhxaSEjXSt1LC0uaEFIXF9nbCJ0TVwpMkBkTktwY2BtVz1UYWNKOF87PSJlJVUkLUdrVkpGXTtfX1pCbzRhP1stP2YhZS1+PmVuZHN0cmVhbQplbmRvYmoKNTggMCBvYmoKPDwKL0ZpbHRlciBbIC9BU0NJSTg1RGVjb2RlIC9GbGF0ZURlY29kZSBdIC9MZW5ndGggNTQyNwo+PgpzdHJlYW0KR2IiLyw/JCMmNyduK3RIXystSFdaMmpaalZfaCxSUD45UWotSTI3WzFFJmxdKiUvMiVRL2o0Zm1nQmEuIURpZGFQcEs9Jy1HLEpMNl8mNDokL1RfaE1Ca1M3X1ovJ2BocGtYPkk9PCIybTQwKVAoPlopO1JgOSZgcEooO0FoNCtIN15KbllrTStVK29Vb1syNmk9MlQkZlxPPHFvWTRwKilDNzVjVTBTXz81QylrV1VkZjlgM0BxKEo9Y2JKN0d0XGpuWjclOzdRO3QkST5HTU9hO2otYTw/ZjE+WWtuI1pyKiNSS3BCYWteMjIlYT8yRzkvYTJzNmY9TjUtX2tDN2I2c2xDOnNCJGhzXDtZZkBQTS9tWEMmXTUpSi5NJnEkPi9wUyNAMkdDVyhxOVR1S3Q7bUBGYVNsKWE9MCNVTl9sTVNtNjU5VmByblBlMDFhPl01IihFJTYqcEchMycydWIxVzdSKToxSihRbVVPYSFNVm0tRF04czRNSi4yLXQtbEZOWlc5bzRJWipnSTA1R2Q0YW0pczAxPEk+YDgmO1UzPj5HZSdZbUEsXXQsP1BwTjVlTj1AbkJSLCYlU1hHYm1RVU1mWy1WUkZLWT81RUx0VypjWDJpUTMzc1ZNSkxbZGdxQFFcbGddT2tKTUshMCgqcjxrNz5hc0xFRzlxO3FqRmFINj4sKDRDLDdVOChBPSE0a0YqWEMiSUVtJUxmZks8bnE3a0xsPiM6YXA1KEYtSCVOdVw0ZUAjYV83byxXTDJnXCNEaV47IV8vKnFVKF1WOFw5TDw9ODpocDtiIkU8KUorU2gqJEdMMnMuUiQoITlSJ2leYEdPLSkvQihDV0pbJW06PlZoJFwuYGNJS1wjXT5OYyRlKmtMTy5pIUosbiVEaVBtNEJmaWsmX0hlMiUoXV9bcSJjL1Y9LE1BJj03SStcJy5JMUknSEtdN3AsaGclZmdsSDt0dUZeI3JaXTMvWWwkUj1PbFR1VkY7aHEjRTNnVl5iX3MxV1c7XVhhJHVFbWJiIjdEKEEqVTRYSCFUYlRNRD51ZVJnQUlyQUA3SylgTiZNZTw8I15ZPDldck8oVjA2RkhvJDxGUFxhY1tzUTwzcXVjRlxybkdqQUxEPE87Qkl1azc2K0ZWMF91SGoyIzg7Rlc5amxhZyo+LFQqWzBoYUFQMExHaXQ8K0hDN1tVY1ZwbSdUPkZwRDw8JVRDal9nTjVHRWw+cHJHZmouQzBKOU0+InBHW1pYcWdrK2lmQ0I6IThyP0ZdT2FbV087VFgrPjZmc2NROTVMQ1w4K1JgZTJHYmYlNFk3ZC1iTzxPSlI4WGtmdFUsWy5wdCw/YCRmS0UxRz1QM2g8clxuJFw6PE1rak1KKytKKUJQcUxRVDheXHAuZ0RqOm1kc2FGQVhPQ20nRWgsQk1hOiRTYEYsK1BeM14qR0dQdD1ZZSw+Lk9wOCZrUXRmJyk/Q0hWJihHYyxRT0RdIW9pSldNLUE9cF4wXkMsb28nZUppZl9DW19LMj1fZ11GV1dFb0dVW1FjRUdnTzZAVUY9a149W1ZjYz4pKFJAMG8yYF5aM1ZlPGNGK18sNSxzNkNdQiEkYTglaWFtY2kqMVpFYiNtNWNZTkBDWE9NdTI4aS9BVUg1UkVyRVFLKiRVXD9uc1AoJXRWMTkmbHJLRi1SWzxaKXI1LnJQT0BBMTBycT8uYS1FLyMkJ1w1NHNERjZxP3A6YD4rVCFcYzRCTWVGbV07dTJKOGtVQWEiQixiQSE6NysvLCE3ZEZVT01aUCRALkFkSyZUblJkWD8iWjo0YVw/SyElZS40LGBHdHVFRypGNG9AaFBKMUhDUjJKT1xtamYjXHMtUlhTbShMK046Q3FSbWJHWElaY2wtLkJMSkg8bkpZOXReSnMhS1wsblU7RTlRUkZJNC1gc0Q6OGBEWF9aVjpqWz1bZCYpMUJKLlRQWWNFY1MhYzc8Lm5jUDAkMyU9ZkJVY1ddQkNwaj9vNVVUPicsTmQnSVZxMTBzaGFGdUFPTDYtKGcnb2YyZHFFb3QkVmdUSXVTbUYvc0ZTNmA3XysxQDVnazlvPFNhVWE7Vzs6ZCk4PUcqWVhhaW5zUy5BYy4qQWFAUFcwMz5YLipOVjcvZkNYXjhHUiZOQTRZXihwUmJnTVo+XCtYbGRuODJybCheVjxAOC5pZEokdXUwLTtyXVsqXUQ5XFdvaUlaSFgpdS41IVxiaExOLEJEQjRwZEFsIW8uVi4lM1MuZSMkO0tjISZgMjI2K2FmNSNaUllRYDUmJS9GdWcraCJiQWJZMS1gYmFDbmdYLkJVc0w8YE9PMzE/NV0xOS1AQCdBZjNVJD1FZD8pb1hARzxZZkwlRlpjKVIjQitGKV5vK1pDQllBK21pcktESSRQQzInR102QTJRXilRVFdlSiV0RFEoOj47PU8zam9lWi5CWHJBOyFJQDRONShMaXNTOFsxb3V0ZUJxcWNbbGoxaVAvTU9VXFlaV0VlaXNnYCEzQW1qaCt0WS5xI0A2P2FpXFZ0ZXRzZ2Q/PV9SI1xWOUppQEg3P2g5cWN1Wlslc0dYR2YzVT9UOyw5USkjSldCYTshZCk4REozO1ptP3M5blAoaHEwOyZkaCx0MDpjR1swTmI0bk9bSWB1Xm5QXUZIQUBHYCNzN0JWXUEjKltFKyUuW1kxTjA7MEYkLHQwOmNHYS5tWypeV21MWl1HKFFEXXNiZmRuc2BcaWIwJDIiKzM3JyxfOjRmJydGVTQ+Oz9KRURrYEFrTEg4NkdKbEp1RDM5dTJbb0YtPV0lb0FNYDZjb2EyOmkkTiExZDBXSGo6Siw9I3RMRipsOVM4UTtTZzVGWDpQJTpaTUtyOm0hIUBVYm0xXWtdLy8hc2tAYlE3IiszNjxVaFU7LTlJLnBYT0xBUHFHKTEoMk9mIW1wTzslaXUnZURKbXFIc2dTQHFaKSEhdSw+Rk9Lc1A/QXE0YGxPZiFuXCYwKGlSJ2hnVThvTT8nXTFBRC9SWWphKCxfYGBbUzUlWW80NGpdP0lsI25UMiVPWUtZKjAjUGNKP0w+V1BcaFM4TThdMzJkWnQ8cCVlMzdNZGUkP0BNQlcob0pxXzZKKzcsXDZXK0xRQzVaLSlDLjRfb0UjMXNcMEJtUjhvYWNRUiJfMVglLSYrdVNEYiJuK05LaCM4Zm1OSC02MSZLVmxyWUROWiwtNUg+KiVfL043X3BzdGY5OFZOIXAjYj9TRjdWPGFlL2ZwRGtgQWtMSDg2Rz4yVSlHNE8zZTIlbTw5OyI3LSZHWkA1PklfLmVJLz5BMGhzaT5zOCIoLHVJMk5caW9LSzsnYlk1bWVBS0FVVihET09fRDxBJiFAcFdvNTU/JSRuZFwoMW1zbGZgLk9MIkwpPkhiSjwqNyVMPEcvYEB1KjFNX21KZi9mPkJrblAoamNsQiRCYDpwIjAvIWhzS1BPSG8kZStoL2o3Qmw2YVI6YiU0Wilkb0pIIUk7ZGBWPy1IPSlKKmJeNSUqSWFHTy91InA+UCQ/MUovLTRjQnFsMyE8VGdkaDFMNVxRVTxCYyFRMkUtWD1FL1pqY0dPPTVaJ0VMOTF1cEcrbG0uJkAjVTNLbTErIz1yOmxaZUxHNXU/O2UjLVAqXU1RJFU5ImA6JFxFTjtqKDAwM1Bcbj1sJm9WLkBwdC1vMUA5Y0BYRHEsR0BsclcqPDlcYTsnPmxuVFVNajtQS0YnWm9pZThQKj8jNy8+RytbI2tvZ0hyT1JMOWJEXjwyMDkwK0ImQHNgWEprakAqb1pyI240XDQ0dUoyYFJmWSxNNldsK0UuYz5fYk8/KTVxZWRKSExbKWhiSztaZFdPJGBqLSpCIUgwZVxbRjRJaHMtJC8lbiYyYTosW2kzR0g8NF02PWFFaCEuWidPPS0+S1xaNjNjW0pbWS1tV1M3X15SJis1UVc8LkRFKko+dWImLiQnRkRCM2tIKzpCblwjZGRBdTpZbD50X1EzYkFnO149bzU0NmI2Ly5EXFQnQExyK2BGQEpLRUdeb2NXZ1UiOkRVZGwhMjI/NzVlM2xDZytdVT5aJ1gqSjJPVXNsRzVgOWxwLGBpLWghc2daPT9gXy8tJkFFJmYlLHF0YCs7MkkjJkM7MG4wbkNUOU5sJD00bjs5ZFskJCQ0XUAjQkslZGdARk5uQUcubl9xWk0wYkFRXWpbMzVAbj9uPUw2PEN1Lm8vc1IuTEs7ayphPyZ0a0swYm5LN2JOPjlJZ0FQZFxuRFZfRyhyJz9IaVxCMXJlW0o5T2UzXj5WbjddRzFmV3NSTGJLJEFaXFRDI2NiNzBdM0knPWddO3JaXFFUNkRnITpOKChOaF8qPiQ6PGo7Ky46UTJHJydgUTw1b0FVaDxJQFRNLWlFYjI0Z1smS2RMPzBSXWFAaUVRdSI1SFNvUld1XEBQXz5tJWRKLFNCaE9UTFdcVi4tMFlgQDUmWEptNCpAS2Y2S2lQMm9GJFxSOzZEWHFCOGdCLkVrQyZUJ2VCM1dyNyYmQ2FKSU9hOTw4aldTVm5QR1dQNS4laEFBb00yVkMsc1FfW2ZfZCoiOF9hMFM3TUliPC8+ZU8wOWA/NSE0dWlPP2RTclA9Oz1SQVw1Xy9dImgrS1gla3RvPnRART9eKipZOSdETllsLzpmOUhJajI3Y1RnOlZBLGUsRnA2XidhY24+SEliVzc5XEhXZFthPSpTaj8nUk9tXG1DYU0oZWxnbWU1J0g4a2QkWC11ZW4qUj5GaTBsKlFZKWZfTCRuS2pAJnJcLz5WbktkPGdVcS43WEI0UjJhbmV1bUYqOF1QR0VudSRCXEFbNHNcJUdoXUpMa2U5XCRVYWloX11ZSHBnVE89TyJGaDVkcmJDX2gvITJiZl9vTkcvSWo6KFFUVWtzdD5BbipcIkhQU1RXTSlLOkI9T25kQjErcU5LdV5QVWtaNTwkOV0wNGVoJi5Wbj0+WGVHRHBLXD5MSXJeKltXJD43WWdnQUF1Pk91KCRlYllJJ2M2XVdyUHJwODNUQ0pyKjhqb3QzVElfUy8pST9dczFNOyRCPHAvOUFtbUdNIiVbZzdMQl1aKC0yWWlQZiRBakwzRS89WSxMOW81RC9rKUovPUlScV9JPj0tZk1iZVI0W0tFXDlnRFNmLC4xQl8vLENRLkhHVmxARkBjWCNTOkQiS1MkYFxPMj1BU14jSigzYG4+RHQnKyRoPV1DJ1AuJGlEJkdwRVZTOzRpQm5YUSdJQDZXX2lPMlAiaUVQRCdsR2JtYz9OSVVSTGtPWkRqWypMaSpsY3RzPEBHQG4mYEZubk0+JVotKFA0XCYzUVlpWExLSkduY2V1LCcwajhPPHFXSnBfY1hzaFwpYVhVUEJvYT1DJzBVP2UnbFosR0cvIU8mM15OTV1oV05ZaSxvJVtIKklpT3FhcSVoc19eUHUxRW9QLDI1QkE8JW5oRVJQJ3AqJWteZSI8KURtJTIvZzAsXC1kYyVzNG1kZ3RbTDJeVmtTMjtnIXQiRlExOkFCTzk9aDV0bE8xNFBUJTRYJ1cuYFBUJi1zKDtYLCo1QnRTJTshUCs8UW9kMDpkLnJESEM5WThaKGtzPl10MTtkU0I+PFEmJEhPU0k3aHR1Ny5fVUE3QDlpSSgvKT5GYUpxM2E1dWxuUFImYz5iO25aWS1WSyRwNlpHW1A1PSFLO29ISC5fP0BXbUAvYCJ0Ky8sOyNjP0I+VjdaZ2JGKEVxO148XT9jKDpIYDA4aWxNY0swJzRFO2xETi1PVS1LQF5yIkIwcG5XLylKNU9uMihYI1EmcWxdTUg9aiM0SDR1NyxidWxvaVo0UWk6WkopViNxPl5rX1cyXXVLbVA+NlEtK1FsYGN1LShOKWY5KDRFMmZDJSpKXXNOSWMtcVVhTkR1IipiXmhrPS8hQEBUYHApMV8uZmpPSl10JSUsYmg+UFRfMj0/Vlp1WVVWKFBhLSpka1xEaylXY0RRSVJga0Q7aTdATCo6dTIkVj9jT0lqQichcTgjVmNBZHBfYCJFLkAxXy5mak9KXXIvIXE4I1ZiKWheWjAuMEg9Oy1sNWs7S1g8VWJacSRWaEIkKipIVDRmK2FvWHJUcT1iL3UwbFYjYG9FOkpLbzw9RlZFSCNmSzFeMDI2bzw9RlZFSCNmSzFeMDI2bzw9RlZFRFZDQydSX3VNRWxOQ2BmZGI9UlcmN1oqVSMkaSM8STZdJD5mbVtoYmVNMkNOSWMtcVVhTkZlNFJEM0UqMVJyazlvMWFpQDVoIUJpN25UUDh1c2BYXTZQOyJBT29BPlFQMV8vLW5qQFtqXU5BLGslWnMsZ0xJPSImKkpkQj1ebT9jcERDKGdFLExAJCxoQT88aClwW0xGIUlKMFosU29tayVQZyopXi5xNDI8Sj0rOlpKKVYjcT5ea19XMl11S21Ual9iRypRbTlvIiVBTilmOSg0RTJmQ04ldD5SaiMlJWROS0JhTSlZOjImVmY/Wm5LSlkiK1Iic0tbTkl1OXNVYWBSZzRSRDNFKjBfVGk3Oi9mV1M+M2A5RE51U1BlPSpDW1syZ0snQ0grZyhXV0hZVF1PVVNhSjkpblctRDlNZmxYQztPMyQvM1IhYyQjbjAlUFEpRiEyWVNUXVc/QUBMWF82KVprJk9qKTZWQDNUL1U8OlNrL2dHVVRQJGdoOUQnPSNNJEskQGprPU5qL1pkM3I0Ok8hQXBaUyhNPF82OClDRXJKQiFpPWlYP3NuVztHKkpkJFJGMlMsajxmbVg/Yl5ZcjspbVhQWWlxcVQiS1lvLjJQPCEnaicwWUc9QSIkPz89XkZOIixtbEVkTjZCKWs0ZmdvbVM9WzBncFk7IyVRdFtHOGdWXmVfWkNkLS9PbVdKUGZYNmBPYl44OituTk5lQTVWIVpialVQZWBDbTZVQEBpbSQvMkMmbjM3W3BfXEAzU0IiWClLNTlfdVNBW2k2PiJhWUNPLz8lall1KVFmNzlKIW9uWU4oTDloNjxRLzdIR25ZITs0bkRcOzA2XldCLkdhIT9bYG9DZEJRZj1MZT9EQXQxIjU9WHUrbzs6Y0UvVnMrMEpYWT9XX2RjcD5nTSIiTio5dSk1ZHFKQFRhMWQiPXBSYVZDP1cuckpvW0BaLjxJLmMoKiFjRzNyQGdQVUdJcjpHcmRFWWsmKC5QbllCUzdqPF4yP15eME5iMUNNUy5MZEA6LjxIKE0wcn4+ZW5kc3RyZWFtCmVuZG9iagp4cmVmCjAgNTkKMDAwMDAwMDAwMCA2NTUzNSBmIAowMDAwMDAwMDczIDAwMDAwIG4gCjAwMDAwMDAxMTcgMDAwMDAgbiAKMDAwMDAwMDIyNCAwMDAwMCBuIAowMDAwMDAwMzg5IDAwMDAwIG4gCjAwMDAwMDA1NzMgMDAwMDAgbiAKMDAwMDAwMDgwMyAwMDAwMCBuIAowMDAwMDAwOTY4IDAwMDAwIG4gCjAwMDAwMDExNTIgMDAwMDAgbiAKMDAwMDAwMTM4MiAwMDAwMCBuIAowMDAwMDAxNjEyIDAwMDAwIG4gCjAwMDAwMDE3NzggMDAwMDAgbiAKMDAwMDAwMTk1OSAwMDAwMCBuIAowMDAwMDAyMTkwIDAwMDAwIG4gCjAwMDAwMDIzNjEgMDAwMDAgbiAKMDAwMDAwMjU0NiAwMDAwMCBuIAowMDAwMDAyNzc3IDAwMDAwIG4gCjAwMDAwMDI5NDMgMDAwMDAgbiAKMDAwMDAwMzEyNSAwMDAwMCBuIAowMDAwMDAzMzU2IDAwMDAwIG4gCjAwMDAwMDM1MjIgMDAwMDAgbiAKMDAwMDAwMzcwNCAwMDAwMCBuIAowMDAwMDAzOTM1IDAwMDAwIG4gCjAwMDAwMDQxMTcgMDAwMDAgbiAKMDAwMDAwNDI5OCAwMDAwMCBuIAowMDAwMDA0NDc5IDAwMDAwIG4gCjAwMDAwMDQ2NjQgMDAwMDAgbiAKMDAwMDAwNDg0NiAwMDAwMCBuIAowMDAwMDA1MDMxIDAwMDAwIG4gCjAwMDAwMDUyMTMgMDAwMDAgbiAKMDAwMDAwNTYxMiAwMDAwMCBuIAowMDAwMDA1Nzk0IDAwMDAwIG4gCjAwMDAwMDU5NzUgMDAwMDAgbiAKMDAwMDAwNjE1NiAwMDAwMCBuIAowMDAwMDA2MzM1IDAwMDAwIG4gCjAwMDAwMDY1MTQgMDAwMDAgbiAKMDAwMDAwNjY5MyAwMDAwMCBuIAowMDAwMDA2ODc3IDAwMDAwIG4gCjAwMDAwMDcwNjEgMDAwMDAgbiAKMDAwMDAwNzI0MCAwMDAwMCBuIAowMDAwMDA3NDE5IDAwMDAwIG4gCjAwMDAwMDc1OTggMDAwMDAgbiAKMDAwMDAwNzc3NCAwMDAwMCBuIAowMDAwMDA4MDc5IDAwMDAwIG4gCjAwMDAwMDg4MzkgMDAwMDAgbiAKMDAwMDAxOTE1MyAwMDAwMCBuIAowMDAwMDE5NDA2IDAwMDAwIG4gCjAwMDAwMjA1NTIgMDAwMDAgbiAKMDAwMDAyMDYzOSAwMDAwMCBuIAowMDAwMDIwODkyIDAwMDAwIG4gCjAwMDAwMjA5NjYgMDAwMDAgbiAKMDAwMDAyMTA5MCAwMDAwMCBuIAowMDAwMDIxMjQ0IDAwMDAwIG4gCjAwMDAwMjEzNzQgMDAwMDAgbiAKMDAwMDAyMTQ5MCAwMDAwMCBuIAowMDAwMDIxNjI4IDAwMDAwIG4gCjAwMDAwMjE3NDUgMDAwMDAgbiAKMDAwMDAyMTgxMyAwMDAwMCBuIAowMDAwMDI3OTU3IDAwMDAwIG4gCnRyYWlsZXIKPDwKL0lEIApbPDg3OWViMmUwMjM4OGIwMTE2ZDlkN2U4NTA5NTQ5Y2FhPjw4NzllYjJlMDIzODhiMDExNmQ5ZDdlODUwOTU0OWNhYT5dCiUgUmVwb3J0TGFiIGdlbmVyYXRlZCBQREYgZG9jdW1lbnQgLS0gZGlnZXN0IChodHRwOi8vd3d3LnJlcG9ydGxhYi5jb20pCgovSW5mbyA0OCAwIFIKL1Jvb3QgNDcgMCBSCi9TaXplIDU5Cj4+CnN0YXJ0eHJlZgozMzQ3NgolJUVPRgo=\" target=\"_blank\">\n",
              "            <button>📊 Download PDF report</button></a>"
            ]
          },
          "metadata": {}
        },
        {
          "output_type": "stream",
          "name": "stdout",
          "text": [
            "Unregistered-user limit: 1000 rows remaining; you requested 15213.\n"
          ]
        },
        {
          "output_type": "display_data",
          "data": {
            "text/plain": [
              "<IPython.core.display.HTML object>"
            ],
            "text/html": [
              "\n",
              "                <style>\n",
              "                    button.custom-button {\n",
              "                        border: 1px solid #d00 !important;\n",
              "                        background: #fff !important;\n",
              "                        color: #d00 !important;\n",
              "                        white-space: nowrap;\n",
              "                    }\n",
              "                </style>\n",
              "            "
            ]
          },
          "metadata": {}
        },
        {
          "output_type": "display_data",
          "data": {
            "text/plain": [
              "Button(description='Get an API KEY', layout=Layout(width='auto'), style=ButtonStyle(), tooltip='Register', _do…"
            ],
            "application/vnd.jupyter.widget-view+json": {
              "version_major": 2,
              "version_minor": 0,
              "model_id": "7e74d33940f04ef3a7a47b3af5afbad9"
            }
          },
          "metadata": {}
        },
        {
          "output_type": "display_data",
          "data": {
            "text/plain": [
              "[============================================================] 100% Finished"
            ],
            "text/html": [
              "<progress style='width:60ex' max='100' value='100'></progress>  100% Finished</br>"
            ]
          },
          "metadata": {}
        },
        {
          "output_type": "stream",
          "name": "stdout",
          "text": [
            "Unregistered-user limit: 1000 rows remaining; you requested 3787.\n"
          ]
        },
        {
          "output_type": "display_data",
          "data": {
            "text/plain": [
              "<IPython.core.display.HTML object>"
            ],
            "text/html": [
              "\n",
              "                <style>\n",
              "                    button.custom-button {\n",
              "                        border: 1px solid #d00 !important;\n",
              "                        background: #fff !important;\n",
              "                        color: #d00 !important;\n",
              "                        white-space: nowrap;\n",
              "                    }\n",
              "                </style>\n",
              "            "
            ]
          },
          "metadata": {}
        },
        {
          "output_type": "display_data",
          "data": {
            "text/plain": [
              "Button(description='Get an API KEY', layout=Layout(width='auto'), style=ButtonStyle(), tooltip='Register', _do…"
            ],
            "application/vnd.jupyter.widget-view+json": {
              "version_major": 2,
              "version_minor": 0,
              "model_id": "0daf8373a807415d9a2fccd7538cb98d"
            }
          },
          "metadata": {}
        },
        {
          "output_type": "error",
          "ename": "AttributeError",
          "evalue": "'NoneType' object has no attribute 'head'",
          "traceback": [
            "\u001b[0;31m---------------------------------------------------------------------------\u001b[0m",
            "\u001b[0;31mAttributeError\u001b[0m                            Traceback (most recent call last)",
            "\u001b[0;32m/tmp/ipython-input-732223281.py\u001b[0m in \u001b[0;36m<cell line: 0>\u001b[0;34m()\u001b[0m\n\u001b[1;32m      2\u001b[0m \u001b[0menriched_test_features\u001b[0m \u001b[0;34m=\u001b[0m \u001b[0menricher\u001b[0m\u001b[0;34m.\u001b[0m\u001b[0mtransform\u001b[0m\u001b[0;34m(\u001b[0m\u001b[0mtest_features\u001b[0m\u001b[0;34m,\u001b[0m \u001b[0mkeep_input\u001b[0m\u001b[0;34m=\u001b[0m\u001b[0;32mTrue\u001b[0m\u001b[0;34m)\u001b[0m\u001b[0;34m\u001b[0m\u001b[0;34m\u001b[0m\u001b[0m\n\u001b[1;32m      3\u001b[0m \u001b[0;34m\u001b[0m\u001b[0m\n\u001b[0;32m----> 4\u001b[0;31m \u001b[0menriched_train_features\u001b[0m\u001b[0;34m.\u001b[0m\u001b[0mhead\u001b[0m\u001b[0;34m(\u001b[0m\u001b[0;34m)\u001b[0m\u001b[0;34m\u001b[0m\u001b[0;34m\u001b[0m\u001b[0m\n\u001b[0m",
            "\u001b[0;31mAttributeError\u001b[0m: 'NoneType' object has no attribute 'head'"
          ]
        }
      ]
    },
    {
      "cell_type": "code",
      "source": [
        "model.fit(train_features, train_target)\n",
        "preds = model.predict(test_features)\n",
        "eval_metric(test_target.values, preds, \"SMAPE\")"
      ],
      "metadata": {
        "id": "fFlnsILGKMid"
      },
      "execution_count": null,
      "outputs": []
    },
    {
      "cell_type": "code",
      "source": [
        "model.fit(enriched_train_features, train_target)\n",
        "enriched_preds = model.predict(enriched_test_features)\n",
        "mape = eval_metric(test_target.values, enriched_preds, \"SMAPE\")"
      ],
      "metadata": {
        "id": "qb2vWEBIK0LR"
      },
      "execution_count": null,
      "outputs": []
    },
    {
      "cell_type": "code",
      "source": [
        "# 1. Install Libraries\n",
        "# - Install and update Upgini (for feature enrichment)\n",
        "# - Install and update CatBoost (for sales prediction modeling)\n",
        "\n",
        "# 2. Read & Prepare Data\n",
        "# - Load dataset from local file or GitHub\n",
        "# - Take a sample of 19,000 rows to reduce size\n",
        "# - Convert 'store' and 'item' to string\n",
        "# - Convert 'date' to datetime format\n",
        "# - Sort by date and reset index\n",
        "# - Display first 5 rows\n",
        "\n",
        "# 3. Split Data (Train/Test)\n",
        "# - Train set = rows before 2017\n",
        "# - Test set = rows from 2017 onwards\n",
        "# - Separate features (X) from target 'sales' (y)\n",
        "\n",
        "# 4. Feature Enrichment with Upgini\n",
        "# - Define 'date' as the time key\n",
        "# - Use time series cross-validation\n",
        "# - Fit the enricher on training data and validate on test data\n",
        "# - Goal: add external features (e.g., weather, holidays) to improve accuracy\n",
        "\n",
        "# 5. Define CatBoost Model\n",
        "# - Create CatBoost Regressor for numerical prediction\n",
        "# - Set verbose=False to hide logs\n",
        "# - Set random_state=0 for reproducibility\n",
        "\n",
        "# 6. Evaluate Upgini + CatBoost\n",
        "# - Measure model performance with MAPE (Mean Absolute Percentage Error)\n",
        "# - Purpose: compare accuracy before vs after enrichment\n",
        "\n",
        "# 7. Train Model Without Enrichment\n",
        "# - Train CatBoost on original train set\n",
        "# - Predict sales on test set\n",
        "# - Evaluate with SMAPE (Symmetric Mean Absolute Percentage Error)\n",
        "\n",
        "# 8. Train Model With Enriched Features\n",
        "# - Train CatBoost on enriched train set\n",
        "# - Predict on enriched test set\n",
        "# - Re-evaluate with SMAPE to check performance improvement\n"
      ],
      "metadata": {
        "id": "nB2R6LLzN3wx"
      },
      "execution_count": null,
      "outputs": []
    }
  ]
}